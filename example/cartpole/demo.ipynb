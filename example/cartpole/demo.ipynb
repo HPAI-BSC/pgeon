{
 "cells": [
  {
   "cell_type": "markdown",
   "metadata": {},
   "source": [
    "# XAI In Action - pgeon\n",
    "\n",
    "This notebook shows the current functionalities of the **pgeon** library."
   ]
  },
  {
   "cell_type": "markdown",
   "metadata": {},
   "source": [
    "## Preparation\n",
    "\n",
    "Loading an environment, an agent and a discretizer; the necessary elements to generate a Policy Graph."
   ]
  },
  {
   "cell_type": "code",
   "execution_count": 1,
   "metadata": {
    "ExecuteTime": {
     "end_time": "2023-12-16T19:00:05.774793Z",
     "start_time": "2023-12-16T19:00:05.330188Z"
    }
   },
   "outputs": [],
   "source": [
    "import gymnasium as gym\n",
    "\n",
    "from discretizer import CartpoleDiscretizer"
   ]
  },
  {
   "cell_type": "code",
   "execution_count": 2,
   "metadata": {
    "ExecuteTime": {
     "end_time": "2023-12-16T19:00:06.533311Z",
     "start_time": "2023-12-16T19:00:06.527995Z"
    },
    "collapsed": false,
    "jupyter": {
     "outputs_hidden": false
    },
    "pycharm": {
     "name": "#%%\n"
    }
   },
   "outputs": [],
   "source": [
    "environment = gym.make('CartPole-v1')\n",
    "discretizer = CartpoleDiscretizer()"
   ]
  },
  {
   "cell_type": "code",
   "execution_count": 3,
   "metadata": {
    "ExecuteTime": {
     "end_time": "2023-12-16T19:00:07.967189Z",
     "start_time": "2023-12-16T19:00:06.534588Z"
    },
    "collapsed": false,
    "jupyter": {
     "outputs_hidden": false
    },
    "pycharm": {
     "name": "#%%\n"
    }
   },
   "outputs": [],
   "source": [
    "from simple_agent import SimpleCartpoleAgent\n",
    "\n",
    "# Use the simple agent instead of loading large checkpoint files"
   ]
  },
  {
   "cell_type": "code",
   "execution_count": 4,
   "metadata": {
    "ExecuteTime": {
     "end_time": "2023-12-16T19:00:13.046555Z",
     "start_time": "2023-12-16T19:00:07.968642Z"
    },
    "collapsed": false,
    "jupyter": {
     "outputs_hidden": false
    },
    "pycharm": {
     "name": "#%%\n"
    },
    "scrolled": true
   },
   "outputs": [],
   "source": [
    "agent = SimpleCartpoleAgent()"
   ]
  },
  {
   "cell_type": "markdown",
   "metadata": {},
   "source": [
    "## Policy Graph generation"
   ]
  },
  {
   "cell_type": "code",
   "execution_count": 5,
   "metadata": {
    "ExecuteTime": {
     "end_time": "2023-12-16T19:00:13.048766Z",
     "start_time": "2023-12-16T19:00:13.041572Z"
    }
   },
   "outputs": [],
   "source": [
    "from pgeon import PolicyApproximatorFromBasicObservation, GraphRepresentation, PredicateBasedState"
   ]
  },
  {
   "cell_type": "markdown",
   "metadata": {},
   "source": [
    "Policy Graphs are instantiated with an environment and a discretizer."
   ]
  },
  {
   "cell_type": "code",
   "execution_count": 6,
   "metadata": {
    "ExecuteTime": {
     "end_time": "2023-12-16T19:00:13.054786Z",
     "start_time": "2023-12-16T19:00:13.048331Z"
    }
   },
   "outputs": [],
   "source": [
    "representation = GraphRepresentation()\n",
    "approximator = PolicyApproximatorFromBasicObservation(discretizer, representation, environment, agent)"
   ]
  },
  {
   "cell_type": "markdown",
   "metadata": {},
   "source": [
    "We generate a Policy Graph with the `fit()` function, in this case generating 1000 episode trajectories from our agent. If the PG has been previously fit, one can choose to update the PG with new trajectories (instead of re-generating the PG) with `update=True`."
   ]
  },
  {
   "cell_type": "code",
   "execution_count": 7,
   "metadata": {
    "ExecuteTime": {
     "end_time": "2023-12-16T19:00:40.404530Z",
     "start_time": "2023-12-16T19:00:13.052330Z"
    }
   },
   "outputs": [
    {
     "name": "stderr",
     "output_type": "stream",
     "text": [
      "Fitting policy approximator...:  16%|█▌        | 31/200 [00:00<00:03, 52.62it/s]"
     ]
    },
    {
     "name": "stderr",
     "output_type": "stream",
     "text": [
      "Fitting policy approximator...: 100%|██████████| 200/200 [00:02<00:00, 76.91it/s] \n"
     ]
    }
   ],
   "source": [
    "approximator.fit(n_episodes=200)\n",
    "pg = approximator.policy_representation"
   ]
  },
  {
   "cell_type": "code",
   "execution_count": 8,
   "metadata": {
    "ExecuteTime": {
     "end_time": "2023-12-16T19:00:40.407898Z",
     "start_time": "2023-12-16T19:00:40.405246Z"
    }
   },
   "outputs": [
    {
     "name": "stdout",
     "output_type": "stream",
     "text": [
      "Number of states: 14\n",
      "Number of transitions: 58\n"
     ]
    }
   ],
   "source": [
    "print(f'Number of states: {len(list(pg.states))}')\n",
    "print(f'Number of transitions: {len(list(pg.transitions))}')\n"
   ]
  },
  {
   "cell_type": "markdown",
   "metadata": {},
   "source": [
    "ach node has information about a discretized state:"
   ]
  },
  {
   "cell_type": "code",
   "execution_count": 9,
   "metadata": {
    "ExecuteTime": {
     "end_time": "2023-12-16T19:00:40.411352Z",
     "start_time": "2023-12-16T19:00:40.409174Z"
    }
   },
   "outputs": [
    {
     "name": "stdout",
     "output_type": "stream",
     "text": [
      "predicates=frozenset({Angle(STABILIZING_LEFT), Position(MIDDLE), Velocity(RIGHT)})\n",
      "  Times visited: 9052\n",
      "  p(s):          0.273\n"
     ]
    }
   ],
   "source": [
    "arbitrary_state = next(iter(pg.states))\n",
    "\n",
    "print(arbitrary_state)\n",
    "print(f'  Times visited: {pg.states[arbitrary_state].metadata.frequency}')\n",
    "print(f'  p(s):          {pg.states[arbitrary_state].metadata.probability:.3f}')"
   ]
  },
  {
   "cell_type": "markdown",
   "metadata": {},
   "source": [
    "Each edge has information about a transition between states:"
   ]
  },
  {
   "cell_type": "code",
   "execution_count": 10,
   "metadata": {
    "ExecuteTime": {
     "end_time": "2023-12-16T19:00:40.414950Z",
     "start_time": "2023-12-16T19:00:40.412542Z"
    }
   },
   "outputs": [
    {
     "name": "stdout",
     "output_type": "stream",
     "text": [
      "From:    predicates=frozenset({Angle(STABILIZING_LEFT), Position(MIDDLE), Velocity(RIGHT)})\n",
      "Action:  0\n",
      "To:      predicates=frozenset({Angle(STABILIZING_RIGHT), Position(MIDDLE), Velocity(RIGHT)})\n",
      "  Times visited:      5\n",
      "  p(s_to,a | s_from): 0.001\n"
     ]
    }
   ],
   "source": [
    "arbitrary_transition = next(iter(pg.transitions))\n",
    "# The transition is already a TransitionData object\n",
    "from_state = arbitrary_transition.from_state\n",
    "to_state = arbitrary_transition.to_state\n",
    "transition_data = arbitrary_transition\n",
    "\n",
    "print(f'From:    {from_state}')\n",
    "print(f'Action:  {transition_data.transition.action}')\n",
    "print(f'To:      {to_state}')\n",
    "print(f'  Times visited:      {transition_data.transition.frequency}')\n",
    "print(f'  p(s_to,a | s_from): {transition_data.transition.probability:.3f}')"
   ]
  },
  {
   "cell_type": "markdown",
   "metadata": {},
   "source": [
    "The `PolicyGraph` object also stores the full discretized episode trajectories of the last fit."
   ]
  },
  {
   "cell_type": "code",
   "execution_count": 11,
   "metadata": {
    "ExecuteTime": {
     "end_time": "2023-12-16T19:00:40.447422Z",
     "start_time": "2023-12-16T19:00:40.417545Z"
    }
   },
   "outputs": [
    {
     "data": {
      "text/plain": [
       "200"
      ]
     },
     "execution_count": 11,
     "metadata": {},
     "output_type": "execute_result"
    }
   ],
   "source": [
    "len(approximator._trajectories_of_last_fit)"
   ]
  },
  {
   "cell_type": "markdown",
   "metadata": {},
   "source": [
    "Each trajectory is stored as a (state0, action0, state1, ..., stateN) tuple ."
   ]
  },
  {
   "cell_type": "code",
   "execution_count": 12,
   "metadata": {
    "ExecuteTime": {
     "end_time": "2023-12-16T19:00:40.447844Z",
     "start_time": "2023-12-16T19:00:40.426015Z"
    }
   },
   "outputs": [
    {
     "data": {
      "text/plain": [
       "[(Position(MIDDLE), Velocity(LEFT), Angle(STUCK_LEFT)),\n",
       " 0,\n",
       " (Position(MIDDLE), Velocity(LEFT), Angle(STABILIZING_RIGHT)),\n",
       " 0,\n",
       " (Position(MIDDLE), Velocity(LEFT), Angle(STABILIZING_RIGHT)),\n",
       " 0,\n",
       " (Position(MIDDLE), Velocity(LEFT), Angle(STABILIZING_RIGHT)),\n",
       " 0,\n",
       " (Position(MIDDLE), Velocity(LEFT), Angle(STABILIZING_RIGHT)),\n",
       " 0,\n",
       " (Position(MIDDLE), Velocity(LEFT), Angle(FALLING_RIGHT)),\n",
       " 1,\n",
       " (Position(MIDDLE), Velocity(LEFT), Angle(FALLING_RIGHT)),\n",
       " 1,\n",
       " (Position(MIDDLE), Velocity(LEFT), Angle(FALLING_RIGHT)),\n",
       " 1,\n",
       " (Position(MIDDLE), Velocity(LEFT), Angle(FALLING_RIGHT)),\n",
       " 1,\n",
       " (Position(MIDDLE), Velocity(LEFT), Angle(FALLING_RIGHT)),\n",
       " 1,\n",
       " (Position(MIDDLE), Velocity(LEFT), Angle(STUCK_RIGHT)),\n",
       " 0,\n",
       " (Position(MIDDLE), Velocity(LEFT), Angle(FALLING_RIGHT)),\n",
       " 1,\n",
       " (Position(MIDDLE), Velocity(LEFT), Angle(STUCK_RIGHT)),\n",
       " 1,\n",
       " (Position(MIDDLE), Velocity(RIGHT), Angle(STABILIZING_LEFT)),\n",
       " 0,\n",
       " (Position(MIDDLE), Velocity(LEFT), Angle(STUCK_RIGHT)),\n",
       " 1,\n",
       " (Position(MIDDLE), Velocity(RIGHT), Angle(STABILIZING_LEFT)),\n",
       " 0,\n",
       " (Position(MIDDLE), Velocity(LEFT), Angle(FALLING_RIGHT)),\n",
       " 1,\n",
       " (Position(MIDDLE), Velocity(RIGHT), Angle(STABILIZING_LEFT)),\n",
       " 0,\n",
       " (Position(MIDDLE), Velocity(LEFT), Angle(FALLING_RIGHT)),\n",
       " 1,\n",
       " (Position(MIDDLE), Velocity(RIGHT), Angle(STUCK_RIGHT)),\n",
       " 0,\n",
       " (Position(MIDDLE), Velocity(LEFT), Angle(FALLING_RIGHT)),\n",
       " 1,\n",
       " (Position(MIDDLE), Velocity(RIGHT), Angle(STUCK_RIGHT)),\n",
       " 0,\n",
       " (Position(MIDDLE), Velocity(LEFT), Angle(FALLING_RIGHT)),\n",
       " 1,\n",
       " (Position(MIDDLE), Velocity(RIGHT), Angle(STUCK_RIGHT)),\n",
       " 1,\n",
       " (Position(MIDDLE), Velocity(RIGHT), Angle(STABILIZING_LEFT)),\n",
       " 0,\n",
       " (Position(MIDDLE), Velocity(RIGHT), Angle(STUCK_RIGHT)),\n",
       " 1,\n",
       " (Position(MIDDLE), Velocity(RIGHT), Angle(STABILIZING_LEFT)),\n",
       " 0,\n",
       " (Position(MIDDLE), Velocity(RIGHT), Angle(FALLING_RIGHT)),\n",
       " 1,\n",
       " (Position(MIDDLE), Velocity(RIGHT), Angle(STABILIZING_LEFT)),\n",
       " 0,\n",
       " (Position(MIDDLE), Velocity(RIGHT), Angle(FALLING_RIGHT)),\n",
       " 1,\n",
       " (Position(MIDDLE), Velocity(RIGHT), Angle(STUCK_RIGHT)),\n",
       " 0,\n",
       " (Position(MIDDLE), Velocity(RIGHT), Angle(FALLING_RIGHT)),\n",
       " 1,\n",
       " (Position(MIDDLE), Velocity(RIGHT), Angle(STUCK_RIGHT)),\n",
       " 1,\n",
       " (Position(MIDDLE), Velocity(RIGHT), Angle(STABILIZING_LEFT)),\n",
       " 0,\n",
       " (Position(MIDDLE), Velocity(RIGHT), Angle(STUCK_RIGHT)),\n",
       " 1,\n",
       " (Position(MIDDLE), Velocity(RIGHT), Angle(STABILIZING_LEFT)),\n",
       " 0,\n",
       " (Position(MIDDLE), Velocity(RIGHT), Angle(FALLING_RIGHT)),\n",
       " 1,\n",
       " (Position(MIDDLE), Velocity(RIGHT), Angle(STABILIZING_LEFT)),\n",
       " 0,\n",
       " (Position(MIDDLE), Velocity(RIGHT), Angle(FALLING_RIGHT)),\n",
       " 1,\n",
       " (Position(MIDDLE), Velocity(RIGHT), Angle(STUCK_RIGHT)),\n",
       " 0,\n",
       " (Position(MIDDLE), Velocity(RIGHT), Angle(FALLING_RIGHT)),\n",
       " 1,\n",
       " (Position(MIDDLE), Velocity(RIGHT), Angle(STUCK_RIGHT)),\n",
       " 0,\n",
       " (Position(MIDDLE), Velocity(RIGHT), Angle(FALLING_RIGHT)),\n",
       " 1,\n",
       " (Position(MIDDLE), Velocity(RIGHT), Angle(STUCK_RIGHT)),\n",
       " 1,\n",
       " (Position(MIDDLE), Velocity(RIGHT), Angle(STABILIZING_LEFT)),\n",
       " 0,\n",
       " (Position(MIDDLE), Velocity(RIGHT), Angle(STUCK_RIGHT)),\n",
       " 1,\n",
       " (Position(MIDDLE), Velocity(RIGHT), Angle(STABILIZING_LEFT)),\n",
       " 0,\n",
       " (Position(MIDDLE), Velocity(RIGHT), Angle(FALLING_RIGHT)),\n",
       " 1,\n",
       " (Position(MIDDLE), Velocity(RIGHT), Angle(STABILIZING_LEFT)),\n",
       " 0,\n",
       " (Position(MIDDLE), Velocity(RIGHT), Angle(FALLING_RIGHT)),\n",
       " 1,\n",
       " (Position(MIDDLE), Velocity(RIGHT), Angle(STUCK_RIGHT)),\n",
       " 0,\n",
       " (Position(MIDDLE), Velocity(RIGHT), Angle(FALLING_RIGHT)),\n",
       " 1,\n",
       " (Position(MIDDLE), Velocity(RIGHT), Angle(STUCK_RIGHT)),\n",
       " 1,\n",
       " (Position(MIDDLE), Velocity(RIGHT), Angle(STABILIZING_LEFT)),\n",
       " 0,\n",
       " (Position(MIDDLE), Velocity(RIGHT), Angle(STUCK_RIGHT)),\n",
       " 1,\n",
       " (Position(MIDDLE), Velocity(RIGHT), Angle(STABILIZING_LEFT)),\n",
       " 0,\n",
       " (Position(MIDDLE), Velocity(RIGHT), Angle(FALLING_RIGHT)),\n",
       " 1,\n",
       " (Position(MIDDLE), Velocity(RIGHT), Angle(STABILIZING_LEFT)),\n",
       " 0,\n",
       " (Position(MIDDLE), Velocity(RIGHT), Angle(FALLING_RIGHT)),\n",
       " 1,\n",
       " (Position(MIDDLE), Velocity(RIGHT), Angle(STUCK_RIGHT)),\n",
       " 0,\n",
       " (Position(MIDDLE), Velocity(RIGHT), Angle(FALLING_RIGHT)),\n",
       " 1,\n",
       " (Position(MIDDLE), Velocity(RIGHT), Angle(STUCK_RIGHT)),\n",
       " 1,\n",
       " (Position(MIDDLE), Velocity(RIGHT), Angle(STABILIZING_LEFT)),\n",
       " 0,\n",
       " (Position(MIDDLE), Velocity(RIGHT), Angle(STUCK_RIGHT)),\n",
       " 1,\n",
       " (Position(MIDDLE), Velocity(RIGHT), Angle(STABILIZING_LEFT)),\n",
       " 0,\n",
       " (Position(MIDDLE), Velocity(RIGHT), Angle(FALLING_RIGHT)),\n",
       " 1,\n",
       " (Position(MIDDLE), Velocity(RIGHT), Angle(STUCK_RIGHT)),\n",
       " 0,\n",
       " (Position(MIDDLE), Velocity(RIGHT), Angle(FALLING_RIGHT)),\n",
       " 1,\n",
       " (Position(MIDDLE), Velocity(RIGHT), Angle(STUCK_RIGHT)),\n",
       " 0,\n",
       " (Position(MIDDLE), Velocity(RIGHT), Angle(FALLING_RIGHT)),\n",
       " 1,\n",
       " (Position(MIDDLE), Velocity(RIGHT), Angle(STUCK_RIGHT)),\n",
       " 1,\n",
       " (Position(MIDDLE), Velocity(RIGHT), Angle(STABILIZING_LEFT)),\n",
       " 0,\n",
       " (Position(MIDDLE), Velocity(RIGHT), Angle(FALLING_RIGHT)),\n",
       " 1,\n",
       " (Position(MIDDLE), Velocity(RIGHT), Angle(STABILIZING_LEFT)),\n",
       " 0,\n",
       " (Position(MIDDLE), Velocity(RIGHT), Angle(FALLING_RIGHT)),\n",
       " 1,\n",
       " (Position(MIDDLE), Velocity(RIGHT), Angle(STUCK_RIGHT)),\n",
       " 0,\n",
       " (Position(MIDDLE), Velocity(RIGHT), Angle(FALLING_RIGHT)),\n",
       " 1,\n",
       " (Position(MIDDLE), Velocity(RIGHT), Angle(STUCK_RIGHT)),\n",
       " 1,\n",
       " (Position(MIDDLE), Velocity(RIGHT), Angle(STABILIZING_LEFT)),\n",
       " 0,\n",
       " (Position(MIDDLE), Velocity(RIGHT), Angle(STUCK_RIGHT)),\n",
       " 1,\n",
       " (Position(MIDDLE), Velocity(RIGHT), Angle(STABILIZING_LEFT)),\n",
       " 0,\n",
       " (Position(MIDDLE), Velocity(RIGHT), Angle(FALLING_RIGHT)),\n",
       " 1,\n",
       " (Position(MIDDLE), Velocity(RIGHT), Angle(STUCK_RIGHT)),\n",
       " 0,\n",
       " (Position(MIDDLE), Velocity(RIGHT), Angle(FALLING_RIGHT)),\n",
       " 1,\n",
       " (Position(MIDDLE), Velocity(RIGHT), Angle(STUCK_RIGHT)),\n",
       " 0,\n",
       " (Position(MIDDLE), Velocity(RIGHT), Angle(FALLING_RIGHT)),\n",
       " 1,\n",
       " (Position(MIDDLE), Velocity(RIGHT), Angle(STUCK_RIGHT)),\n",
       " 1,\n",
       " (Position(MIDDLE), Velocity(RIGHT), Angle(STABILIZING_LEFT)),\n",
       " 0,\n",
       " (Position(MIDDLE), Velocity(RIGHT), Angle(FALLING_RIGHT)),\n",
       " 1,\n",
       " (Position(MIDDLE), Velocity(RIGHT), Angle(STABILIZING_LEFT)),\n",
       " 0,\n",
       " (Position(MIDDLE), Velocity(RIGHT), Angle(FALLING_RIGHT)),\n",
       " 1,\n",
       " (Position(MIDDLE), Velocity(RIGHT), Angle(STUCK_RIGHT)),\n",
       " 0,\n",
       " (Position(MIDDLE), Velocity(RIGHT), Angle(FALLING_RIGHT)),\n",
       " 1,\n",
       " (Position(MIDDLE), Velocity(RIGHT), Angle(STUCK_RIGHT)),\n",
       " 1,\n",
       " (Position(MIDDLE), Velocity(RIGHT), Angle(STABILIZING_LEFT)),\n",
       " 0,\n",
       " (Position(MIDDLE), Velocity(RIGHT), Angle(FALLING_RIGHT)),\n",
       " 1,\n",
       " (Position(MIDDLE), Velocity(RIGHT), Angle(STABILIZING_LEFT)),\n",
       " 0,\n",
       " (Position(MIDDLE), Velocity(RIGHT), Angle(FALLING_RIGHT)),\n",
       " 1,\n",
       " (Position(MIDDLE), Velocity(RIGHT), Angle(STUCK_RIGHT)),\n",
       " 0,\n",
       " (Position(MIDDLE), Velocity(RIGHT), Angle(FALLING_RIGHT)),\n",
       " 1,\n",
       " (Position(MIDDLE), Velocity(RIGHT), Angle(STUCK_RIGHT)),\n",
       " 1,\n",
       " (Position(MIDDLE), Velocity(RIGHT), Angle(STABILIZING_LEFT)),\n",
       " 0,\n",
       " (Position(MIDDLE), Velocity(RIGHT), Angle(FALLING_RIGHT)),\n",
       " 1,\n",
       " (Position(MIDDLE), Velocity(RIGHT), Angle(STUCK_RIGHT)),\n",
       " 0,\n",
       " (Position(MIDDLE), Velocity(RIGHT), Angle(FALLING_RIGHT)),\n",
       " 1,\n",
       " (Position(MIDDLE), Velocity(RIGHT), Angle(STUCK_RIGHT)),\n",
       " 0,\n",
       " (Position(MIDDLE), Velocity(RIGHT), Angle(FALLING_RIGHT)),\n",
       " 1,\n",
       " (Position(MIDDLE), Velocity(RIGHT), Angle(STUCK_RIGHT)),\n",
       " 1,\n",
       " (Position(MIDDLE), Velocity(RIGHT), Angle(STABILIZING_LEFT)),\n",
       " 0,\n",
       " (Position(MIDDLE), Velocity(RIGHT), Angle(FALLING_RIGHT)),\n",
       " 1,\n",
       " (Position(MIDDLE), Velocity(RIGHT), Angle(STUCK_RIGHT)),\n",
       " 0,\n",
       " (Position(MIDDLE), Velocity(RIGHT), Angle(FALLING_RIGHT)),\n",
       " 1,\n",
       " (Position(MIDDLE), Velocity(RIGHT), Angle(STUCK_RIGHT)),\n",
       " 1,\n",
       " (Position(MIDDLE), Velocity(RIGHT), Angle(STABILIZING_LEFT)),\n",
       " 0,\n",
       " (Position(MIDDLE), Velocity(RIGHT), Angle(FALLING_RIGHT)),\n",
       " 1,\n",
       " (Position(MIDDLE), Velocity(RIGHT), Angle(STABILIZING_LEFT)),\n",
       " 0,\n",
       " (Position(MIDDLE), Velocity(RIGHT), Angle(FALLING_RIGHT)),\n",
       " 1,\n",
       " (Position(RIGHT), Velocity(RIGHT), Angle(STUCK_RIGHT)),\n",
       " 0,\n",
       " (Position(RIGHT), Velocity(RIGHT), Angle(FALLING_RIGHT)),\n",
       " 1,\n",
       " (Position(RIGHT), Velocity(RIGHT), Angle(STUCK_RIGHT)),\n",
       " 1,\n",
       " (Position(RIGHT), Velocity(RIGHT), Angle(STABILIZING_LEFT)),\n",
       " 0,\n",
       " (Position(RIGHT), Velocity(RIGHT), Angle(FALLING_RIGHT)),\n",
       " 1,\n",
       " (Position(RIGHT), Velocity(RIGHT), Angle(STUCK_RIGHT)),\n",
       " 0,\n",
       " (Position(RIGHT), Velocity(RIGHT), Angle(FALLING_RIGHT)),\n",
       " 1,\n",
       " (Position(RIGHT), Velocity(RIGHT), Angle(STUCK_RIGHT)),\n",
       " 1,\n",
       " (Position(RIGHT), Velocity(RIGHT), Angle(STABILIZING_LEFT)),\n",
       " 0,\n",
       " (Position(RIGHT), Velocity(RIGHT), Angle(FALLING_RIGHT))]"
      ]
     },
     "execution_count": 12,
     "metadata": {},
     "output_type": "execute_result"
    }
   ],
   "source": [
    "approximator._trajectories_of_last_fit[0]"
   ]
  },
  {
   "cell_type": "markdown",
   "metadata": {},
   "source": [
    "## Loading and saving Policy Graphs"
   ]
  },
  {
   "cell_type": "markdown",
   "metadata": {},
   "source": [
    "### Pickle\n",
    "\n",
    "Saving as pickle lets you restore the full state of the object."
   ]
  },
  {
   "cell_type": "code",
   "execution_count": 13,
   "metadata": {
    "ExecuteTime": {
     "end_time": "2023-12-16T19:00:40.603692Z",
     "start_time": "2023-12-16T19:00:40.432715Z"
    }
   },
   "outputs": [],
   "source": [
    "approximator.save(\"pickle\", \"./ppo-cartpole.pickle\")"
   ]
  },
  {
   "cell_type": "code",
   "execution_count": 14,
   "metadata": {
    "ExecuteTime": {
     "end_time": "2023-12-16T19:00:41.059455Z",
     "start_time": "2023-12-16T19:00:40.604398Z"
    }
   },
   "outputs": [
    {
     "name": "stdout",
     "output_type": "stream",
     "text": [
      "Number of states:             14\n",
      "Number of transitions:             58\n",
      "Num. of stored trajectories: 200\n"
     ]
    }
   ],
   "source": [
    "approximator_from_pickle = PolicyApproximatorFromBasicObservation.from_pickle(\"./ppo-cartpole.pickle\")\n",
    "\n",
    "print(f\"Number of states:             {len(list(approximator_from_pickle.policy_representation.states))}\")\n",
    "print(f\"Number of transitions:             {len(list(approximator_from_pickle.policy_representation.transitions))}\")\n",
    "print(f\"Num. of stored trajectories: {len(approximator_from_pickle._trajectories_of_last_fit)}\")"
   ]
  },
  {
   "cell_type": "markdown",
   "metadata": {},
   "source": [
    "### CSV\n",
    "\n",
    "Saving as CSV creates three separated CSV files for node, edge and trajectory information."
   ]
  },
  {
   "cell_type": "code",
   "execution_count": 15,
   "metadata": {
    "ExecuteTime": {
     "end_time": "2023-12-16T19:00:41.062608Z",
     "start_time": "2023-12-16T19:00:41.060477Z"
    }
   },
   "outputs": [],
   "source": [
    "import csv"
   ]
  },
  {
   "cell_type": "code",
   "execution_count": 16,
   "metadata": {
    "ExecuteTime": {
     "end_time": "2023-12-16T19:00:41.233587Z",
     "start_time": "2023-12-16T19:00:41.063674Z"
    }
   },
   "outputs": [],
   "source": [
    "# TODO: fix\n",
    "# approximator.save(\"csv\", [\"./ppo-cartpole_nodes.csv\", \"./ppo-cartpole_edges.csv\"])"
   ]
  },
  {
   "cell_type": "code",
   "execution_count": 17,
   "metadata": {
    "ExecuteTime": {
     "end_time": "2023-12-16T19:00:41.237209Z",
     "start_time": "2023-12-16T19:00:41.234337Z"
    }
   },
   "outputs": [],
   "source": [
    "# TODO: fix\n",
    "# with open('ppo-cartpole_nodes.csv', 'r+') as f:\n",
    "#     csv_r = csv.reader(f)\n",
    "#     for i in range(10):\n",
    "#         print(next(csv_r))"
   ]
  },
  {
   "cell_type": "markdown",
   "metadata": {},
   "source": [
    "Edges and trajectories use the IDs of the nodes, from the corresponding node CSV file."
   ]
  },
  {
   "cell_type": "code",
   "execution_count": 18,
   "metadata": {
    "ExecuteTime": {
     "end_time": "2023-12-16T19:00:41.241575Z",
     "start_time": "2023-12-16T19:00:41.238455Z"
    }
   },
   "outputs": [],
   "source": [
    "# with open('ppo-cartpole_edges.csv', 'r+') as f:\n",
    "#     csv_r = csv.reader(f)\n",
    "#     for i in range(10):\n",
    "#         print(next(csv_r))"
   ]
  },
  {
   "cell_type": "markdown",
   "metadata": {},
   "source": [
    "Each trajectory is stored as a series of (state0, action0, state1, ..., stateN) lists"
   ]
  },
  {
   "cell_type": "code",
   "execution_count": 19,
   "metadata": {
    "ExecuteTime": {
     "end_time": "2023-12-16T19:00:41.245788Z",
     "start_time": "2023-12-16T19:00:41.242035Z"
    }
   },
   "outputs": [],
   "source": [
    "# with open('ppo-cartpole_trajectories.csv', 'r+') as f:\n",
    "#     csv_r = csv.reader(f)\n",
    "#     for i in range(1):\n",
    "#         print(next(csv_r))"
   ]
  },
  {
   "cell_type": "markdown",
   "metadata": {},
   "source": [
    "There are two ways of loading Policy Graphs from CSV files. When loading from nodes and edges, though, episode trajectories cannot be restored."
   ]
  },
  {
   "cell_type": "code",
   "execution_count": 20,
   "metadata": {
    "ExecuteTime": {
     "end_time": "2023-12-16T19:00:42.161633Z",
     "start_time": "2023-12-16T19:00:41.245497Z"
    }
   },
   "outputs": [],
   "source": [
    "# pg_csv = PolicyApproximatorFromBasicObservation.from_nodes_and_trajectories(\"./ppo-cartpole_nodes.csv\", \"./ppo-cartpole_trajectories.csv\",\n",
    "#                                           environment, discretizer)\n",
    "# print(f\"Number of states:             {len(list(pg_csv.policy_representation.states))}\")\n",
    "# print(f\"Number of transitions:             {len(list(pg_csv.policy_representation.transitions))}\")\n",
    "# print(f\"Num. of stored trajectories: {len(pg_csv._trajectories_of_last_fit)}\")"
   ]
  },
  {
   "cell_type": "code",
   "execution_count": 21,
   "metadata": {
    "ExecuteTime": {
     "end_time": "2023-12-16T19:00:42.169319Z",
     "start_time": "2023-12-16T19:00:42.162097Z"
    }
   },
   "outputs": [],
   "source": [
    "# pg_csv = PolicyApproximatorFromBasicObservation.from_nodes_and_edges(\"./ppo-cartpole_nodes.csv\", \"./ppo-cartpole_edges.csv\",\n",
    "#                                           environment, discretizer)\n",
    "# print(f\"Number of states:             {len(list(pg_csv.policy_representation.states))}\")\n",
    "# print(f\"Number of transitions:             {len(list(pg_csv.policy_representation.transitions))}\")\n",
    "# print(f\"Num. of stored trajectories: {len(pg_csv._trajectories_of_last_fit)}\")"
   ]
  },
  {
   "cell_type": "markdown",
   "metadata": {},
   "source": [
    "### Gram\n",
    "\n",
    "PGs can also be exported to the [gram](https://neo4j.com/developer-blog/gram-a-data-graph-format/) format, allowing visualization using Neo4j. Episode trajectories cannot be stored in this format, though.\n",
    "\n",
    "PGs currently cannot be loaded from a Gram file."
   ]
  },
  {
   "cell_type": "code",
   "execution_count": 22,
   "metadata": {
    "ExecuteTime": {
     "end_time": "2023-12-16T19:00:42.179020Z",
     "start_time": "2023-12-16T19:00:42.169859Z"
    }
   },
   "outputs": [],
   "source": [
    "approximator.save(\"gram\", \"./ppo-cartpole.gram\")"
   ]
  },
  {
   "cell_type": "code",
   "execution_count": 23,
   "metadata": {
    "ExecuteTime": {
     "end_time": "2023-12-16T19:00:42.364896Z",
     "start_time": "2023-12-16T19:00:42.179966Z"
    }
   },
   "outputs": [
    {
     "name": "stdout",
     "output_type": "stream",
     "text": [
      "\n",
      "CREATE (s0:State {\n",
      "  uid: \"s0\",\n",
      "  value: \"('predicates', frozenset({Angle(STABILIZING_LEFT), Position(MIDDLE), Velocity(RIGHT)}))\",\n",
      "  probability: 0.2730288954575617, \n",
      "  frequency:9052\n",
      "});\n",
      "CREATE (s1:State {\n",
      "  uid: \"s1\",\n",
      "  value: \"('predicates', frozenset({Angle(STUCK_RIGHT), Position(MIDDLE), Velocity(LEFT)}))\",\n"
     ]
    }
   ],
   "source": [
    "!head ./ppo-cartpole.gram"
   ]
  },
  {
   "cell_type": "code",
   "execution_count": 24,
   "metadata": {
    "ExecuteTime": {
     "end_time": "2023-12-16T19:00:42.560867Z",
     "start_time": "2023-12-16T19:00:42.366790Z"
    }
   },
   "outputs": [
    {
     "name": "stdout",
     "output_type": "stream",
     "text": [
      "MATCH (s11:State) WHERE s11.uid = \"s11\" MATCH (s2:State) WHERE s2.uid = \"s2\" CREATE (s11)-[:a1 {probability:0.024390243902439025, frequency:1}]->(s2);\n",
      "MATCH (s11:State) WHERE s11.uid = \"s11\" MATCH (s11:State) WHERE s11.uid = \"s11\" CREATE (s11)-[:a0 {probability:0.024390243902439025, frequency:1}]->(s11);\n",
      "MATCH (s11:State) WHERE s11.uid = \"s11\" MATCH (s1:State) WHERE s1.uid = \"s1\" CREATE (s11)-[:a1 {probability:0.0975609756097561, frequency:4}]->(s1);\n",
      "MATCH (s11:State) WHERE s11.uid = \"s11\" MATCH (s0:State) WHERE s0.uid = \"s0\" CREATE (s11)-[:a1 {probability:0.3170731707317073, frequency:13}]->(s0);\n",
      "MATCH (s11:State) WHERE s11.uid = \"s11\" MATCH (s3:State) WHERE s3.uid = \"s3\" CREATE (s11)-[:a1 {probability:0.17073170731707318, frequency:7}]->(s3);\n",
      "MATCH (s12:State) WHERE s12.uid = \"s12\" MATCH (s11:State) WHERE s11.uid = \"s11\" CREATE (s12)-[:a0 {probability:0.0625, frequency:1}]->(s11);\n",
      "MATCH (s12:State) WHERE s12.uid = \"s12\" MATCH (s0:State) WHERE s0.uid = \"s0\" CREATE (s12)-[:a1 {probability:0.375, frequency:6}]->(s0);\n",
      "MATCH (s12:State) WHERE s12.uid = \"s12\" MATCH (s6:State) WHERE s6.uid = \"s6\" CREATE (s12)-[:a0 {probability:0.5625, frequency:9}]->(s6);\n",
      "MATCH (s13:State) WHERE s13.uid = \"s13\" MATCH (s11:State) WHERE s11.uid = \"s11\" CREATE (s13)-[:a0 {probability:0.2, frequency:1}]->(s11);\n",
      "MATCH (s13:State) WHERE s13.uid = \"s13\" MATCH (s6:State) WHERE s6.uid = \"s6\" CREATE (s13)-[:a0 {probability:0.8, frequency:4}]->(s6);"
     ]
    }
   ],
   "source": [
    "!tail ./ppo-cartpole.gram"
   ]
  },
  {
   "cell_type": "markdown",
   "metadata": {},
   "source": [
    "## Using PG-based policies\n",
    "\n",
    "Using the `PGBasedPolicy`, we can create policies that replicate an agent's behavior, based on their generated Policy Graph. These policies are subclasses of the `pgeon.Agent` class.\n",
    "\n",
    "The policy mode (greedy/stochastic) can be specified via the `PGBasedPolicyMode` enum. The behavior when encountering an unknown node (select random action/search nearest node in PG) can be specified via the `PGBasedPolicyNodeNotFoundMode` enum."
   ]
  },
  {
   "cell_type": "code",
   "execution_count": 25,
   "metadata": {
    "ExecuteTime": {
     "end_time": "2023-12-16T19:00:42.573184Z",
     "start_time": "2023-12-16T19:00:42.561017Z"
    }
   },
   "outputs": [],
   "source": [
    "# TODO: fix\n",
    "# from pgeon import PGBasedPolicy, PGBasedPolicyMode, PGBasedPolicyNodeNotFoundMode"
   ]
  },
  {
   "cell_type": "code",
   "execution_count": 26,
   "metadata": {
    "ExecuteTime": {
     "end_time": "2023-12-16T19:00:42.575488Z",
     "start_time": "2023-12-16T19:00:42.561178Z"
    }
   },
   "outputs": [],
   "source": [
    "# TODO: fix\n",
    "# policy = PGBasedPolicy(pg, mode=PGBasedPolicyMode.GREEDY,\n",
    "#                        node_not_found_mode=PGBasedPolicyNodeNotFoundMode.RANDOM_UNIFORM)"
   ]
  },
  {
   "cell_type": "code",
   "execution_count": 27,
   "metadata": {
    "ExecuteTime": {
     "end_time": "2023-12-16T19:00:42.575656Z",
     "start_time": "2023-12-16T19:00:42.573297Z"
    }
   },
   "outputs": [],
   "source": [
    "# obs, _ = environment.reset()\n",
    "# action = policy.act(obs)\n",
    "\n",
    "# print(f'Observed state:  {obs}')\n",
    "# print(f'Discretization:  {policy.pg.discretizer.discretize(obs)}')\n",
    "# print(f'Selected action: {action}')"
   ]
  },
  {
   "cell_type": "markdown",
   "metadata": {},
   "source": [
    "## Implementing new Discretizers\n",
    "\n",
    "In order to generate Policy Graphs using a certain environment, a Discretizer that transforms the state into a series of predicates has to be implemented by creating a class that inherits from `pgeon.Discretizer` and implements all its abstract methods."
   ]
  },
  {
   "cell_type": "code",
   "execution_count": 28,
   "metadata": {
    "ExecuteTime": {
     "end_time": "2023-12-16T19:00:42.575703Z",
     "start_time": "2023-12-16T19:00:42.573480Z"
    }
   },
   "outputs": [],
   "source": [
    "from enum import Enum, auto\n",
    "\n",
    "from pgeon import Predicate"
   ]
  },
  {
   "cell_type": "markdown",
   "metadata": {},
   "source": [
    "Firstly, a set of predicates and their values has to be decided. In this case we use three: the cartpole's `Position` (is the cart in the middle, left or right?) and `Velocity` (is the cart moving left or right?), and the state of its pole (`Angle`, meaning the pole is standing, falling to one side, stabilizing...).\n",
    "\n",
    "Each of the predicates and its possible values are represented as an enum."
   ]
  },
  {
   "cell_type": "code",
   "execution_count": 29,
   "metadata": {
    "ExecuteTime": {
     "end_time": "2023-12-16T19:00:42.575735Z",
     "start_time": "2023-12-16T19:00:42.573515Z"
    }
   },
   "outputs": [],
   "source": [
    "class Position(Enum):\n",
    "    LEFT = auto()\n",
    "    MIDDLE = auto()\n",
    "    RIGHT = auto()\n",
    "\n",
    "class Velocity(Enum):\n",
    "    LEFT = auto()\n",
    "    RIGHT = auto()\n",
    "\n",
    "class Angle(Enum):\n",
    "    STANDING = auto()\n",
    "    STUCK_LEFT = auto()\n",
    "    STUCK_RIGHT = auto()\n",
    "    FALLING_LEFT = auto()\n",
    "    FALLING_RIGHT = auto()\n",
    "    STABILIZING_LEFT = auto()\n",
    "    STABILIZING_RIGHT = auto()"
   ]
  },
  {
   "cell_type": "markdown",
   "metadata": {},
   "source": [
    "This is an example of a state as a set of predicates. Note that a predicate accepts an ordered list of values (e.g. `[Position.LEFT, Velocity.RIGHT]`), as some environments benefit from that level of description."
   ]
  },
  {
   "cell_type": "code",
   "execution_count": 30,
   "metadata": {
    "ExecuteTime": {
     "end_time": "2023-12-16T19:00:42.575829Z",
     "start_time": "2023-12-16T19:00:42.573547Z"
    }
   },
   "outputs": [
    {
     "data": {
      "text/plain": [
       "PredicateBasedState(predicates=frozenset({Angle(STABILIZING_RIGHT), Velocity(LEFT), Position(LEFT)}))"
      ]
     },
     "execution_count": 30,
     "metadata": {},
     "output_type": "execute_result"
    }
   ],
   "source": [
    "PredicateBasedState([Predicate(Position.LEFT), Predicate(Velocity.LEFT), Predicate(Angle.STABILIZING_RIGHT)])"
   ]
  },
  {
   "cell_type": "markdown",
   "metadata": {},
   "source": [
    "A discretizer class needs to implement the following methods:\n",
    "\n",
    "- `discretize(self, state)`: Converts an environment's raw observation into a discretized state.\n",
    "- `state_to_str(self, state) -> str`: Converts a discrete state into a string (used in serialization).\n",
    "- `str_to_state(self, state: str)`: Converts a string representing a state into said state (used in serialization).\n",
    "- `nearest_state(self, state)`: A generator function that, given a certain discrete state, yields the nearest discrete states, in order. The distance heuristic is left to the implementer.\n",
    "\n",
    "This is an example use of these methods:"
   ]
  },
  {
   "cell_type": "code",
   "execution_count": 31,
   "metadata": {
    "ExecuteTime": {
     "end_time": "2023-12-16T19:00:42.575865Z",
     "start_time": "2023-12-16T19:00:42.573671Z"
    }
   },
   "outputs": [],
   "source": [
    "obs, _ = environment.reset()\n",
    "discretized_obs = discretizer.discretize(obs)\n",
    "str_obs = discretizer.state_to_str(discretized_obs)\n",
    "str_to_state = discretizer.str_to_state(str_obs)"
   ]
  },
  {
   "cell_type": "code",
   "execution_count": 32,
   "metadata": {
    "ExecuteTime": {
     "end_time": "2023-12-16T19:00:42.579161Z",
     "start_time": "2023-12-16T19:00:42.576597Z"
    }
   },
   "outputs": [
    {
     "name": "stdout",
     "output_type": "stream",
     "text": [
      "Observed state:  [ 0.00483929  0.04979198 -0.02431643 -0.04302176]\n",
      "Discretization:  (Position(MIDDLE), Velocity(RIGHT), Angle(STUCK_LEFT))\n",
      "State to str:    Position(MIDDLE)&Velocity(RIGHT)&Angle(STUCK_LEFT)\n",
      "Str to state:    (Position(MIDDLE), Velocity(RIGHT), Angle(STUCK_LEFT))\n"
     ]
    }
   ],
   "source": [
    "print(f'Observed state:  {obs}')\n",
    "print(f'Discretization:  {discretized_obs}')\n",
    "print(f'State to str:    {str_obs}')\n",
    "print(f'Str to state:    {str_to_state}')"
   ]
  },
  {
   "cell_type": "code",
   "execution_count": 33,
   "metadata": {
    "ExecuteTime": {
     "end_time": "2023-12-16T19:00:42.638429Z",
     "start_time": "2023-12-16T19:00:42.580304Z"
    },
    "collapsed": false
   },
   "outputs": [
    {
     "name": "stdout",
     "output_type": "stream",
     "text": [
      "From (Position(MIDDLE), Velocity(RIGHT), Angle(STUCK_LEFT)), I will take one of these actions:\n",
      "\t-> LEFT\tProb: 59.52%\n",
      "\t-> LEFT\tProb: 26.18%\n",
      "\t-> LEFT\tProb: 8.42%\n",
      "\t-> LEFT\tProb: 3.78%\n",
      "\t-> LEFT\tProb: 0.52%\n",
      "\t-> LEFT\tProb: 0.45%\n",
      "\t-> LEFT\tProb: 0.41%\n",
      "\t-> LEFT\tProb: 0.27%\n",
      "\t-> LEFT\tProb: 0.18%\n",
      "\t-> LEFT\tProb: 0.13%\n",
      "\t-> LEFT\tProb: 0.09%\n",
      "\t-> LEFT\tProb: 0.06%\n"
     ]
    }
   ],
   "source": [
    "# Create a PredicateBasedState for the query\n",
    "query_state = PredicateBasedState([\n",
    "    Predicate(Position.MIDDLE),\n",
    "    Predicate(Velocity.RIGHT),\n",
    "    Predicate(Angle.STANDING),\n",
    "])\n",
    "\n",
    "possible_actions = approximator.question1(query_state)\n",
    "\n",
    "print(f'From {discretized_obs}, I will take one of these actions:')\n",
    "for action, prob in possible_actions:\n",
    "    action_name = \"LEFT\" if action == 0 else \"RIGHT\"\n",
    "    print(f\"\t-> {action_name}\tProb: {round(prob * 100, 2)}%\")"
   ]
  },
  {
   "cell_type": "code",
   "execution_count": 34,
   "metadata": {
    "ExecuteTime": {
     "end_time": "2023-12-16T19:00:42.638692Z",
     "start_time": "2023-12-16T19:00:42.584912Z"
    },
    "collapsed": false
   },
   "outputs": [
    {
     "name": "stdout",
     "output_type": "stream",
     "text": [
      "I will perform action 0 in these states:\n",
      "predicates=frozenset({Position(MIDDLE), Velocity(LEFT), Angle(STUCK_LEFT)})\n",
      "predicates=frozenset({Angle(STABILIZING_LEFT), Position(RIGHT), Velocity(RIGHT)})\n",
      "predicates=frozenset({Angle(STABILIZING_LEFT), Position(MIDDLE), Velocity(RIGHT)})\n",
      "predicates=frozenset({Angle(STABILIZING_RIGHT), Position(MIDDLE), Velocity(LEFT)})\n",
      "predicates=frozenset({Angle(STABILIZING_RIGHT), Position(MIDDLE), Velocity(RIGHT)})\n",
      "predicates=frozenset({Position(MIDDLE), Velocity(RIGHT), Angle(STUCK_LEFT)})\n",
      "predicates=frozenset({Angle(STUCK_RIGHT), Position(RIGHT), Velocity(RIGHT)})\n",
      "predicates=frozenset({Position(MIDDLE), Angle(STANDING), Velocity(RIGHT)})\n"
     ]
    }
   ],
   "source": [
    "best_states = approximator.question2(0)\n",
    "print(f'I will perform action {0} in these states:')\n",
    "print('\\n'.join([str(state) for state in best_states]))"
   ]
  },
  {
   "cell_type": "code",
   "execution_count": 35,
   "metadata": {
    "collapsed": false
   },
   "outputs": [
    {
     "name": "stdout",
     "output_type": "stream",
     "text": [
      "Supposing I was in the middle, moving right, with the pole standing upright, if I did not choose to move left was due to...\n",
      "Could not generate counterfactuals: 'a' cannot be empty unless no samples are taken\n",
      "This might be because the query state is not well-represented in the policy graph.\n"
     ]
    }
   ],
   "source": [
    "print(f'Supposing I was in the middle, moving right, with the pole standing upright, '\n",
    "      f'if I did not choose to move left was due to...')\n",
    "try:\n",
    "    counterfactuals = approximator.question3(query_state, 0)\n",
    "    for ct in counterfactuals:\n",
    "        print(f\"...{\" and \".join([str(i[0]) + \" -> \" + str(i[1]) for i in ct.values()])}\")\n",
    "except ValueError as e:\n",
    "    print(f\"Could not generate counterfactuals: {e}\")\n",
    "    print(\"This might be because the query state is not well-represented in the policy graph.\")"
   ]
  }
 ],
 "metadata": {
  "kernelspec": {
   "display_name": ".venv",
   "language": "python",
   "name": "python3"
  },
  "language_info": {
   "codemirror_mode": {
    "name": "ipython",
    "version": 3
   },
   "file_extension": ".py",
   "mimetype": "text/x-python",
   "name": "python",
   "nbconvert_exporter": "python",
   "pygments_lexer": "ipython3",
   "version": "3.12.8"
  }
 },
 "nbformat": 4,
 "nbformat_minor": 4
}
