{
 "cells": [
  {
   "cell_type": "markdown",
   "metadata": {},
   "source": [
    "# XAI In Action - pgeon\n",
    "\n",
    "This notebook shows the current functionalities of the **pgeon** library."
   ]
  },
  {
   "cell_type": "code",
   "execution_count": 1,
   "metadata": {},
   "outputs": [],
   "source": [
    "import pprint"
   ]
  },
  {
   "cell_type": "markdown",
   "metadata": {},
   "source": [
    "## Preparation\n",
    "\n",
    "Loading an environment, an agent and a discretizer; the necessary elements to generate a Policy Graph."
   ]
  },
  {
   "cell_type": "code",
   "execution_count": 2,
   "metadata": {},
   "outputs": [],
   "source": [
    "import gymnasium as gym\n",
    "\n",
    "from example.cartpole.discretizer import CartpoleDiscretizer"
   ]
  },
  {
   "cell_type": "code",
   "execution_count": 3,
   "metadata": {
    "collapsed": false,
    "jupyter": {
     "outputs_hidden": false
    },
    "pycharm": {
     "name": "#%%\n"
    }
   },
   "outputs": [],
   "source": [
    "environment = gym.make('CartPole-v1')\n",
    "discretizer = CartpoleDiscretizer()"
   ]
  },
  {
   "cell_type": "code",
   "execution_count": 34,
   "metadata": {
    "collapsed": false,
    "jupyter": {
     "outputs_hidden": false
    },
    "pycharm": {
     "name": "#%%\n"
    }
   },
   "outputs": [],
   "source": [
    "from pgeon import Agent\n",
    "from ray.rllib.algorithms.algorithm import Algorithm\n",
    "\n",
    "class CartpoleAgent(Agent):\n",
    "    def __init__(self, path):\n",
    "        self.agent = Algorithm.from_checkpoint(path)\n",
    "\n",
    "    def act(self, state):\n",
    "        return self.agent.compute_single_action(state)"
   ]
  },
  {
   "cell_type": "code",
   "execution_count": 5,
   "metadata": {
    "collapsed": false,
    "jupyter": {
     "outputs_hidden": false
    },
    "pycharm": {
     "name": "#%%\n"
    },
    "scrolled": true
   },
   "outputs": [
    {
     "name": "stderr",
     "output_type": "stream",
     "text": [
      "2023-12-07 12:02:18,507\tWARNING __init__.py:10 -- PG has/have been moved to `rllib_contrib` and will no longer be maintained by the RLlib team. You can still use it/them normally inside RLlib util Ray 2.8, but from Ray 2.9 on, all `rllib_contrib` algorithms will no longer be part of the core repo, and will therefore have to be installed separately with pinned dependencies for e.g. ray[rllib] and other packages! See https://github.com/ray-project/ray/tree/master/rllib_contrib#rllib-contrib for more information on the RLlib contrib effort.\n",
      "/home/adri/Escritorio/rl/policy-graphs/policy-graphs-new/venv/lib/python3.8/site-packages/ray/rllib/algorithms/algorithm.py:484: RayDeprecationWarning: This API is deprecated and may be removed in future Ray releases. You could suppress this warning by setting env variable PYTHONWARNINGS=\"ignore::DeprecationWarning\"\n",
      "`UnifiedLogger` will be removed in Ray 2.7.\n",
      "  return UnifiedLogger(config, logdir, loggers=None)\n",
      "/home/adri/Escritorio/rl/policy-graphs/policy-graphs-new/venv/lib/python3.8/site-packages/ray/tune/logger/unified.py:53: RayDeprecationWarning: This API is deprecated and may be removed in future Ray releases. You could suppress this warning by setting env variable PYTHONWARNINGS=\"ignore::DeprecationWarning\"\n",
      "The `JsonLogger interface is deprecated in favor of the `ray.tune.json.JsonLoggerCallback` interface and will be removed in Ray 2.7.\n",
      "  self._loggers.append(cls(self.config, self.logdir, self.trial))\n",
      "/home/adri/Escritorio/rl/policy-graphs/policy-graphs-new/venv/lib/python3.8/site-packages/ray/tune/logger/unified.py:53: RayDeprecationWarning: This API is deprecated and may be removed in future Ray releases. You could suppress this warning by setting env variable PYTHONWARNINGS=\"ignore::DeprecationWarning\"\n",
      "The `CSVLogger interface is deprecated in favor of the `ray.tune.csv.CSVLoggerCallback` interface and will be removed in Ray 2.7.\n",
      "  self._loggers.append(cls(self.config, self.logdir, self.trial))\n",
      "/home/adri/Escritorio/rl/policy-graphs/policy-graphs-new/venv/lib/python3.8/site-packages/ray/tune/logger/unified.py:53: RayDeprecationWarning: This API is deprecated and may be removed in future Ray releases. You could suppress this warning by setting env variable PYTHONWARNINGS=\"ignore::DeprecationWarning\"\n",
      "The `TBXLogger interface is deprecated in favor of the `ray.tune.tensorboardx.TBXLoggerCallback` interface and will be removed in Ray 2.7.\n",
      "  self._loggers.append(cls(self.config, self.logdir, self.trial))\n",
      "2023-12-07 12:02:20,633\tINFO worker.py:1673 -- Started a local Ray instance.\n",
      "\u001B[36m(RolloutWorker pid=3854)\u001B[0m 2023-12-07 12:02:26,858\tWARNING __init__.py:10 -- PG has/have been moved to `rllib_contrib` and will no longer be maintained by the RLlib team. You can still use it/them normally inside RLlib util Ray 2.8, but from Ray 2.9 on, all `rllib_contrib` algorithms will no longer be part of the core repo, and will therefore have to be installed separately with pinned dependencies for e.g. ray[rllib] and other packages! See https://github.com/ray-project/ray/tree/master/rllib_contrib#rllib-contrib for more information on the RLlib contrib effort.\n",
      "2023-12-07 12:02:27,252\tWARNING util.py:62 -- Install gputil for GPU system monitoring.\n"
     ]
    }
   ],
   "source": [
    "agent = CartpoleAgent('checkpoints/PPO_CartPole-v1_1acbb_00000_0_2023-12-05_19-28-36/checkpoint_000000')"
   ]
  },
  {
   "cell_type": "markdown",
   "metadata": {},
   "source": [
    "## Policy Graph generation"
   ]
  },
  {
   "cell_type": "code",
   "execution_count": 6,
   "metadata": {},
   "outputs": [],
   "source": [
    "from pgeon import PolicyGraph"
   ]
  },
  {
   "cell_type": "markdown",
   "metadata": {},
   "source": [
    "Policy Graphs are instantiated with an environment and a discretizer."
   ]
  },
  {
   "cell_type": "code",
   "execution_count": 7,
   "metadata": {},
   "outputs": [
    {
     "name": "stderr",
     "output_type": "stream",
     "text": [
      "Fitting PG...: 100%|██████████| 200/200 [00:46<00:00,  4.29it/s]\n"
     ]
    }
   ],
   "source": [
    "pg = PolicyGraph(environment, discretizer)"
   ]
  },
  {
   "cell_type": "markdown",
   "metadata": {},
   "source": [
    "We generate a Policy Graph with the `fit()` function, in this case generating 1000 episode trajectories from our agent. If the PG has been previously fit, one can choose to update the PG with new trajectories (instead of re-generating the PG) with `update=True`."
   ]
  },
  {
   "cell_type": "code",
   "execution_count": null,
   "metadata": {},
   "outputs": [],
   "source": [
    "pg = pg.fit(agent, num_episodes=200, update=False)"
   ]
  },
  {
   "cell_type": "code",
   "execution_count": 8,
   "metadata": {},
   "outputs": [
    {
     "name": "stdout",
     "output_type": "stream",
     "text": [
      "Number of nodes: 14\n",
      "Number of edges: 130\n"
     ]
    }
   ],
   "source": [
    "print(f'Number of nodes: {len(pg.nodes)}')\n",
    "print(f'Number of edges: {len(pg.edges)}')"
   ]
  },
  {
   "cell_type": "markdown",
   "metadata": {},
   "source": [
    "Each node has information about a discretized state:"
   ]
  },
  {
   "cell_type": "code",
   "execution_count": 9,
   "metadata": {},
   "outputs": [
    {
     "name": "stdout",
     "output_type": "stream",
     "text": [
      "(Position(MIDDLE), Velocity(RIGHT), Angle(FALLING_RIGHT))\n",
      "  Times visited: 7490\n",
      "  p(s):          0.212\n"
     ]
    }
   ],
   "source": [
    "arbitrary_state = list(pg.nodes)[0]\n",
    "\n",
    "print(arbitrary_state)\n",
    "print(f'  Times visited: {pg.nodes[arbitrary_state][\"frequency\"]}')\n",
    "print(f'  p(s):          {pg.nodes[arbitrary_state][\"probability\"]:.3f}')"
   ]
  },
  {
   "cell_type": "markdown",
   "metadata": {},
   "source": [
    "Each edge has information about a transition between states:"
   ]
  },
  {
   "cell_type": "code",
   "execution_count": 10,
   "metadata": {},
   "outputs": [
    {
     "name": "stdout",
     "output_type": "stream",
     "text": [
      "From:    (Position(MIDDLE), Velocity(RIGHT), Angle(FALLING_RIGHT))\n",
      "Action:  1\n",
      "To:      (Position(MIDDLE), Velocity(RIGHT), Angle(STAB_LEFT))\n",
      "  Times visited:      1225\n",
      "  p(s_to,a | s_from): 0.168\n"
     ]
    }
   ],
   "source": [
    "arbitrary_edge = list(pg.edges)[0]\n",
    "\n",
    "print(f'From:    {arbitrary_edge[0]}')\n",
    "print(f'Action:  {arbitrary_edge[2]}')\n",
    "print(f'To:      {arbitrary_edge[1]}')\n",
    "print(f'  Times visited:      {pg[arbitrary_edge[0]][arbitrary_edge[1]][arbitrary_edge[2]][\"frequency\"]}')\n",
    "print(f'  p(s_to,a | s_from): {pg[arbitrary_edge[0]][arbitrary_edge[1]][arbitrary_edge[2]][\"probability\"]:.3f}')"
   ]
  },
  {
   "cell_type": "markdown",
   "metadata": {},
   "source": [
    "The `PolicyGraph` object also stores the full discretized episode trajectories of the last fit."
   ]
  },
  {
   "cell_type": "code",
   "execution_count": 11,
   "metadata": {},
   "outputs": [
    {
     "data": {
      "text/plain": [
       "200"
      ]
     },
     "execution_count": 11,
     "metadata": {},
     "output_type": "execute_result"
    }
   ],
   "source": [
    "len(pg._trajectories_of_last_fit)"
   ]
  },
  {
   "cell_type": "markdown",
   "metadata": {},
   "source": [
    "Each trajectory is stored as a (state0, action0, state1, ..., stateN) tuple ."
   ]
  },
  {
   "cell_type": "code",
   "execution_count": 12,
   "metadata": {},
   "outputs": [
    {
     "data": {
      "text/plain": [
       "[(Position(MIDDLE), Velocity(LEFT), Angle(STUCK_LEFT)),\n",
       " 0,\n",
       " (Position(MIDDLE), Velocity(LEFT), Angle(STAB_RIGHT)),\n",
       " 1,\n",
       " (Position(MIDDLE), Velocity(LEFT), Angle(STUCK_LEFT)),\n",
       " 0,\n",
       " (Position(MIDDLE), Velocity(LEFT), Angle(STAB_RIGHT)),\n",
       " 1,\n",
       " (Position(MIDDLE), Velocity(LEFT), Angle(FALLING_LEFT)),\n",
       " 0,\n",
       " (Position(MIDDLE), Velocity(LEFT), Angle(STAB_RIGHT)),\n",
       " 1,\n",
       " (Position(MIDDLE), Velocity(LEFT), Angle(FALLING_LEFT)),\n",
       " 0,\n",
       " (Position(MIDDLE), Velocity(LEFT), Angle(STAB_RIGHT)),\n",
       " 0,\n",
       " (Position(MIDDLE), Velocity(LEFT), Angle(STAB_RIGHT)),\n",
       " 1,\n",
       " (Position(MIDDLE), Velocity(LEFT), Angle(STAB_RIGHT)),\n",
       " 0,\n",
       " (Position(MIDDLE), Velocity(LEFT), Angle(STAB_RIGHT)),\n",
       " 1,\n",
       " (Position(MIDDLE), Velocity(LEFT), Angle(STAB_RIGHT)),\n",
       " 0,\n",
       " (Position(MIDDLE), Velocity(LEFT), Angle(STAB_RIGHT)),\n",
       " 1,\n",
       " (Position(MIDDLE), Velocity(LEFT), Angle(STUCK_LEFT)),\n",
       " 0,\n",
       " (Position(MIDDLE), Velocity(LEFT), Angle(STAB_RIGHT)),\n",
       " 1,\n",
       " (Position(MIDDLE), Velocity(LEFT), Angle(STUCK_RIGHT)),\n",
       " 0,\n",
       " (Position(MIDDLE), Velocity(LEFT), Angle(FALLING_RIGHT)),\n",
       " 1,\n",
       " (Position(MIDDLE), Velocity(LEFT), Angle(STUCK_RIGHT)),\n",
       " 0,\n",
       " (Position(MIDDLE), Velocity(LEFT), Angle(FALLING_RIGHT)),\n",
       " 1,\n",
       " (Position(MIDDLE), Velocity(LEFT), Angle(STUCK_RIGHT)),\n",
       " 1,\n",
       " (Position(MIDDLE), Velocity(LEFT), Angle(STAB_LEFT)),\n",
       " 0,\n",
       " (Position(MIDDLE), Velocity(LEFT), Angle(FALLING_RIGHT)),\n",
       " 0,\n",
       " (Position(MIDDLE), Velocity(LEFT), Angle(FALLING_RIGHT)),\n",
       " 1,\n",
       " (Position(MIDDLE), Velocity(LEFT), Angle(FALLING_RIGHT)),\n",
       " 0,\n",
       " (Position(MIDDLE), Velocity(LEFT), Angle(FALLING_RIGHT)),\n",
       " 1,\n",
       " (Position(MIDDLE), Velocity(LEFT), Angle(FALLING_RIGHT)),\n",
       " 0,\n",
       " (Position(MIDDLE), Velocity(LEFT), Angle(FALLING_RIGHT)),\n",
       " 1,\n",
       " (Position(MIDDLE), Velocity(LEFT), Angle(FALLING_RIGHT)),\n",
       " 0,\n",
       " (Position(MIDDLE), Velocity(LEFT), Angle(FALLING_RIGHT)),\n",
       " 1,\n",
       " (Position(MIDDLE), Velocity(LEFT), Angle(FALLING_RIGHT)),\n",
       " 1,\n",
       " (Position(MIDDLE), Velocity(LEFT), Angle(STUCK_RIGHT)),\n",
       " 1,\n",
       " (Position(MIDDLE), Velocity(RIGHT), Angle(STAB_LEFT)),\n",
       " 0,\n",
       " (Position(MIDDLE), Velocity(LEFT), Angle(STUCK_RIGHT)),\n",
       " 0,\n",
       " (Position(MIDDLE), Velocity(LEFT), Angle(FALLING_RIGHT)),\n",
       " 1,\n",
       " (Position(MIDDLE), Velocity(LEFT), Angle(STUCK_RIGHT)),\n",
       " 1,\n",
       " (Position(MIDDLE), Velocity(RIGHT), Angle(STAB_LEFT)),\n",
       " 0,\n",
       " (Position(MIDDLE), Velocity(LEFT), Angle(STUCK_RIGHT)),\n",
       " 1,\n",
       " (Position(MIDDLE), Velocity(RIGHT), Angle(STAB_LEFT)),\n",
       " 1,\n",
       " (Position(MIDDLE), Velocity(RIGHT), Angle(STAB_LEFT)),\n",
       " 0,\n",
       " (Position(MIDDLE), Velocity(RIGHT), Angle(STAB_LEFT)),\n",
       " 0,\n",
       " (Position(MIDDLE), Velocity(LEFT), Angle(FALLING_RIGHT)),\n",
       " 1,\n",
       " (Position(MIDDLE), Velocity(RIGHT), Angle(STAB_LEFT)),\n",
       " 1,\n",
       " (Position(MIDDLE), Velocity(RIGHT), Angle(STAB_LEFT)),\n",
       " 0,\n",
       " (Position(MIDDLE), Velocity(RIGHT), Angle(STAB_LEFT)),\n",
       " 1,\n",
       " (Position(MIDDLE), Velocity(RIGHT), Angle(STAB_LEFT)),\n",
       " 0,\n",
       " (Position(MIDDLE), Velocity(RIGHT), Angle(STAB_LEFT)),\n",
       " 0,\n",
       " (Position(MIDDLE), Velocity(LEFT), Angle(FALLING_RIGHT)),\n",
       " 1,\n",
       " (Position(MIDDLE), Velocity(RIGHT), Angle(STUCK_RIGHT)),\n",
       " 0,\n",
       " (Position(MIDDLE), Velocity(LEFT), Angle(FALLING_RIGHT)),\n",
       " 1,\n",
       " (Position(MIDDLE), Velocity(RIGHT), Angle(STUCK_RIGHT)),\n",
       " 0,\n",
       " (Position(MIDDLE), Velocity(LEFT), Angle(FALLING_RIGHT)),\n",
       " 1,\n",
       " (Position(MIDDLE), Velocity(RIGHT), Angle(STUCK_RIGHT)),\n",
       " 1,\n",
       " (Position(MIDDLE), Velocity(RIGHT), Angle(STAB_LEFT)),\n",
       " 0,\n",
       " (Position(MIDDLE), Velocity(RIGHT), Angle(STUCK_RIGHT)),\n",
       " 0,\n",
       " (Position(MIDDLE), Velocity(LEFT), Angle(FALLING_RIGHT)),\n",
       " 1,\n",
       " (Position(MIDDLE), Velocity(RIGHT), Angle(STUCK_RIGHT)),\n",
       " 0,\n",
       " (Position(MIDDLE), Velocity(LEFT), Angle(FALLING_RIGHT)),\n",
       " 1,\n",
       " (Position(MIDDLE), Velocity(RIGHT), Angle(STUCK_RIGHT)),\n",
       " 1,\n",
       " (Position(MIDDLE), Velocity(RIGHT), Angle(STAB_LEFT)),\n",
       " 0,\n",
       " (Position(MIDDLE), Velocity(RIGHT), Angle(STUCK_RIGHT)),\n",
       " 0,\n",
       " (Position(MIDDLE), Velocity(LEFT), Angle(FALLING_RIGHT)),\n",
       " 1,\n",
       " (Position(MIDDLE), Velocity(RIGHT), Angle(STUCK_RIGHT)),\n",
       " 1,\n",
       " (Position(MIDDLE), Velocity(RIGHT), Angle(STAB_LEFT)),\n",
       " 0,\n",
       " (Position(MIDDLE), Velocity(RIGHT), Angle(STUCK_RIGHT)),\n",
       " 1,\n",
       " (Position(MIDDLE), Velocity(RIGHT), Angle(STAB_LEFT)),\n",
       " 1,\n",
       " (Position(MIDDLE), Velocity(RIGHT), Angle(STAB_LEFT)),\n",
       " 0,\n",
       " (Position(MIDDLE), Velocity(RIGHT), Angle(STAB_LEFT)),\n",
       " 0,\n",
       " (Position(MIDDLE), Velocity(RIGHT), Angle(STUCK_RIGHT)),\n",
       " 1,\n",
       " (Position(MIDDLE), Velocity(RIGHT), Angle(STAB_LEFT)),\n",
       " 0,\n",
       " (Position(MIDDLE), Velocity(RIGHT), Angle(FALLING_RIGHT)),\n",
       " 1,\n",
       " (Position(MIDDLE), Velocity(RIGHT), Angle(STAB_LEFT)),\n",
       " 0,\n",
       " (Position(MIDDLE), Velocity(RIGHT), Angle(FALLING_RIGHT)),\n",
       " 1,\n",
       " (Position(MIDDLE), Velocity(RIGHT), Angle(STAB_LEFT)),\n",
       " 0,\n",
       " (Position(MIDDLE), Velocity(RIGHT), Angle(FALLING_RIGHT)),\n",
       " 1,\n",
       " (Position(MIDDLE), Velocity(RIGHT), Angle(STAB_LEFT)),\n",
       " 0,\n",
       " (Position(MIDDLE), Velocity(RIGHT), Angle(FALLING_RIGHT)),\n",
       " 1,\n",
       " (Position(MIDDLE), Velocity(RIGHT), Angle(STAB_LEFT)),\n",
       " 0,\n",
       " (Position(MIDDLE), Velocity(RIGHT), Angle(FALLING_RIGHT)),\n",
       " 0,\n",
       " (Position(MIDDLE), Velocity(LEFT), Angle(FALLING_RIGHT)),\n",
       " 1,\n",
       " (Position(MIDDLE), Velocity(RIGHT), Angle(FALLING_RIGHT)),\n",
       " 1,\n",
       " (Position(MIDDLE), Velocity(RIGHT), Angle(STAB_LEFT)),\n",
       " 0,\n",
       " (Position(MIDDLE), Velocity(RIGHT), Angle(FALLING_RIGHT)),\n",
       " 1,\n",
       " (Position(MIDDLE), Velocity(RIGHT), Angle(STAB_LEFT)),\n",
       " 0,\n",
       " (Position(MIDDLE), Velocity(RIGHT), Angle(FALLING_RIGHT)),\n",
       " 1,\n",
       " (Position(MIDDLE), Velocity(RIGHT), Angle(STAB_LEFT)),\n",
       " 0,\n",
       " (Position(MIDDLE), Velocity(RIGHT), Angle(FALLING_RIGHT)),\n",
       " 1,\n",
       " (Position(MIDDLE), Velocity(RIGHT), Angle(STAB_LEFT)),\n",
       " 0,\n",
       " (Position(MIDDLE), Velocity(RIGHT), Angle(FALLING_RIGHT)),\n",
       " 0,\n",
       " (Position(MIDDLE), Velocity(LEFT), Angle(FALLING_RIGHT)),\n",
       " 1,\n",
       " (Position(MIDDLE), Velocity(RIGHT), Angle(FALLING_RIGHT)),\n",
       " 1,\n",
       " (Position(MIDDLE), Velocity(RIGHT), Angle(STUCK_RIGHT)),\n",
       " 0,\n",
       " (Position(MIDDLE), Velocity(RIGHT), Angle(FALLING_RIGHT)),\n",
       " 1,\n",
       " (Position(MIDDLE), Velocity(RIGHT), Angle(STUCK_RIGHT)),\n",
       " 1,\n",
       " (Position(MIDDLE), Velocity(RIGHT), Angle(STAB_LEFT)),\n",
       " 0,\n",
       " (Position(MIDDLE), Velocity(RIGHT), Angle(STUCK_RIGHT)),\n",
       " 1,\n",
       " (Position(MIDDLE), Velocity(RIGHT), Angle(STAB_LEFT)),\n",
       " 0,\n",
       " (Position(MIDDLE), Velocity(RIGHT), Angle(STUCK_RIGHT)),\n",
       " 1,\n",
       " (Position(MIDDLE), Velocity(RIGHT), Angle(STAB_LEFT)),\n",
       " 0,\n",
       " (Position(MIDDLE), Velocity(RIGHT), Angle(STUCK_RIGHT)),\n",
       " 1,\n",
       " (Position(MIDDLE), Velocity(RIGHT), Angle(STAB_LEFT)),\n",
       " 0,\n",
       " (Position(MIDDLE), Velocity(RIGHT), Angle(STUCK_RIGHT)),\n",
       " 1,\n",
       " (Position(MIDDLE), Velocity(RIGHT), Angle(STAB_LEFT)),\n",
       " 0,\n",
       " (Position(MIDDLE), Velocity(RIGHT), Angle(STUCK_RIGHT)),\n",
       " 1,\n",
       " (Position(MIDDLE), Velocity(RIGHT), Angle(STAB_LEFT)),\n",
       " 0,\n",
       " (Position(MIDDLE), Velocity(RIGHT), Angle(STUCK_RIGHT)),\n",
       " 0,\n",
       " (Position(MIDDLE), Velocity(RIGHT), Angle(FALLING_RIGHT)),\n",
       " 1,\n",
       " (Position(MIDDLE), Velocity(RIGHT), Angle(STUCK_RIGHT)),\n",
       " 1,\n",
       " (Position(MIDDLE), Velocity(RIGHT), Angle(STAB_LEFT)),\n",
       " 0,\n",
       " (Position(MIDDLE), Velocity(RIGHT), Angle(STUCK_RIGHT)),\n",
       " 1,\n",
       " (Position(MIDDLE), Velocity(RIGHT), Angle(STAB_LEFT)),\n",
       " 0,\n",
       " (Position(MIDDLE), Velocity(RIGHT), Angle(STUCK_RIGHT)),\n",
       " 0,\n",
       " (Position(MIDDLE), Velocity(RIGHT), Angle(FALLING_RIGHT)),\n",
       " 0,\n",
       " (Position(MIDDLE), Velocity(LEFT), Angle(FALLING_RIGHT)),\n",
       " 1,\n",
       " (Position(MIDDLE), Velocity(RIGHT), Angle(FALLING_RIGHT)),\n",
       " 1,\n",
       " (Position(MIDDLE), Velocity(RIGHT), Angle(STUCK_RIGHT)),\n",
       " 1,\n",
       " (Position(MIDDLE), Velocity(RIGHT), Angle(STAB_LEFT)),\n",
       " 0,\n",
       " (Position(MIDDLE), Velocity(RIGHT), Angle(STUCK_RIGHT)),\n",
       " 1,\n",
       " (Position(MIDDLE), Velocity(RIGHT), Angle(STAB_LEFT)),\n",
       " 0,\n",
       " (Position(MIDDLE), Velocity(RIGHT), Angle(STUCK_RIGHT)),\n",
       " 1,\n",
       " (Position(MIDDLE), Velocity(RIGHT), Angle(STAB_LEFT)),\n",
       " 1,\n",
       " (Position(MIDDLE), Velocity(RIGHT), Angle(STAB_LEFT)),\n",
       " 0,\n",
       " (Position(MIDDLE), Velocity(RIGHT), Angle(STAB_LEFT)),\n",
       " 1,\n",
       " (Position(MIDDLE), Velocity(RIGHT), Angle(STAB_LEFT)),\n",
       " 0,\n",
       " (Position(MIDDLE), Velocity(RIGHT), Angle(FALLING_LEFT)),\n",
       " 0,\n",
       " (Position(MIDDLE), Velocity(RIGHT), Angle(STAB_RIGHT)),\n",
       " 0,\n",
       " (Position(MIDDLE), Velocity(RIGHT), Angle(STAB_RIGHT)),\n",
       " 1,\n",
       " (Position(MIDDLE), Velocity(RIGHT), Angle(STUCK_RIGHT)),\n",
       " 0,\n",
       " (Position(MIDDLE), Velocity(RIGHT), Angle(FALLING_RIGHT)),\n",
       " 1,\n",
       " (Position(MIDDLE), Velocity(RIGHT), Angle(STUCK_RIGHT)),\n",
       " 0,\n",
       " (Position(MIDDLE), Velocity(RIGHT), Angle(FALLING_RIGHT)),\n",
       " 1,\n",
       " (Position(MIDDLE), Velocity(RIGHT), Angle(FALLING_RIGHT)),\n",
       " 0,\n",
       " (Position(MIDDLE), Velocity(RIGHT), Angle(FALLING_RIGHT)),\n",
       " 1,\n",
       " (Position(MIDDLE), Velocity(RIGHT), Angle(FALLING_RIGHT)),\n",
       " 0,\n",
       " (Position(MIDDLE), Velocity(RIGHT), Angle(FALLING_RIGHT)),\n",
       " 1,\n",
       " (Position(MIDDLE), Velocity(RIGHT), Angle(FALLING_RIGHT)),\n",
       " 0,\n",
       " (Position(MIDDLE), Velocity(RIGHT), Angle(FALLING_RIGHT)),\n",
       " 0,\n",
       " (Position(MIDDLE), Velocity(LEFT), Angle(FALLING_RIGHT)),\n",
       " 1,\n",
       " (Position(MIDDLE), Velocity(RIGHT), Angle(FALLING_RIGHT)),\n",
       " 1,\n",
       " (Position(MIDDLE), Velocity(RIGHT), Angle(FALLING_RIGHT)),\n",
       " 1,\n",
       " (Position(MIDDLE), Velocity(RIGHT), Angle(STUCK_RIGHT)),\n",
       " 0,\n",
       " (Position(MIDDLE), Velocity(RIGHT), Angle(FALLING_RIGHT)),\n",
       " 0,\n",
       " (Position(MIDDLE), Velocity(RIGHT), Angle(FALLING_RIGHT)),\n",
       " 1,\n",
       " (Position(MIDDLE), Velocity(RIGHT), Angle(FALLING_RIGHT)),\n",
       " 1,\n",
       " (Position(MIDDLE), Velocity(RIGHT), Angle(STUCK_RIGHT)),\n",
       " 0,\n",
       " (Position(MIDDLE), Velocity(RIGHT), Angle(FALLING_RIGHT)),\n",
       " 1,\n",
       " (Position(MIDDLE), Velocity(RIGHT), Angle(FALLING_RIGHT)),\n",
       " 1,\n",
       " (Position(MIDDLE), Velocity(RIGHT), Angle(STAB_LEFT)),\n",
       " 0,\n",
       " (Position(MIDDLE), Velocity(RIGHT), Angle(FALLING_RIGHT)),\n",
       " 1,\n",
       " (Position(MIDDLE), Velocity(RIGHT), Angle(STUCK_RIGHT)),\n",
       " 0,\n",
       " (Position(MIDDLE), Velocity(RIGHT), Angle(FALLING_RIGHT)),\n",
       " 0,\n",
       " (Position(MIDDLE), Velocity(RIGHT), Angle(FALLING_RIGHT)),\n",
       " 1,\n",
       " (Position(MIDDLE), Velocity(RIGHT), Angle(FALLING_RIGHT)),\n",
       " 1,\n",
       " (Position(MIDDLE), Velocity(RIGHT), Angle(STUCK_RIGHT)),\n",
       " 1,\n",
       " (Position(MIDDLE), Velocity(RIGHT), Angle(STAB_LEFT)),\n",
       " 0,\n",
       " (Position(MIDDLE), Velocity(RIGHT), Angle(FALLING_RIGHT)),\n",
       " 1,\n",
       " (Position(MIDDLE), Velocity(RIGHT), Angle(STUCK_RIGHT)),\n",
       " 0,\n",
       " (Position(MIDDLE), Velocity(RIGHT), Angle(FALLING_RIGHT)),\n",
       " 0,\n",
       " (Position(MIDDLE), Velocity(RIGHT), Angle(FALLING_RIGHT)),\n",
       " 1,\n",
       " (Position(MIDDLE), Velocity(RIGHT), Angle(FALLING_RIGHT)),\n",
       " 1,\n",
       " (Position(MIDDLE), Velocity(RIGHT), Angle(FALLING_RIGHT)),\n",
       " 0,\n",
       " (Position(MIDDLE), Velocity(RIGHT), Angle(FALLING_RIGHT)),\n",
       " 1,\n",
       " (Position(MIDDLE), Velocity(RIGHT), Angle(FALLING_RIGHT)),\n",
       " 0,\n",
       " (Position(MIDDLE), Velocity(RIGHT), Angle(FALLING_RIGHT)),\n",
       " 1,\n",
       " (Position(MIDDLE), Velocity(RIGHT), Angle(FALLING_RIGHT)),\n",
       " 0,\n",
       " (Position(MIDDLE), Velocity(RIGHT), Angle(FALLING_RIGHT)),\n",
       " 1,\n",
       " (Position(MIDDLE), Velocity(RIGHT), Angle(FALLING_RIGHT)),\n",
       " 0,\n",
       " (Position(MIDDLE), Velocity(RIGHT), Angle(FALLING_RIGHT))]"
      ]
     },
     "execution_count": 12,
     "metadata": {},
     "output_type": "execute_result"
    }
   ],
   "source": [
    "pg._trajectories_of_last_fit[0]"
   ]
  },
  {
   "cell_type": "markdown",
   "metadata": {},
   "source": [
    "## Loading and saving Policy Graphs"
   ]
  },
  {
   "cell_type": "markdown",
   "metadata": {},
   "source": [
    "### Pickle\n",
    "\n",
    "Saving as pickle lets you restore the full state of the object."
   ]
  },
  {
   "cell_type": "code",
   "execution_count": 13,
   "metadata": {},
   "outputs": [],
   "source": [
    "pg.save('pickle', './ppo-cartpole.pickle')"
   ]
  },
  {
   "cell_type": "code",
   "execution_count": 14,
   "metadata": {},
   "outputs": [
    {
     "name": "stdout",
     "output_type": "stream",
     "text": [
      "Number of nodes:             14\n",
      "Number of edges:             130\n",
      "Num. of stored trajectories: 200\n"
     ]
    }
   ],
   "source": [
    "pg_pickle = PolicyGraph.from_pickle('./ppo-cartpole.pickle')\n",
    "\n",
    "print(f'Number of nodes:             {len(pg_pickle.nodes)}')\n",
    "print(f'Number of edges:             {len(pg_pickle.edges)}')\n",
    "print(f'Num. of stored trajectories: {len(pg._trajectories_of_last_fit)}')"
   ]
  },
  {
   "cell_type": "markdown",
   "metadata": {},
   "source": [
    "### CSV\n",
    "\n",
    "Saving as CSV creates three separated CSV files for node, edge and trajectory information."
   ]
  },
  {
   "cell_type": "code",
   "execution_count": 15,
   "metadata": {},
   "outputs": [],
   "source": [
    "import csv"
   ]
  },
  {
   "cell_type": "code",
   "execution_count": 16,
   "metadata": {},
   "outputs": [],
   "source": [
    "pg.save('csv', ['./ppo-cartpole_nodes.csv', './ppo-cartpole_edges.csv', './ppo-cartpole_trajectories.csv'])"
   ]
  },
  {
   "cell_type": "code",
   "execution_count": 17,
   "metadata": {},
   "outputs": [
    {
     "name": "stdout",
     "output_type": "stream",
     "text": [
      "['id', 'value', 'p(s)', 'frequency']\n",
      "['0', 'Position(MIDDLE)&Velocity(RIGHT)&Angle(FALLING_RIGHT)', '0.21179730799683294', '7490']\n",
      "['1', 'Position(MIDDLE)&Velocity(RIGHT)&Angle(STUCK_RIGHT)', '0.171021377672209', '6048']\n",
      "['2', 'Position(MIDDLE)&Velocity(RIGHT)&Angle(STAB_RIGHT)', '0.0221128831580138', '782']\n",
      "['3', 'Position(MIDDLE)&Velocity(LEFT)&Angle(STUCK_RIGHT)', '0.0385702974776609', '1364']\n",
      "['4', 'Position(MIDDLE)&Velocity(RIGHT)&Angle(FALLING_LEFT)', '0.05762922746295668', '2038']\n",
      "['5', 'Position(MIDDLE)&Velocity(RIGHT)&Angle(STAB_LEFT)', '0.22455039022734985', '7941']\n",
      "['6', 'Position(MIDDLE)&Velocity(LEFT)&Angle(FALLING_RIGHT)', '0.12249745503902273', '4332']\n",
      "['7', 'Position(MIDDLE)&Velocity(LEFT)&Angle(STAB_RIGHT)', '0.06749802058590657', '2387']\n",
      "['8', 'Position(MIDDLE)&Velocity(LEFT)&Angle(STUCK_LEFT)', '0.022056328469630133', '780']\n"
     ]
    }
   ],
   "source": [
    "with open('ppo-cartpole_nodes.csv', 'r+') as f:\n",
    "    csv_r = csv.reader(f)\n",
    "    for i in range(10):\n",
    "        print(next(csv_r))"
   ]
  },
  {
   "cell_type": "markdown",
   "metadata": {},
   "source": [
    "Edges and trajectories use the IDs of the nodes, from the corresponding node CSV file."
   ]
  },
  {
   "cell_type": "code",
   "execution_count": 18,
   "metadata": {},
   "outputs": [
    {
     "name": "stdout",
     "output_type": "stream",
     "text": [
      "['from', 'to', 'action', 'p(s)', 'frequency']\n",
      "['0', '5', '1', '0.1678082191780822', '1225']\n",
      "['0', '6', '0', '0.06698630136986301', '489']\n",
      "['0', '1', '1', '0.2606849315068493', '1903']\n",
      "['0', '0', '1', '0.27287671232876715', '1992']\n",
      "['0', '0', '0', '0.23164383561643836', '1691']\n",
      "['1', '6', '0', '0.19284886608177454', '1165']\n",
      "['1', '5', '1', '0.5272305909617613', '3185']\n",
      "['1', '0', '0', '0.27528554875020694', '1663']\n",
      "['1', '13', '1', '0.0013242840589306405', '8']\n"
     ]
    }
   ],
   "source": [
    "with open('ppo-cartpole_edges.csv', 'r+') as f:\n",
    "    csv_r = csv.reader(f)\n",
    "    for i in range(10):\n",
    "        print(next(csv_r))"
   ]
  },
  {
   "cell_type": "markdown",
   "metadata": {},
   "source": [
    "Each trajectory is stored as a series of (state0, action0, state1, ..., stateN) lists"
   ]
  },
  {
   "cell_type": "code",
   "execution_count": 19,
   "metadata": {},
   "outputs": [
    {
     "name": "stdout",
     "output_type": "stream",
     "text": [
      "['8', '0', '7', '1', '8', '0', '7', '1', '10', '0', '7', '1', '10', '0', '7', '0', '7', '1', '7', '0', '7', '1', '7', '0', '7', '1', '8', '0', '7', '1', '3', '0', '6', '1', '3', '0', '6', '1', '3', '1', '9', '0', '6', '0', '6', '1', '6', '0', '6', '1', '6', '0', '6', '1', '6', '0', '6', '1', '6', '1', '3', '1', '5', '0', '3', '0', '6', '1', '3', '1', '5', '0', '3', '1', '5', '1', '5', '0', '5', '0', '6', '1', '5', '1', '5', '0', '5', '1', '5', '0', '5', '0', '6', '1', '1', '0', '6', '1', '1', '0', '6', '1', '1', '1', '5', '0', '1', '0', '6', '1', '1', '0', '6', '1', '1', '1', '5', '0', '1', '0', '6', '1', '1', '1', '5', '0', '1', '1', '5', '1', '5', '0', '5', '0', '1', '1', '5', '0', '0', '1', '5', '0', '0', '1', '5', '0', '0', '1', '5', '0', '0', '1', '5', '0', '0', '0', '6', '1', '0', '1', '5', '0', '0', '1', '5', '0', '0', '1', '5', '0', '0', '1', '5', '0', '0', '0', '6', '1', '0', '1', '1', '0', '0', '1', '1', '1', '5', '0', '1', '1', '5', '0', '1', '1', '5', '0', '1', '1', '5', '0', '1', '1', '5', '0', '1', '1', '5', '0', '1', '0', '0', '1', '1', '1', '5', '0', '1', '1', '5', '0', '1', '0', '0', '0', '6', '1', '0', '1', '1', '1', '5', '0', '1', '1', '5', '0', '1', '1', '5', '1', '5', '0', '5', '1', '5', '0', '4', '0', '2', '0', '2', '1', '1', '0', '0', '1', '1', '0', '0', '1', '0', '0', '0', '1', '0', '0', '0', '1', '0', '0', '0', '0', '6', '1', '0', '1', '0', '1', '1', '0', '0', '0', '0', '1', '0', '1', '1', '0', '0', '1', '0', '1', '5', '0', '0', '1', '1', '0', '0', '0', '0', '1', '0', '1', '1', '1', '5', '0', '0', '1', '1', '0', '0', '0', '0', '1', '0', '1', '0', '0', '0', '1', '0', '0', '0', '1', '0', '0', '0', '1', '0', '0', '0']\n"
     ]
    }
   ],
   "source": [
    "with open('ppo-cartpole_trajectories.csv', 'r+') as f:\n",
    "    csv_r = csv.reader(f)\n",
    "    for i in range(1):\n",
    "        print(next(csv_r))"
   ]
  },
  {
   "cell_type": "markdown",
   "metadata": {},
   "source": [
    "There are two ways of loading Policy Graphs from CSV files. When loading from nodes and edges, though, episode trajectories cannot be restored."
   ]
  },
  {
   "cell_type": "code",
   "execution_count": 21,
   "metadata": {},
   "outputs": [
    {
     "name": "stdout",
     "output_type": "stream",
     "text": [
      "Number of nodes:             14\n",
      "Number of edges:             130\n",
      "Num. of stored trajectories: 200\n"
     ]
    }
   ],
   "source": [
    "pg_csv = PolicyGraph.from_nodes_and_trajectories('./ppo-cartpole_nodes.csv', './ppo-cartpole_trajectories.csv',\n",
    "                                          environment, discretizer)\n",
    "print(f'Number of nodes:             {len(pg_csv.nodes)}')\n",
    "print(f'Number of edges:             {len(pg_csv.edges)}')\n",
    "print(f'Num. of stored trajectories: {len(pg_csv._trajectories_of_last_fit)}')"
   ]
  },
  {
   "cell_type": "code",
   "execution_count": 20,
   "metadata": {},
   "outputs": [
    {
     "name": "stdout",
     "output_type": "stream",
     "text": [
      "Number of nodes:             14\n",
      "Number of edges:             130\n",
      "Num. of stored trajectories: 0\n"
     ]
    }
   ],
   "source": [
    "pg_csv = PolicyGraph.from_nodes_and_edges('./ppo-cartpole_nodes.csv', './ppo-cartpole_edges.csv',\n",
    "                                          environment, discretizer)\n",
    "print(f'Number of nodes:             {len(pg_csv.nodes)}')\n",
    "print(f'Number of edges:             {len(pg_csv.edges)}')\n",
    "print(f'Num. of stored trajectories: {len(pg_csv._trajectories_of_last_fit)}')"
   ]
  },
  {
   "cell_type": "markdown",
   "metadata": {},
   "source": [
    "### Gram\n",
    "\n",
    "PGs can also be exported to the [gram](https://neo4j.com/developer-blog/gram-a-data-graph-format/) format, allowing visualization using Neo4j. Episode trajectories cannot be stored in this format, though.\n",
    "\n",
    "PGs currently cannot be loaded from a Gram file."
   ]
  },
  {
   "cell_type": "code",
   "execution_count": 22,
   "metadata": {},
   "outputs": [],
   "source": [
    "pg.save('gram', './ppo-cartpole.gram')"
   ]
  },
  {
   "cell_type": "code",
   "execution_count": 23,
   "metadata": {},
   "outputs": [
    {
     "name": "stdout",
     "output_type": "stream",
     "text": [
      "\n",
      "(s0:State {\n",
      "  value:\"Position(MIDDLE)&Velocity(RIGHT)&Angle(FALLING_RIGHT)\"\n",
      "  probability:0.21179730799683294\n",
      "  frequency:7490\n",
      "})\n",
      "(s1:State {\n",
      "  value:\"Position(MIDDLE)&Velocity(RIGHT)&Angle(STUCK_RIGHT)\"\n",
      "  probability:0.171021377672209\n",
      "  frequency:6048\n"
     ]
    }
   ],
   "source": [
    "!head ./ppo-cartpole.gram"
   ]
  },
  {
   "cell_type": "code",
   "execution_count": 24,
   "metadata": {},
   "outputs": [
    {
     "name": "stdout",
     "output_type": "stream",
     "text": [
      "(s13)-[a1 {probability:0.11049723756906077 frequency:20}]->(s4)\n",
      "(s13)-[a0 {probability:0.0718232044198895 frequency:13}]->(s4)\n",
      "(s13)-[a0 {probability:0.04419889502762431 frequency:8}]->(s8)\n",
      "(s13)-[a0 {probability:0.06629834254143646 frequency:12}]->(s2)\n",
      "(s13)-[a0 {probability:0.06077348066298342 frequency:11}]->(s6)\n",
      "(s13)-[a1 {probability:0.03314917127071823 frequency:6}]->(s13)\n",
      "(s13)-[a0 {probability:0.0055248618784530384 frequency:1}]->(s13)\n",
      "(s13)-[a0 {probability:0.016574585635359115 frequency:3}]->(s0)\n",
      "(s13)-[a1 {probability:0.011049723756906077 frequency:2}]->(s0)\n",
      "(s13)-[a1 {probability:0.04419889502762431 frequency:8}]->(s1)"
     ]
    }
   ],
   "source": [
    "!tail ./ppo-cartpole.gram"
   ]
  },
  {
   "cell_type": "markdown",
   "metadata": {},
   "source": [
    "## Using PG-based policies\n",
    "\n",
    "Using the `PGBasedPolicy`, we can create policies that replicate an agent's behavior, based on their generated Policy Graph. These policies are subclasses of the `pgeon.Agent` class.\n",
    "\n",
    "The policy mode (greedy/stochastic) can be specified via the `PGBasedPolicyMode` enum. The behavior when encountering an unknown node (select random action/search nearest node in PG) can be specified via the `PGBasedPolicyNodeNotFoundMode` enum."
   ]
  },
  {
   "cell_type": "code",
   "execution_count": 25,
   "metadata": {},
   "outputs": [],
   "source": [
    "from pgeon import PGBasedPolicy, PGBasedPolicyMode, PGBasedPolicyNodeNotFoundMode"
   ]
  },
  {
   "cell_type": "code",
   "execution_count": 32,
   "metadata": {},
   "outputs": [],
   "source": [
    "policy = PGBasedPolicy(pg, mode=PGBasedPolicyMode.GREEDY,\n",
    "                       node_not_found_mode=PGBasedPolicyNodeNotFoundMode.RANDOM_UNIFORM)"
   ]
  },
  {
   "cell_type": "code",
   "execution_count": 33,
   "metadata": {},
   "outputs": [
    {
     "name": "stdout",
     "output_type": "stream",
     "text": [
      "Observed state:  [ 0.04819953 -0.01298102  0.04525431 -0.01622432]\n",
      "Discretization:  (Position(MIDDLE), Velocity(LEFT), Angle(STUCK_RIGHT))\n",
      "Selected action: 0\n"
     ]
    }
   ],
   "source": [
    "obs, _ = environment.reset()\n",
    "action = policy.act(obs)\n",
    "\n",
    "print(f'Observed state:  {obs}')\n",
    "print(f'Discretization:  {policy.pg.discretizer.discretize(obs)}')\n",
    "print(f'Selected action: {action}')"
   ]
  },
  {
   "cell_type": "markdown",
   "metadata": {},
   "source": [
    "## Implementing new Discretizers\n",
    "\n",
    "In order to generate Policy Graphs using a certain environment, a Discretizer that transforms the state into a series of predicates has to be implemented by creating a class that inherits from `pgeon.Discretizer` and implements all its abstract methods."
   ]
  },
  {
   "cell_type": "code",
   "execution_count": 38,
   "metadata": {},
   "outputs": [],
   "source": [
    "from enum import Enum, auto\n",
    "\n",
    "from pgeon import Predicate"
   ]
  },
  {
   "cell_type": "markdown",
   "metadata": {},
   "source": [
    "Firstly, a set of predicates and their values has to be decided. In this case we use three: the cartpole's `Position` (is the cart in the middle, left or right?) and `Velocity` (is the cart moving left or right?), and the state of its pole (`Angle`, meaning the pole is standing, falling to one side, stabilizing...).\n",
    "\n",
    "Each of the predicates and its possible values are represented as an enum."
   ]
  },
  {
   "cell_type": "code",
   "execution_count": 37,
   "metadata": {},
   "outputs": [],
   "source": [
    "class Position(Enum):\n",
    "    LEFT = auto()\n",
    "    MIDDLE = auto()\n",
    "    RIGHT = auto()\n",
    "\n",
    "class Velocity(Enum):\n",
    "    LEFT = auto()\n",
    "    RIGHT = auto()\n",
    "\n",
    "class Angle(Enum):\n",
    "    STANDING = auto()\n",
    "    STUCK_LEFT = auto()\n",
    "    STUCK_RIGHT = auto()\n",
    "    FALLING_LEFT = auto()\n",
    "    FALLING_RIGHT = auto()\n",
    "    STABILIZING_LEFT = auto()\n",
    "    STABILIZING_RIGHT = auto()"
   ]
  },
  {
   "cell_type": "markdown",
   "metadata": {},
   "source": [
    "This is an example of a state as a set of predicates. Note that a predicate accepts an ordered list of values (e.g. `[Position.LEFT, Velocity.RIGHT]`), as some environments benefit from that level of description."
   ]
  },
  {
   "cell_type": "code",
   "execution_count": 41,
   "metadata": {},
   "outputs": [
    {
     "data": {
      "text/plain": [
       "(Position(LEFT), Velocity(LEFT), Angle(STABILIZING_RIGHT))"
      ]
     },
     "execution_count": 41,
     "metadata": {},
     "output_type": "execute_result"
    }
   ],
   "source": [
    "Predicate(Position, [Position.LEFT]), Predicate(Velocity, [Velocity.LEFT]), Predicate(Angle, [Angle.STABILIZING_RIGHT])"
   ]
  },
  {
   "cell_type": "markdown",
   "metadata": {},
   "source": [
    "A discretizer class needs to implement the following methods:\n",
    "\n",
    "- `discretize(self, state)`: Converts an environment's raw observation into a discretized state.\n",
    "- `state_to_str(self, state) -> str`: Converts a discrete state into a string (used in serialization).\n",
    "- `str_to_state(self, state: str)`: Converts a string representing a state into said state (used in serialization).\n",
    "- `nearest_state(self, state)`: A generator function that, given a certain discrete state, yields the nearest discrete states, in order. The distance heuristic is left to the implementer.\n",
    "\n",
    "This is an example use of these methods:"
   ]
  },
  {
   "cell_type": "code",
   "execution_count": 66,
   "metadata": {},
   "outputs": [],
   "source": [
    "obs, _ = environment.reset()\n",
    "discretized_obs = discretizer.discretize(obs)\n",
    "str_obs = discretizer.state_to_str(discretized_obs)\n",
    "str_to_state = discretizer.str_to_state(str_obs)"
   ]
  },
  {
   "cell_type": "code",
   "execution_count": 68,
   "metadata": {},
   "outputs": [
    {
     "name": "stdout",
     "output_type": "stream",
     "text": [
      "Observed state:  [0.03045334 0.04321589 0.01941581 0.03160628]\n",
      "Discretization:  (Position(MIDDLE), Velocity(RIGHT), Angle(STUCK_RIGHT))\n",
      "State to str:    Position(MIDDLE)&Velocity(RIGHT)&Angle(STUCK_RIGHT)\n",
      "Str to state:    (Position(MIDDLE), Velocity(RIGHT), Angle(STUCK_RIGHT))\n"
     ]
    }
   ],
   "source": [
    "print(f'Observed state:  {obs}')\n",
    "print(f'Discretization:  {discretized_obs}')\n",
    "print(f'State to str:    {str_obs}')\n",
    "print(f'Str to state:    {str_to_state}')"
   ]
  },
  {
   "cell_type": "code",
   "execution_count": null,
   "metadata": {},
   "outputs": [],
   "source": []
  }
 ],
 "metadata": {
  "kernelspec": {
   "display_name": "Python 3 (ipykernel)",
   "language": "python",
   "name": "python3"
  },
  "language_info": {
   "codemirror_mode": {
    "name": "ipython",
    "version": 3
   },
   "file_extension": ".py",
   "mimetype": "text/x-python",
   "name": "python",
   "nbconvert_exporter": "python",
   "pygments_lexer": "ipython3",
   "version": "3.8.0"
  }
 },
 "nbformat": 4,
 "nbformat_minor": 4
}