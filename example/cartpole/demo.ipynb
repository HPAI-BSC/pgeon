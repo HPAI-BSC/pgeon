{
 "cells": [
  {
   "cell_type": "markdown",
   "metadata": {},
   "source": [
    "# XAI In Action - pgeon\n",
    "\n",
    "This notebook shows the current functionalities of the **pgeon** library."
   ]
  },
  {
   "cell_type": "markdown",
   "metadata": {},
   "source": [
    "## Preparation\n",
    "\n",
    "Loading an environment, an agent and a discretizer; the necessary elements to generate a Policy Graph."
   ]
  },
  {
   "cell_type": "code",
   "execution_count": 1,
   "metadata": {
    "ExecuteTime": {
     "end_time": "2023-12-16T17:51:48.636185Z",
     "start_time": "2023-12-16T17:51:48.184685Z"
    }
   },
   "outputs": [],
   "source": [
    "import gymnasium as gym\n",
    "\n",
    "from example.cartpole.discretizer import CartpoleDiscretizer"
   ]
  },
  {
   "cell_type": "code",
   "execution_count": 2,
   "outputs": [],
   "source": [
    "import torch"
   ],
   "metadata": {
    "collapsed": false,
    "ExecuteTime": {
     "end_time": "2023-12-16T17:51:49.377908Z",
     "start_time": "2023-12-16T17:51:48.400311Z"
    }
   }
  },
  {
   "cell_type": "code",
   "execution_count": 3,
   "metadata": {
    "collapsed": false,
    "jupyter": {
     "outputs_hidden": false
    },
    "pycharm": {
     "name": "#%%\n"
    },
    "ExecuteTime": {
     "end_time": "2023-12-16T17:51:49.381662Z",
     "start_time": "2023-12-16T17:51:49.376084Z"
    }
   },
   "outputs": [],
   "source": [
    "environment = gym.make('CartPole-v1')\n",
    "discretizer = CartpoleDiscretizer()"
   ]
  },
  {
   "cell_type": "code",
   "execution_count": 4,
   "metadata": {
    "collapsed": false,
    "jupyter": {
     "outputs_hidden": false
    },
    "pycharm": {
     "name": "#%%\n"
    },
    "ExecuteTime": {
     "end_time": "2023-12-16T17:51:50.905765Z",
     "start_time": "2023-12-16T17:51:49.383050Z"
    }
   },
   "outputs": [],
   "source": [
    "from pgeon import Agent\n",
    "from ray.rllib.algorithms.algorithm import Algorithm\n",
    "\n",
    "class CartpoleAgent(Agent):\n",
    "    def __init__(self, path):\n",
    "        self.agent = Algorithm.from_checkpoint(path)\n",
    "\n",
    "    def act(self, state):\n",
    "        return self.agent.compute_single_action(state)"
   ]
  },
  {
   "cell_type": "code",
   "execution_count": 5,
   "metadata": {
    "collapsed": false,
    "jupyter": {
     "outputs_hidden": false
    },
    "pycharm": {
     "name": "#%%\n"
    },
    "scrolled": true,
    "ExecuteTime": {
     "end_time": "2023-12-16T17:51:55.984863Z",
     "start_time": "2023-12-16T17:51:50.907311Z"
    }
   },
   "outputs": [
    {
     "name": "stderr",
     "output_type": "stream",
     "text": [
      "2023-12-16 11:51:50,913\tWARNING __init__.py:10 -- PG has/have been moved to `rllib_contrib` and will no longer be maintained by the RLlib team. You can still use it/them normally inside RLlib util Ray 2.8, but from Ray 2.9 on, all `rllib_contrib` algorithms will no longer be part of the core repo, and will therefore have to be installed separately with pinned dependencies for e.g. ray[rllib] and other packages! See https://github.com/ray-project/ray/tree/master/rllib_contrib#rllib-contrib for more information on the RLlib contrib effort.\n",
      "/Users/sergio/repos/pgeon/venv/lib/python3.8/site-packages/ray/rllib/algorithms/algorithm.py:484: RayDeprecationWarning: This API is deprecated and may be removed in future Ray releases. You could suppress this warning by setting env variable PYTHONWARNINGS=\"ignore::DeprecationWarning\"\n",
      "`UnifiedLogger` will be removed in Ray 2.7.\n",
      "  return UnifiedLogger(config, logdir, loggers=None)\n",
      "/Users/sergio/repos/pgeon/venv/lib/python3.8/site-packages/ray/tune/logger/unified.py:53: RayDeprecationWarning: This API is deprecated and may be removed in future Ray releases. You could suppress this warning by setting env variable PYTHONWARNINGS=\"ignore::DeprecationWarning\"\n",
      "The `JsonLogger interface is deprecated in favor of the `ray.tune.json.JsonLoggerCallback` interface and will be removed in Ray 2.7.\n",
      "  self._loggers.append(cls(self.config, self.logdir, self.trial))\n",
      "/Users/sergio/repos/pgeon/venv/lib/python3.8/site-packages/ray/tune/logger/unified.py:53: RayDeprecationWarning: This API is deprecated and may be removed in future Ray releases. You could suppress this warning by setting env variable PYTHONWARNINGS=\"ignore::DeprecationWarning\"\n",
      "The `CSVLogger interface is deprecated in favor of the `ray.tune.csv.CSVLoggerCallback` interface and will be removed in Ray 2.7.\n",
      "  self._loggers.append(cls(self.config, self.logdir, self.trial))\n",
      "/Users/sergio/repos/pgeon/venv/lib/python3.8/site-packages/ray/tune/logger/unified.py:53: RayDeprecationWarning: This API is deprecated and may be removed in future Ray releases. You could suppress this warning by setting env variable PYTHONWARNINGS=\"ignore::DeprecationWarning\"\n",
      "The `TBXLogger interface is deprecated in favor of the `ray.tune.tensorboardx.TBXLoggerCallback` interface and will be removed in Ray 2.7.\n",
      "  self._loggers.append(cls(self.config, self.logdir, self.trial))\n",
      "2023-12-16 11:51:52,228\tINFO worker.py:1673 -- Started a local Ray instance.\n",
      "\u001B[36m(RolloutWorker pid=16326)\u001B[0m 2023-12-16 11:51:55,650\tWARNING __init__.py:10 -- PG has/have been moved to `rllib_contrib` and will no longer be maintained by the RLlib team. You can still use it/them normally inside RLlib util Ray 2.8, but from Ray 2.9 on, all `rllib_contrib` algorithms will no longer be part of the core repo, and will therefore have to be installed separately with pinned dependencies for e.g. ray[rllib] and other packages! See https://github.com/ray-project/ray/tree/master/rllib_contrib#rllib-contrib for more information on the RLlib contrib effort.\n",
      "2023-12-16 11:51:55,957\tWARNING util.py:62 -- Install gputil for GPU system monitoring.\n"
     ]
    }
   ],
   "source": [
    "agent = CartpoleAgent('checkpoints/PPO_CartPole-v1_1acbb_00000_0_2023-12-05_19-28-36/checkpoint_000000')"
   ]
  },
  {
   "cell_type": "markdown",
   "metadata": {},
   "source": [
    "## Policy Graph generation"
   ]
  },
  {
   "cell_type": "code",
   "execution_count": 6,
   "metadata": {
    "ExecuteTime": {
     "end_time": "2023-12-16T17:51:55.986227Z",
     "start_time": "2023-12-16T17:51:55.972014Z"
    }
   },
   "outputs": [],
   "source": [
    "from pgeon import PolicyGraph"
   ]
  },
  {
   "cell_type": "markdown",
   "metadata": {},
   "source": [
    "Policy Graphs are instantiated with an environment and a discretizer."
   ]
  },
  {
   "cell_type": "code",
   "execution_count": 7,
   "metadata": {
    "ExecuteTime": {
     "end_time": "2023-12-16T17:51:55.986295Z",
     "start_time": "2023-12-16T17:51:55.986066Z"
    }
   },
   "outputs": [],
   "source": [
    "pg = PolicyGraph(environment, discretizer)"
   ]
  },
  {
   "cell_type": "markdown",
   "metadata": {},
   "source": [
    "We generate a Policy Graph with the `fit()` function, in this case generating 1000 episode trajectories from our agent. If the PG has been previously fit, one can choose to update the PG with new trajectories (instead of re-generating the PG) with `update=True`."
   ]
  },
  {
   "cell_type": "code",
   "execution_count": 8,
   "metadata": {
    "ExecuteTime": {
     "end_time": "2023-12-16T17:52:21.498496Z",
     "start_time": "2023-12-16T17:51:55.986262Z"
    }
   },
   "outputs": [
    {
     "name": "stderr",
     "output_type": "stream",
     "text": [
      "Fitting PG...: 100%|██████████| 200/200 [00:25<00:00,  7.84it/s]\n"
     ]
    }
   ],
   "source": [
    "pg = pg.fit(agent, num_episodes=200, update=False)"
   ]
  },
  {
   "cell_type": "code",
   "execution_count": 9,
   "metadata": {
    "ExecuteTime": {
     "end_time": "2023-12-16T17:52:21.502560Z",
     "start_time": "2023-12-16T17:52:21.499380Z"
    }
   },
   "outputs": [
    {
     "name": "stdout",
     "output_type": "stream",
     "text": [
      "Number of nodes: 14\n",
      "Number of edges: 133\n"
     ]
    }
   ],
   "source": [
    "print(f'Number of nodes: {len(pg.nodes)}')\n",
    "print(f'Number of edges: {len(pg.edges)}')"
   ]
  },
  {
   "cell_type": "markdown",
   "metadata": {},
   "source": [
    "ach node has information about a discretized state:"
   ]
  },
  {
   "cell_type": "code",
   "execution_count": 10,
   "metadata": {
    "ExecuteTime": {
     "end_time": "2023-12-16T17:52:21.505267Z",
     "start_time": "2023-12-16T17:52:21.502446Z"
    }
   },
   "outputs": [
    {
     "name": "stdout",
     "output_type": "stream",
     "text": [
      "(Position(MIDDLE), Velocity(LEFT), Angle(FALLING_LEFT))\n",
      "  Times visited: 212\n",
      "  p(s):          0.005\n"
     ]
    }
   ],
   "source": [
    "arbitrary_state = list(pg.nodes)[0]\n",
    "\n",
    "print(arbitrary_state)\n",
    "print(f'  Times visited: {pg.nodes[arbitrary_state][\"frequency\"]}')\n",
    "print(f'  p(s):          {pg.nodes[arbitrary_state][\"probability\"]:.3f}')"
   ]
  },
  {
   "cell_type": "markdown",
   "metadata": {},
   "source": [
    "Each edge has information about a transition between states:"
   ]
  },
  {
   "cell_type": "code",
   "execution_count": 11,
   "metadata": {
    "ExecuteTime": {
     "end_time": "2023-12-16T17:52:21.508996Z",
     "start_time": "2023-12-16T17:52:21.506581Z"
    }
   },
   "outputs": [
    {
     "name": "stdout",
     "output_type": "stream",
     "text": [
      "From:    (Position(MIDDLE), Velocity(LEFT), Angle(FALLING_LEFT))\n",
      "Action:  1\n",
      "To:      (Position(MIDDLE), Velocity(RIGHT), Angle(FALLING_LEFT))\n",
      "  Times visited:      13\n",
      "  p(s_to,a | s_from): 0.061\n"
     ]
    }
   ],
   "source": [
    "arbitrary_edge = list(pg.edges)[0]\n",
    "\n",
    "print(f'From:    {arbitrary_edge[0]}')\n",
    "print(f'Action:  {arbitrary_edge[2]}')\n",
    "print(f'To:      {arbitrary_edge[1]}')\n",
    "print(f'  Times visited:      {pg[arbitrary_edge[0]][arbitrary_edge[1]][arbitrary_edge[2]][\"frequency\"]}')\n",
    "print(f'  p(s_to,a | s_from): {pg[arbitrary_edge[0]][arbitrary_edge[1]][arbitrary_edge[2]][\"probability\"]:.3f}')"
   ]
  },
  {
   "cell_type": "markdown",
   "metadata": {},
   "source": [
    "The `PolicyGraph` object also stores the full discretized episode trajectories of the last fit."
   ]
  },
  {
   "cell_type": "code",
   "execution_count": 12,
   "metadata": {
    "ExecuteTime": {
     "end_time": "2023-12-16T17:52:21.514302Z",
     "start_time": "2023-12-16T17:52:21.511337Z"
    }
   },
   "outputs": [
    {
     "data": {
      "text/plain": "200"
     },
     "execution_count": 12,
     "metadata": {},
     "output_type": "execute_result"
    }
   ],
   "source": [
    "len(pg._trajectories_of_last_fit)"
   ]
  },
  {
   "cell_type": "markdown",
   "metadata": {},
   "source": [
    "Each trajectory is stored as a (state0, action0, state1, ..., stateN) tuple ."
   ]
  },
  {
   "cell_type": "code",
   "execution_count": 13,
   "metadata": {
    "ExecuteTime": {
     "end_time": "2023-12-16T17:52:21.598547Z",
     "start_time": "2023-12-16T17:52:21.533355Z"
    }
   },
   "outputs": [
    {
     "data": {
      "text/plain": "[(Position(MIDDLE), Velocity(LEFT), Angle(STUCK_LEFT)),\n 0,\n (Position(MIDDLE), Velocity(LEFT), Angle(STABILIZING_RIGHT)),\n 1,\n (Position(MIDDLE), Velocity(LEFT), Angle(STUCK_LEFT)),\n 0,\n (Position(MIDDLE), Velocity(LEFT), Angle(STABILIZING_RIGHT)),\n 0,\n (Position(MIDDLE), Velocity(LEFT), Angle(STABILIZING_RIGHT)),\n 1,\n (Position(MIDDLE), Velocity(LEFT), Angle(STABILIZING_RIGHT)),\n 0,\n (Position(MIDDLE), Velocity(LEFT), Angle(STABILIZING_RIGHT)),\n 1,\n (Position(MIDDLE), Velocity(LEFT), Angle(STABILIZING_RIGHT)),\n 0,\n (Position(MIDDLE), Velocity(LEFT), Angle(STABILIZING_RIGHT)),\n 1,\n (Position(MIDDLE), Velocity(LEFT), Angle(STABILIZING_RIGHT)),\n 1,\n (Position(MIDDLE), Velocity(LEFT), Angle(FALLING_LEFT)),\n 1,\n (Position(MIDDLE), Velocity(RIGHT), Angle(FALLING_LEFT)),\n 0,\n (Position(MIDDLE), Velocity(LEFT), Angle(FALLING_LEFT)),\n 1,\n (Position(MIDDLE), Velocity(RIGHT), Angle(FALLING_LEFT)),\n 0,\n (Position(MIDDLE), Velocity(LEFT), Angle(FALLING_LEFT)),\n 0,\n (Position(MIDDLE), Velocity(LEFT), Angle(STABILIZING_RIGHT)),\n 1,\n (Position(MIDDLE), Velocity(LEFT), Angle(FALLING_LEFT)),\n 0,\n (Position(MIDDLE), Velocity(LEFT), Angle(STABILIZING_RIGHT)),\n 1,\n (Position(MIDDLE), Velocity(LEFT), Angle(FALLING_LEFT)),\n 0,\n (Position(MIDDLE), Velocity(LEFT), Angle(STUCK_LEFT)),\n 0,\n (Position(MIDDLE), Velocity(LEFT), Angle(STABILIZING_RIGHT)),\n 1,\n (Position(MIDDLE), Velocity(LEFT), Angle(STUCK_LEFT)),\n 1,\n (Position(MIDDLE), Velocity(LEFT), Angle(FALLING_LEFT)),\n 0,\n (Position(MIDDLE), Velocity(LEFT), Angle(STUCK_LEFT)),\n 0,\n (Position(MIDDLE), Velocity(LEFT), Angle(STABILIZING_RIGHT)),\n 1,\n (Position(MIDDLE), Velocity(LEFT), Angle(STUCK_LEFT)),\n 0,\n (Position(MIDDLE), Velocity(LEFT), Angle(STABILIZING_RIGHT)),\n 1,\n (Position(MIDDLE), Velocity(LEFT), Angle(STUCK_LEFT)),\n 0,\n (Position(MIDDLE), Velocity(LEFT), Angle(STABILIZING_RIGHT)),\n 1,\n (Position(MIDDLE), Velocity(LEFT), Angle(STUCK_LEFT)),\n 0,\n (Position(MIDDLE), Velocity(LEFT), Angle(STABILIZING_RIGHT)),\n 1,\n (Position(MIDDLE), Velocity(LEFT), Angle(STUCK_RIGHT)),\n 0,\n (Position(MIDDLE), Velocity(LEFT), Angle(FALLING_RIGHT)),\n 1,\n (Position(MIDDLE), Velocity(LEFT), Angle(STUCK_RIGHT)),\n 0,\n (Position(MIDDLE), Velocity(LEFT), Angle(FALLING_RIGHT)),\n 1,\n (Position(MIDDLE), Velocity(LEFT), Angle(STUCK_RIGHT)),\n 0,\n (Position(MIDDLE), Velocity(LEFT), Angle(FALLING_RIGHT)),\n 1,\n (Position(MIDDLE), Velocity(LEFT), Angle(STUCK_RIGHT)),\n 0,\n (Position(MIDDLE), Velocity(LEFT), Angle(FALLING_RIGHT)),\n 1,\n (Position(MIDDLE), Velocity(LEFT), Angle(STUCK_RIGHT)),\n 1,\n (Position(MIDDLE), Velocity(LEFT), Angle(STABILIZING_LEFT)),\n 0,\n (Position(MIDDLE), Velocity(LEFT), Angle(STUCK_RIGHT)),\n 1,\n (Position(MIDDLE), Velocity(LEFT), Angle(STABILIZING_LEFT)),\n 0,\n (Position(MIDDLE), Velocity(LEFT), Angle(STUCK_RIGHT)),\n 1,\n (Position(MIDDLE), Velocity(LEFT), Angle(STABILIZING_LEFT)),\n 0,\n (Position(MIDDLE), Velocity(LEFT), Angle(STUCK_RIGHT)),\n 1,\n (Position(MIDDLE), Velocity(LEFT), Angle(STABILIZING_LEFT)),\n 0,\n (Position(MIDDLE), Velocity(LEFT), Angle(FALLING_RIGHT)),\n 1,\n (Position(MIDDLE), Velocity(LEFT), Angle(STABILIZING_LEFT)),\n 0,\n (Position(MIDDLE), Velocity(LEFT), Angle(FALLING_RIGHT)),\n 1,\n (Position(MIDDLE), Velocity(LEFT), Angle(STABILIZING_LEFT)),\n 0,\n (Position(MIDDLE), Velocity(LEFT), Angle(FALLING_RIGHT)),\n 1,\n (Position(MIDDLE), Velocity(LEFT), Angle(STABILIZING_LEFT)),\n 0,\n (Position(MIDDLE), Velocity(LEFT), Angle(FALLING_RIGHT)),\n 1,\n (Position(MIDDLE), Velocity(LEFT), Angle(STABILIZING_LEFT)),\n 0,\n (Position(MIDDLE), Velocity(LEFT), Angle(FALLING_RIGHT)),\n 1,\n (Position(MIDDLE), Velocity(LEFT), Angle(STABILIZING_LEFT)),\n 0,\n (Position(MIDDLE), Velocity(LEFT), Angle(FALLING_RIGHT)),\n 1,\n (Position(MIDDLE), Velocity(LEFT), Angle(STABILIZING_LEFT)),\n 0,\n (Position(MIDDLE), Velocity(LEFT), Angle(FALLING_RIGHT)),\n 0,\n (Position(MIDDLE), Velocity(LEFT), Angle(FALLING_RIGHT)),\n 1,\n (Position(MIDDLE), Velocity(LEFT), Angle(FALLING_RIGHT)),\n 1,\n (Position(MIDDLE), Velocity(LEFT), Angle(STUCK_RIGHT)),\n 0,\n (Position(MIDDLE), Velocity(LEFT), Angle(FALLING_RIGHT)),\n 1,\n (Position(MIDDLE), Velocity(LEFT), Angle(STUCK_RIGHT)),\n 1,\n (Position(MIDDLE), Velocity(RIGHT), Angle(STABILIZING_LEFT)),\n 0,\n (Position(MIDDLE), Velocity(LEFT), Angle(STUCK_RIGHT)),\n 0,\n (Position(MIDDLE), Velocity(LEFT), Angle(FALLING_RIGHT)),\n 1,\n (Position(MIDDLE), Velocity(LEFT), Angle(STUCK_RIGHT)),\n 0,\n (Position(MIDDLE), Velocity(LEFT), Angle(FALLING_RIGHT)),\n 1,\n (Position(MIDDLE), Velocity(LEFT), Angle(STUCK_RIGHT)),\n 0,\n (Position(MIDDLE), Velocity(LEFT), Angle(FALLING_RIGHT)),\n 1,\n (Position(MIDDLE), Velocity(LEFT), Angle(STUCK_RIGHT)),\n 0,\n (Position(MIDDLE), Velocity(LEFT), Angle(FALLING_RIGHT)),\n 1,\n (Position(MIDDLE), Velocity(LEFT), Angle(STUCK_RIGHT)),\n 0,\n (Position(MIDDLE), Velocity(LEFT), Angle(FALLING_RIGHT)),\n 1,\n (Position(MIDDLE), Velocity(LEFT), Angle(STUCK_RIGHT)),\n 1,\n (Position(MIDDLE), Velocity(RIGHT), Angle(STABILIZING_LEFT)),\n 0,\n (Position(MIDDLE), Velocity(LEFT), Angle(FALLING_RIGHT)),\n 1,\n (Position(MIDDLE), Velocity(RIGHT), Angle(STABILIZING_LEFT)),\n 1,\n (Position(MIDDLE), Velocity(RIGHT), Angle(STABILIZING_LEFT)),\n 0,\n (Position(MIDDLE), Velocity(RIGHT), Angle(STABILIZING_LEFT)),\n 0,\n (Position(MIDDLE), Velocity(LEFT), Angle(FALLING_RIGHT)),\n 1,\n (Position(MIDDLE), Velocity(RIGHT), Angle(STABILIZING_LEFT)),\n 1,\n (Position(MIDDLE), Velocity(RIGHT), Angle(STABILIZING_LEFT)),\n 0,\n (Position(MIDDLE), Velocity(RIGHT), Angle(STUCK_RIGHT)),\n 1,\n (Position(MIDDLE), Velocity(RIGHT), Angle(STABILIZING_LEFT)),\n 0,\n (Position(MIDDLE), Velocity(RIGHT), Angle(STUCK_RIGHT)),\n 1,\n (Position(MIDDLE), Velocity(RIGHT), Angle(STABILIZING_LEFT)),\n 0,\n (Position(MIDDLE), Velocity(RIGHT), Angle(STUCK_RIGHT)),\n 1,\n (Position(MIDDLE), Velocity(RIGHT), Angle(STABILIZING_LEFT)),\n 0,\n (Position(MIDDLE), Velocity(RIGHT), Angle(STUCK_RIGHT)),\n 1,\n (Position(MIDDLE), Velocity(RIGHT), Angle(STABILIZING_LEFT)),\n 0,\n (Position(MIDDLE), Velocity(RIGHT), Angle(STUCK_RIGHT)),\n 0,\n (Position(MIDDLE), Velocity(LEFT), Angle(STANDING)),\n 1,\n (Position(MIDDLE), Velocity(RIGHT), Angle(STUCK_RIGHT)),\n 0,\n (Position(MIDDLE), Velocity(LEFT), Angle(FALLING_RIGHT)),\n 1,\n (Position(MIDDLE), Velocity(RIGHT), Angle(STUCK_RIGHT)),\n 0,\n (Position(MIDDLE), Velocity(LEFT), Angle(FALLING_RIGHT)),\n 1,\n (Position(MIDDLE), Velocity(RIGHT), Angle(STUCK_RIGHT)),\n 1,\n (Position(MIDDLE), Velocity(RIGHT), Angle(STABILIZING_LEFT)),\n 0,\n (Position(MIDDLE), Velocity(RIGHT), Angle(STUCK_RIGHT)),\n 1,\n (Position(MIDDLE), Velocity(RIGHT), Angle(STABILIZING_LEFT)),\n 0,\n (Position(MIDDLE), Velocity(RIGHT), Angle(STUCK_RIGHT)),\n 0,\n (Position(MIDDLE), Velocity(LEFT), Angle(FALLING_RIGHT)),\n 1,\n (Position(MIDDLE), Velocity(RIGHT), Angle(STUCK_RIGHT)),\n 1,\n (Position(MIDDLE), Velocity(RIGHT), Angle(STABILIZING_LEFT)),\n 0,\n (Position(MIDDLE), Velocity(RIGHT), Angle(STUCK_RIGHT)),\n 1,\n (Position(MIDDLE), Velocity(RIGHT), Angle(STABILIZING_LEFT)),\n 0,\n (Position(MIDDLE), Velocity(RIGHT), Angle(STUCK_LEFT)),\n 1,\n (Position(MIDDLE), Velocity(RIGHT), Angle(FALLING_LEFT)),\n 1,\n (Position(MIDDLE), Velocity(RIGHT), Angle(FALLING_LEFT)),\n 0,\n (Position(MIDDLE), Velocity(RIGHT), Angle(FALLING_LEFT)),\n 0,\n (Position(MIDDLE), Velocity(RIGHT), Angle(STUCK_LEFT)),\n 0,\n (Position(MIDDLE), Velocity(LEFT), Angle(STABILIZING_RIGHT)),\n 1,\n (Position(MIDDLE), Velocity(RIGHT), Angle(STUCK_LEFT)),\n 0,\n (Position(MIDDLE), Velocity(LEFT), Angle(STABILIZING_RIGHT)),\n 1,\n (Position(MIDDLE), Velocity(RIGHT), Angle(STUCK_LEFT)),\n 0,\n (Position(MIDDLE), Velocity(LEFT), Angle(STABILIZING_RIGHT)),\n 1,\n (Position(MIDDLE), Velocity(RIGHT), Angle(STUCK_LEFT)),\n 0,\n (Position(MIDDLE), Velocity(LEFT), Angle(STABILIZING_RIGHT)),\n 1,\n (Position(MIDDLE), Velocity(RIGHT), Angle(STUCK_LEFT)),\n 0,\n (Position(MIDDLE), Velocity(LEFT), Angle(STABILIZING_RIGHT)),\n 1,\n (Position(MIDDLE), Velocity(RIGHT), Angle(STUCK_LEFT)),\n 0,\n (Position(MIDDLE), Velocity(LEFT), Angle(STABILIZING_RIGHT)),\n 1,\n (Position(MIDDLE), Velocity(RIGHT), Angle(STUCK_LEFT)),\n 0,\n (Position(MIDDLE), Velocity(LEFT), Angle(STABILIZING_RIGHT)),\n 1,\n (Position(MIDDLE), Velocity(RIGHT), Angle(STUCK_LEFT)),\n 1,\n (Position(MIDDLE), Velocity(RIGHT), Angle(FALLING_LEFT)),\n 0,\n (Position(MIDDLE), Velocity(RIGHT), Angle(FALLING_LEFT)),\n 0,\n (Position(MIDDLE), Velocity(LEFT), Angle(STABILIZING_RIGHT)),\n 1,\n (Position(MIDDLE), Velocity(RIGHT), Angle(FALLING_LEFT)),\n 0,\n (Position(MIDDLE), Velocity(LEFT), Angle(STABILIZING_RIGHT)),\n 1,\n (Position(MIDDLE), Velocity(RIGHT), Angle(FALLING_LEFT)),\n 0,\n (Position(MIDDLE), Velocity(LEFT), Angle(STABILIZING_RIGHT)),\n 1,\n (Position(MIDDLE), Velocity(RIGHT), Angle(FALLING_LEFT)),\n 0,\n (Position(MIDDLE), Velocity(LEFT), Angle(STABILIZING_RIGHT)),\n 0,\n (Position(MIDDLE), Velocity(LEFT), Angle(STABILIZING_RIGHT)),\n 1,\n (Position(MIDDLE), Velocity(LEFT), Angle(STABILIZING_RIGHT)),\n 0,\n (Position(MIDDLE), Velocity(LEFT), Angle(FALLING_RIGHT)),\n 1,\n (Position(MIDDLE), Velocity(LEFT), Angle(FALLING_RIGHT)),\n 0,\n (Position(MIDDLE), Velocity(LEFT), Angle(FALLING_RIGHT)),\n 1,\n (Position(MIDDLE), Velocity(LEFT), Angle(FALLING_RIGHT)),\n 1,\n (Position(MIDDLE), Velocity(RIGHT), Angle(STABILIZING_LEFT)),\n 0,\n (Position(MIDDLE), Velocity(LEFT), Angle(FALLING_RIGHT)),\n 1,\n (Position(MIDDLE), Velocity(RIGHT), Angle(STABILIZING_LEFT)),\n 1,\n (Position(MIDDLE), Velocity(RIGHT), Angle(STABILIZING_LEFT)),\n 1,\n (Position(MIDDLE), Velocity(RIGHT), Angle(STABILIZING_LEFT)),\n 0,\n (Position(MIDDLE), Velocity(RIGHT), Angle(STABILIZING_LEFT)),\n 0,\n (Position(MIDDLE), Velocity(RIGHT), Angle(STUCK_LEFT)),\n 0,\n (Position(MIDDLE), Velocity(LEFT), Angle(STABILIZING_RIGHT)),\n 1,\n (Position(MIDDLE), Velocity(RIGHT), Angle(STUCK_LEFT)),\n 0,\n (Position(MIDDLE), Velocity(LEFT), Angle(STABILIZING_RIGHT)),\n 1,\n (Position(MIDDLE), Velocity(RIGHT), Angle(STANDING)),\n 0,\n (Position(MIDDLE), Velocity(LEFT), Angle(STABILIZING_RIGHT)),\n 0,\n (Position(MIDDLE), Velocity(LEFT), Angle(FALLING_RIGHT)),\n 1,\n (Position(MIDDLE), Velocity(LEFT), Angle(FALLING_RIGHT)),\n 0,\n (Position(MIDDLE), Velocity(LEFT), Angle(FALLING_RIGHT)),\n 1,\n (Position(MIDDLE), Velocity(LEFT), Angle(FALLING_RIGHT)),\n 1,\n (Position(MIDDLE), Velocity(RIGHT), Angle(STUCK_RIGHT)),\n 1,\n (Position(MIDDLE), Velocity(RIGHT), Angle(STABILIZING_LEFT)),\n 0,\n (Position(MIDDLE), Velocity(RIGHT), Angle(STUCK_RIGHT)),\n 0,\n (Position(MIDDLE), Velocity(LEFT), Angle(FALLING_RIGHT)),\n 1,\n (Position(MIDDLE), Velocity(RIGHT), Angle(STUCK_RIGHT)),\n 1,\n (Position(MIDDLE), Velocity(RIGHT), Angle(STABILIZING_LEFT)),\n 0,\n (Position(MIDDLE), Velocity(RIGHT), Angle(STUCK_RIGHT)),\n 0,\n (Position(MIDDLE), Velocity(LEFT), Angle(FALLING_RIGHT)),\n 1,\n (Position(MIDDLE), Velocity(RIGHT), Angle(STUCK_RIGHT)),\n 0,\n (Position(MIDDLE), Velocity(LEFT), Angle(FALLING_RIGHT)),\n 1,\n (Position(MIDDLE), Velocity(RIGHT), Angle(STUCK_RIGHT)),\n 0,\n (Position(MIDDLE), Velocity(LEFT), Angle(FALLING_RIGHT)),\n 1,\n (Position(MIDDLE), Velocity(RIGHT), Angle(STUCK_RIGHT)),\n 1,\n (Position(MIDDLE), Velocity(RIGHT), Angle(STABILIZING_LEFT)),\n 0,\n (Position(MIDDLE), Velocity(RIGHT), Angle(STUCK_RIGHT)),\n 1,\n (Position(MIDDLE), Velocity(RIGHT), Angle(STABILIZING_LEFT)),\n 0,\n (Position(MIDDLE), Velocity(RIGHT), Angle(STUCK_RIGHT)),\n 1,\n (Position(MIDDLE), Velocity(RIGHT), Angle(STABILIZING_LEFT)),\n 0,\n (Position(MIDDLE), Velocity(RIGHT), Angle(STUCK_RIGHT)),\n 1,\n (Position(MIDDLE), Velocity(RIGHT), Angle(STABILIZING_LEFT)),\n 1,\n (Position(MIDDLE), Velocity(RIGHT), Angle(STABILIZING_LEFT)),\n 0,\n (Position(MIDDLE), Velocity(RIGHT), Angle(STABILIZING_LEFT)),\n 1,\n (Position(MIDDLE), Velocity(RIGHT), Angle(STABILIZING_LEFT)),\n 0,\n (Position(MIDDLE), Velocity(RIGHT), Angle(FALLING_LEFT)),\n 0,\n (Position(MIDDLE), Velocity(RIGHT), Angle(STABILIZING_RIGHT)),\n 1,\n (Position(MIDDLE), Velocity(RIGHT), Angle(FALLING_LEFT)),\n 0,\n (Position(MIDDLE), Velocity(RIGHT), Angle(STABILIZING_RIGHT)),\n 1,\n (Position(MIDDLE), Velocity(RIGHT), Angle(FALLING_LEFT)),\n 1,\n (Position(MIDDLE), Velocity(RIGHT), Angle(FALLING_LEFT)),\n 0,\n (Position(MIDDLE), Velocity(RIGHT), Angle(FALLING_LEFT)),\n 0,\n (Position(MIDDLE), Velocity(RIGHT), Angle(STUCK_LEFT)),\n 0,\n (Position(MIDDLE), Velocity(LEFT), Angle(STABILIZING_RIGHT)),\n 1,\n (Position(MIDDLE), Velocity(RIGHT), Angle(STUCK_LEFT)),\n 1,\n (Position(MIDDLE), Velocity(RIGHT), Angle(FALLING_LEFT)),\n 0,\n (Position(MIDDLE), Velocity(RIGHT), Angle(STUCK_LEFT)),\n 0,\n (Position(MIDDLE), Velocity(LEFT), Angle(STABILIZING_RIGHT)),\n 1,\n (Position(MIDDLE), Velocity(RIGHT), Angle(STUCK_LEFT)),\n 0,\n (Position(MIDDLE), Velocity(LEFT), Angle(STABILIZING_RIGHT)),\n 1,\n (Position(MIDDLE), Velocity(RIGHT), Angle(STUCK_LEFT)),\n 1,\n (Position(MIDDLE), Velocity(RIGHT), Angle(FALLING_LEFT)),\n 0,\n (Position(MIDDLE), Velocity(RIGHT), Angle(STUCK_LEFT)),\n 1,\n (Position(MIDDLE), Velocity(RIGHT), Angle(FALLING_LEFT)),\n 0,\n (Position(MIDDLE), Velocity(RIGHT), Angle(STUCK_LEFT)),\n 1,\n (Position(MIDDLE), Velocity(RIGHT), Angle(FALLING_LEFT)),\n 0,\n (Position(MIDDLE), Velocity(RIGHT), Angle(STUCK_LEFT)),\n 1,\n (Position(MIDDLE), Velocity(RIGHT), Angle(FALLING_LEFT)),\n 1,\n (Position(MIDDLE), Velocity(RIGHT), Angle(FALLING_LEFT)),\n 0,\n (Position(MIDDLE), Velocity(RIGHT), Angle(FALLING_LEFT)),\n 0,\n (Position(MIDDLE), Velocity(RIGHT), Angle(STUCK_LEFT)),\n 1,\n (Position(MIDDLE), Velocity(RIGHT), Angle(FALLING_LEFT)),\n 0,\n (Position(MIDDLE), Velocity(RIGHT), Angle(STUCK_LEFT)),\n 1,\n (Position(MIDDLE), Velocity(RIGHT), Angle(FALLING_LEFT)),\n 0,\n (Position(MIDDLE), Velocity(RIGHT), Angle(STUCK_LEFT)),\n 1,\n (Position(MIDDLE), Velocity(RIGHT), Angle(FALLING_LEFT)),\n 0,\n (Position(MIDDLE), Velocity(RIGHT), Angle(STUCK_LEFT)),\n 0,\n (Position(MIDDLE), Velocity(LEFT), Angle(STABILIZING_RIGHT)),\n 0,\n (Position(MIDDLE), Velocity(LEFT), Angle(STABILIZING_RIGHT)),\n 1,\n (Position(MIDDLE), Velocity(LEFT), Angle(STABILIZING_RIGHT)),\n 0,\n (Position(MIDDLE), Velocity(LEFT), Angle(STABILIZING_RIGHT)),\n 1,\n (Position(MIDDLE), Velocity(LEFT), Angle(STABILIZING_RIGHT)),\n 1,\n (Position(MIDDLE), Velocity(RIGHT), Angle(FALLING_LEFT)),\n 0,\n (Position(MIDDLE), Velocity(LEFT), Angle(STABILIZING_RIGHT)),\n 0,\n (Position(MIDDLE), Velocity(LEFT), Angle(STABILIZING_RIGHT)),\n 0,\n (Position(MIDDLE), Velocity(LEFT), Angle(STABILIZING_RIGHT)),\n 1,\n (Position(MIDDLE), Velocity(LEFT), Angle(STABILIZING_RIGHT)),\n 1,\n (Position(MIDDLE), Velocity(LEFT), Angle(FALLING_RIGHT)),\n 0,\n (Position(MIDDLE), Velocity(LEFT), Angle(FALLING_RIGHT)),\n 1,\n (Position(MIDDLE), Velocity(LEFT), Angle(FALLING_RIGHT)),\n 1,\n (Position(MIDDLE), Velocity(RIGHT), Angle(STABILIZING_LEFT)),\n 0,\n (Position(MIDDLE), Velocity(LEFT), Angle(FALLING_RIGHT)),\n 1,\n (Position(MIDDLE), Velocity(RIGHT), Angle(STABILIZING_LEFT)),\n 0,\n (Position(MIDDLE), Velocity(LEFT), Angle(FALLING_RIGHT)),\n 0,\n (Position(MIDDLE), Velocity(LEFT), Angle(FALLING_RIGHT)),\n 1,\n (Position(MIDDLE), Velocity(LEFT), Angle(FALLING_RIGHT)),\n 0,\n (Position(MIDDLE), Velocity(LEFT), Angle(FALLING_RIGHT)),\n 1,\n (Position(MIDDLE), Velocity(LEFT), Angle(FALLING_RIGHT)),\n 1,\n (Position(MIDDLE), Velocity(RIGHT), Angle(STABILIZING_LEFT)),\n 0,\n (Position(MIDDLE), Velocity(LEFT), Angle(FALLING_RIGHT)),\n 0,\n (Position(MIDDLE), Velocity(LEFT), Angle(FALLING_RIGHT)),\n 1,\n (Position(MIDDLE), Velocity(LEFT), Angle(FALLING_RIGHT)),\n 1,\n (Position(MIDDLE), Velocity(RIGHT), Angle(STABILIZING_LEFT)),\n 1,\n (Position(MIDDLE), Velocity(RIGHT), Angle(STABILIZING_LEFT)),\n 0,\n (Position(MIDDLE), Velocity(RIGHT), Angle(STUCK_RIGHT)),\n 1,\n (Position(MIDDLE), Velocity(RIGHT), Angle(STABILIZING_LEFT)),\n 0,\n (Position(MIDDLE), Velocity(RIGHT), Angle(STUCK_RIGHT)),\n 1,\n (Position(MIDDLE), Velocity(RIGHT), Angle(STABILIZING_LEFT)),\n 0,\n (Position(MIDDLE), Velocity(RIGHT), Angle(STUCK_RIGHT)),\n 0,\n (Position(MIDDLE), Velocity(LEFT), Angle(FALLING_RIGHT)),\n 1,\n (Position(MIDDLE), Velocity(RIGHT), Angle(STUCK_RIGHT)),\n 0,\n (Position(MIDDLE), Velocity(LEFT), Angle(FALLING_RIGHT)),\n 1,\n (Position(MIDDLE), Velocity(RIGHT), Angle(STUCK_RIGHT)),\n 1,\n (Position(MIDDLE), Velocity(RIGHT), Angle(STABILIZING_LEFT)),\n 0,\n (Position(MIDDLE), Velocity(RIGHT), Angle(STUCK_RIGHT)),\n 1,\n (Position(MIDDLE), Velocity(RIGHT), Angle(STABILIZING_LEFT)),\n 0,\n (Position(MIDDLE), Velocity(RIGHT), Angle(STUCK_RIGHT)),\n 1,\n (Position(MIDDLE), Velocity(RIGHT), Angle(STABILIZING_LEFT)),\n 0,\n (Position(MIDDLE), Velocity(RIGHT), Angle(STUCK_RIGHT)),\n 1,\n (Position(MIDDLE), Velocity(RIGHT), Angle(STABILIZING_LEFT)),\n 0,\n (Position(MIDDLE), Velocity(RIGHT), Angle(STUCK_RIGHT)),\n 0,\n (Position(MIDDLE), Velocity(LEFT), Angle(FALLING_RIGHT)),\n 1,\n (Position(MIDDLE), Velocity(RIGHT), Angle(STUCK_RIGHT)),\n 0,\n (Position(MIDDLE), Velocity(LEFT), Angle(FALLING_RIGHT)),\n 1,\n (Position(MIDDLE), Velocity(RIGHT), Angle(STUCK_RIGHT)),\n 0,\n (Position(MIDDLE), Velocity(LEFT), Angle(FALLING_RIGHT)),\n 1,\n (Position(MIDDLE), Velocity(RIGHT), Angle(STUCK_RIGHT)),\n 0,\n (Position(MIDDLE), Velocity(LEFT), Angle(FALLING_RIGHT)),\n 1,\n (Position(MIDDLE), Velocity(RIGHT), Angle(FALLING_RIGHT)),\n 1,\n (Position(MIDDLE), Velocity(RIGHT), Angle(STABILIZING_LEFT)),\n 1,\n (Position(MIDDLE), Velocity(RIGHT), Angle(STABILIZING_LEFT)),\n 0,\n (Position(MIDDLE), Velocity(RIGHT), Angle(STABILIZING_LEFT)),\n 0,\n (Position(MIDDLE), Velocity(RIGHT), Angle(FALLING_RIGHT)),\n 0,\n (Position(MIDDLE), Velocity(LEFT), Angle(FALLING_RIGHT)),\n 1,\n (Position(MIDDLE), Velocity(RIGHT), Angle(FALLING_RIGHT)),\n 1,\n (Position(MIDDLE), Velocity(RIGHT), Angle(STUCK_RIGHT)),\n 1,\n (Position(MIDDLE), Velocity(RIGHT), Angle(STABILIZING_LEFT)),\n 0,\n (Position(MIDDLE), Velocity(RIGHT), Angle(STUCK_RIGHT)),\n 1,\n (Position(MIDDLE), Velocity(RIGHT), Angle(STABILIZING_LEFT)),\n 1,\n (Position(MIDDLE), Velocity(RIGHT), Angle(STABILIZING_LEFT)),\n 0,\n (Position(MIDDLE), Velocity(RIGHT), Angle(STABILIZING_LEFT)),\n 0,\n (Position(MIDDLE), Velocity(RIGHT), Angle(STUCK_RIGHT)),\n 1,\n (Position(MIDDLE), Velocity(RIGHT), Angle(STABILIZING_LEFT)),\n 1,\n (Position(MIDDLE), Velocity(RIGHT), Angle(STABILIZING_LEFT)),\n 0,\n (Position(MIDDLE), Velocity(RIGHT), Angle(FALLING_LEFT)),\n 0,\n (Position(MIDDLE), Velocity(RIGHT), Angle(STUCK_LEFT)),\n 1,\n (Position(MIDDLE), Velocity(RIGHT), Angle(FALLING_LEFT)),\n 0,\n (Position(MIDDLE), Velocity(RIGHT), Angle(STUCK_LEFT)),\n 0,\n (Position(MIDDLE), Velocity(RIGHT), Angle(STABILIZING_RIGHT)),\n 1,\n (Position(MIDDLE), Velocity(RIGHT), Angle(STUCK_LEFT)),\n 1,\n (Position(MIDDLE), Velocity(RIGHT), Angle(FALLING_LEFT)),\n 0,\n (Position(MIDDLE), Velocity(RIGHT), Angle(STUCK_LEFT)),\n 1,\n (Position(MIDDLE), Velocity(RIGHT), Angle(FALLING_LEFT)),\n 0,\n (Position(MIDDLE), Velocity(RIGHT), Angle(STUCK_LEFT)),\n 1,\n (Position(MIDDLE), Velocity(RIGHT), Angle(FALLING_LEFT)),\n 0,\n (Position(MIDDLE), Velocity(RIGHT), Angle(STUCK_LEFT)),\n 0,\n (Position(MIDDLE), Velocity(RIGHT), Angle(STABILIZING_RIGHT)),\n 1,\n (Position(MIDDLE), Velocity(RIGHT), Angle(FALLING_LEFT)),\n 1,\n (Position(MIDDLE), Velocity(RIGHT), Angle(FALLING_LEFT)),\n 0,\n (Position(MIDDLE), Velocity(RIGHT), Angle(FALLING_LEFT)),\n 0,\n (Position(MIDDLE), Velocity(RIGHT), Angle(STABILIZING_RIGHT)),\n 1,\n (Position(MIDDLE), Velocity(RIGHT), Angle(FALLING_LEFT)),\n 0,\n (Position(MIDDLE), Velocity(RIGHT), Angle(STABILIZING_RIGHT)),\n 1,\n (Position(MIDDLE), Velocity(RIGHT), Angle(FALLING_LEFT)),\n 1,\n (Position(MIDDLE), Velocity(RIGHT), Angle(FALLING_LEFT)),\n 0,\n (Position(MIDDLE), Velocity(RIGHT), Angle(FALLING_LEFT)),\n 0,\n (Position(MIDDLE), Velocity(RIGHT), Angle(STUCK_LEFT)),\n 0,\n (Position(MIDDLE), Velocity(LEFT), Angle(STABILIZING_RIGHT)),\n 1,\n (Position(MIDDLE), Velocity(RIGHT), Angle(STUCK_LEFT)),\n 0,\n (Position(MIDDLE), Velocity(LEFT), Angle(STABILIZING_RIGHT)),\n 1,\n (Position(MIDDLE), Velocity(RIGHT), Angle(STUCK_LEFT)),\n 0,\n (Position(MIDDLE), Velocity(LEFT), Angle(STABILIZING_RIGHT)),\n 0,\n (Position(MIDDLE), Velocity(LEFT), Angle(STABILIZING_RIGHT)),\n 1,\n (Position(MIDDLE), Velocity(LEFT), Angle(STABILIZING_RIGHT)),\n 0,\n (Position(MIDDLE), Velocity(LEFT), Angle(STABILIZING_RIGHT)),\n 1,\n (Position(MIDDLE), Velocity(LEFT), Angle(STABILIZING_RIGHT)),\n 1,\n (Position(MIDDLE), Velocity(RIGHT), Angle(FALLING_LEFT)),\n 0,\n (Position(MIDDLE), Velocity(LEFT), Angle(STABILIZING_RIGHT)),\n 1,\n (Position(MIDDLE), Velocity(RIGHT), Angle(FALLING_LEFT)),\n 0,\n (Position(MIDDLE), Velocity(LEFT), Angle(STABILIZING_RIGHT)),\n 1,\n (Position(MIDDLE), Velocity(RIGHT), Angle(FALLING_LEFT)),\n 0,\n (Position(MIDDLE), Velocity(LEFT), Angle(STABILIZING_RIGHT)),\n 1,\n (Position(MIDDLE), Velocity(RIGHT), Angle(FALLING_LEFT)),\n 0,\n (Position(MIDDLE), Velocity(LEFT), Angle(STABILIZING_RIGHT)),\n 1,\n (Position(MIDDLE), Velocity(RIGHT), Angle(FALLING_LEFT)),\n 0,\n (Position(MIDDLE), Velocity(LEFT), Angle(STUCK_LEFT)),\n 0,\n (Position(MIDDLE), Velocity(LEFT), Angle(STABILIZING_RIGHT)),\n 1,\n (Position(MIDDLE), Velocity(LEFT), Angle(STUCK_LEFT)),\n 0,\n (Position(MIDDLE), Velocity(LEFT), Angle(STABILIZING_RIGHT)),\n 1,\n (Position(MIDDLE), Velocity(LEFT), Angle(STUCK_LEFT)),\n 1,\n (Position(MIDDLE), Velocity(RIGHT), Angle(FALLING_LEFT)),\n 0,\n (Position(MIDDLE), Velocity(LEFT), Angle(STUCK_LEFT)),\n 1,\n (Position(MIDDLE), Velocity(RIGHT), Angle(FALLING_LEFT)),\n 0,\n (Position(MIDDLE), Velocity(LEFT), Angle(STUCK_LEFT)),\n 0,\n (Position(MIDDLE), Velocity(LEFT), Angle(STABILIZING_RIGHT)),\n 1,\n (Position(MIDDLE), Velocity(LEFT), Angle(STUCK_LEFT)),\n 1,\n (Position(MIDDLE), Velocity(RIGHT), Angle(FALLING_LEFT)),\n 1,\n (Position(MIDDLE), Velocity(RIGHT), Angle(FALLING_LEFT)),\n 0,\n (Position(MIDDLE), Velocity(RIGHT), Angle(FALLING_LEFT)),\n 0,\n (Position(MIDDLE), Velocity(LEFT), Angle(STUCK_LEFT)),\n 1,\n (Position(MIDDLE), Velocity(RIGHT), Angle(FALLING_LEFT)),\n 0,\n (Position(MIDDLE), Velocity(LEFT), Angle(STUCK_LEFT)),\n 0,\n (Position(MIDDLE), Velocity(LEFT), Angle(STABILIZING_RIGHT)),\n 1,\n (Position(MIDDLE), Velocity(LEFT), Angle(STUCK_LEFT)),\n 1,\n (Position(MIDDLE), Velocity(RIGHT), Angle(FALLING_LEFT)),\n 0,\n (Position(MIDDLE), Velocity(LEFT), Angle(STUCK_LEFT)),\n 0,\n (Position(MIDDLE), Velocity(LEFT), Angle(STABILIZING_RIGHT)),\n 1,\n (Position(MIDDLE), Velocity(LEFT), Angle(STUCK_LEFT)),\n 0,\n (Position(MIDDLE), Velocity(LEFT), Angle(STABILIZING_RIGHT)),\n 0,\n (Position(MIDDLE), Velocity(LEFT), Angle(STABILIZING_RIGHT)),\n 1,\n (Position(MIDDLE), Velocity(LEFT), Angle(STABILIZING_RIGHT)),\n 1,\n (Position(MIDDLE), Velocity(LEFT), Angle(STUCK_LEFT)),\n 0,\n (Position(MIDDLE), Velocity(LEFT), Angle(STABILIZING_RIGHT)),\n 1,\n (Position(MIDDLE), Velocity(LEFT), Angle(STUCK_LEFT)),\n 0,\n (Position(MIDDLE), Velocity(LEFT), Angle(STABILIZING_RIGHT)),\n 1,\n (Position(MIDDLE), Velocity(LEFT), Angle(FALLING_LEFT)),\n 0,\n (Position(MIDDLE), Velocity(LEFT), Angle(STABILIZING_RIGHT)),\n 1,\n (Position(MIDDLE), Velocity(LEFT), Angle(FALLING_LEFT)),\n 0,\n (Position(MIDDLE), Velocity(LEFT), Angle(STABILIZING_RIGHT)),\n 1,\n (Position(MIDDLE), Velocity(LEFT), Angle(FALLING_LEFT)),\n 0,\n (Position(MIDDLE), Velocity(LEFT), Angle(STABILIZING_RIGHT)),\n 0,\n (Position(MIDDLE), Velocity(LEFT), Angle(STABILIZING_RIGHT)),\n 0,\n (Position(MIDDLE), Velocity(LEFT), Angle(FALLING_RIGHT)),\n 1,\n (Position(MIDDLE), Velocity(LEFT), Angle(FALLING_RIGHT)),\n 1,\n (Position(MIDDLE), Velocity(LEFT), Angle(FALLING_RIGHT)),\n 1,\n (Position(MIDDLE), Velocity(LEFT), Angle(STABILIZING_LEFT)),\n 0,\n (Position(MIDDLE), Velocity(LEFT), Angle(FALLING_RIGHT)),\n 1,\n (Position(MIDDLE), Velocity(LEFT), Angle(STUCK_RIGHT)),\n 0,\n (Position(MIDDLE), Velocity(LEFT), Angle(FALLING_RIGHT)),\n 1,\n (Position(MIDDLE), Velocity(LEFT), Angle(STUCK_RIGHT)),\n 0,\n (Position(MIDDLE), Velocity(LEFT), Angle(FALLING_RIGHT)),\n 1,\n (Position(MIDDLE), Velocity(LEFT), Angle(STUCK_RIGHT)),\n 0,\n (Position(MIDDLE), Velocity(LEFT), Angle(FALLING_RIGHT)),\n 1,\n (Position(MIDDLE), Velocity(LEFT), Angle(STUCK_RIGHT)),\n 0,\n (Position(MIDDLE), Velocity(LEFT), Angle(FALLING_RIGHT)),\n 1,\n (Position(MIDDLE), Velocity(LEFT), Angle(STUCK_RIGHT)),\n 1,\n (Position(MIDDLE), Velocity(RIGHT), Angle(STABILIZING_LEFT)),\n 0,\n (Position(MIDDLE), Velocity(LEFT), Angle(STUCK_RIGHT)),\n 1,\n (Position(MIDDLE), Velocity(RIGHT), Angle(STABILIZING_LEFT)),\n 0,\n (Position(MIDDLE), Velocity(LEFT), Angle(STUCK_RIGHT)),\n 0,\n (Position(MIDDLE), Velocity(LEFT), Angle(FALLING_RIGHT)),\n 1,\n (Position(MIDDLE), Velocity(LEFT), Angle(STUCK_RIGHT)),\n 0,\n (Position(MIDDLE), Velocity(LEFT), Angle(FALLING_RIGHT)),\n 1,\n (Position(MIDDLE), Velocity(LEFT), Angle(FALLING_RIGHT)),\n 1,\n (Position(MIDDLE), Velocity(RIGHT), Angle(STABILIZING_LEFT)),\n 1,\n (Position(MIDDLE), Velocity(RIGHT), Angle(STABILIZING_LEFT)),\n 0,\n (Position(MIDDLE), Velocity(RIGHT), Angle(STABILIZING_LEFT)),\n 1,\n (Position(MIDDLE), Velocity(RIGHT), Angle(STABILIZING_LEFT)),\n 0,\n (Position(MIDDLE), Velocity(RIGHT), Angle(STUCK_RIGHT)),\n 0,\n (Position(MIDDLE), Velocity(LEFT), Angle(FALLING_RIGHT)),\n 1,\n (Position(MIDDLE), Velocity(RIGHT), Angle(STUCK_RIGHT)),\n 1,\n (Position(MIDDLE), Velocity(RIGHT), Angle(STABILIZING_LEFT)),\n 0,\n (Position(MIDDLE), Velocity(RIGHT), Angle(STUCK_RIGHT)),\n 1,\n (Position(MIDDLE), Velocity(RIGHT), Angle(STABILIZING_LEFT)),\n 0,\n (Position(MIDDLE), Velocity(RIGHT), Angle(STUCK_RIGHT)),\n 1,\n (Position(MIDDLE), Velocity(RIGHT), Angle(STABILIZING_LEFT)),\n 1,\n (Position(MIDDLE), Velocity(RIGHT), Angle(STABILIZING_LEFT)),\n 0,\n (Position(MIDDLE), Velocity(RIGHT), Angle(STABILIZING_LEFT)),\n 0,\n (Position(MIDDLE), Velocity(RIGHT), Angle(STUCK_RIGHT)),\n 0,\n (Position(MIDDLE), Velocity(LEFT), Angle(FALLING_RIGHT)),\n 1,\n (Position(MIDDLE), Velocity(RIGHT), Angle(STUCK_RIGHT)),\n 1,\n (Position(MIDDLE), Velocity(RIGHT), Angle(STABILIZING_LEFT)),\n 1,\n (Position(MIDDLE), Velocity(RIGHT), Angle(STABILIZING_LEFT)),\n 0,\n (Position(MIDDLE), Velocity(RIGHT), Angle(FALLING_LEFT)),\n 0,\n (Position(MIDDLE), Velocity(RIGHT), Angle(STUCK_LEFT)),\n 1,\n (Position(MIDDLE), Velocity(RIGHT), Angle(FALLING_LEFT)),\n 0,\n (Position(MIDDLE), Velocity(RIGHT), Angle(STUCK_LEFT)),\n 0,\n (Position(MIDDLE), Velocity(LEFT), Angle(STABILIZING_RIGHT)),\n 0,\n (Position(MIDDLE), Velocity(LEFT), Angle(STABILIZING_RIGHT)),\n 1,\n (Position(MIDDLE), Velocity(LEFT), Angle(STABILIZING_RIGHT)),\n 1,\n (Position(MIDDLE), Velocity(RIGHT), Angle(STUCK_RIGHT)),\n 1,\n (Position(MIDDLE), Velocity(RIGHT), Angle(STABILIZING_LEFT)),\n 0,\n (Position(MIDDLE), Velocity(RIGHT), Angle(STUCK_LEFT)),\n 0,\n (Position(MIDDLE), Velocity(LEFT), Angle(STABILIZING_RIGHT)),\n 1,\n (Position(MIDDLE), Velocity(RIGHT), Angle(STUCK_LEFT)),\n 1,\n (Position(MIDDLE), Velocity(RIGHT), Angle(FALLING_LEFT)),\n 0,\n (Position(MIDDLE), Velocity(RIGHT), Angle(STUCK_LEFT)),\n 0,\n (Position(MIDDLE), Velocity(LEFT), Angle(STABILIZING_RIGHT)),\n 1,\n (Position(MIDDLE), Velocity(RIGHT), Angle(STUCK_LEFT)),\n 0,\n (Position(MIDDLE), Velocity(LEFT), Angle(STABILIZING_RIGHT)),\n 1,\n (Position(MIDDLE), Velocity(RIGHT), Angle(STUCK_RIGHT)),\n 0,\n (Position(MIDDLE), Velocity(LEFT), Angle(FALLING_RIGHT)),\n 1,\n (Position(MIDDLE), Velocity(RIGHT), Angle(STUCK_RIGHT)),\n 1,\n (Position(MIDDLE), Velocity(RIGHT), Angle(STABILIZING_LEFT)),\n 0,\n (Position(MIDDLE), Velocity(RIGHT), Angle(STUCK_LEFT)),\n 0,\n (Position(MIDDLE), Velocity(LEFT), Angle(STABILIZING_RIGHT)),\n 0,\n (Position(MIDDLE), Velocity(LEFT), Angle(FALLING_RIGHT)),\n 1,\n (Position(MIDDLE), Velocity(LEFT), Angle(FALLING_RIGHT)),\n 1,\n (Position(MIDDLE), Velocity(RIGHT), Angle(STUCK_RIGHT)),\n 0,\n (Position(MIDDLE), Velocity(LEFT), Angle(FALLING_RIGHT)),\n 0,\n (Position(MIDDLE), Velocity(LEFT), Angle(FALLING_RIGHT)),\n 0,\n (Position(MIDDLE), Velocity(LEFT), Angle(FALLING_RIGHT)),\n 1,\n (Position(MIDDLE), Velocity(LEFT), Angle(FALLING_RIGHT)),\n 1,\n (Position(MIDDLE), Velocity(LEFT), Angle(FALLING_RIGHT)),\n 1,\n (Position(MIDDLE), Velocity(RIGHT), Angle(STUCK_RIGHT)),\n 1,\n (Position(MIDDLE), Velocity(RIGHT), Angle(STABILIZING_LEFT)),\n 0,\n (Position(MIDDLE), Velocity(RIGHT), Angle(STUCK_RIGHT)),\n 1,\n (Position(MIDDLE), Velocity(RIGHT), Angle(STABILIZING_LEFT)),\n 0,\n (Position(MIDDLE), Velocity(RIGHT), Angle(FALLING_RIGHT)),\n 1,\n (Position(MIDDLE), Velocity(RIGHT), Angle(STABILIZING_LEFT)),\n 0,\n (Position(MIDDLE), Velocity(RIGHT), Angle(FALLING_RIGHT)),\n 0,\n (Position(MIDDLE), Velocity(LEFT), Angle(FALLING_RIGHT)),\n 1,\n (Position(MIDDLE), Velocity(RIGHT), Angle(FALLING_RIGHT)),\n 1,\n (Position(MIDDLE), Velocity(RIGHT), Angle(STUCK_RIGHT)),\n 0,\n (Position(MIDDLE), Velocity(RIGHT), Angle(FALLING_RIGHT)),\n 0,\n (Position(MIDDLE), Velocity(LEFT), Angle(FALLING_RIGHT)),\n 1,\n (Position(MIDDLE), Velocity(RIGHT), Angle(FALLING_RIGHT)),\n 1,\n (Position(MIDDLE), Velocity(RIGHT), Angle(STUCK_RIGHT)),\n 0,\n (Position(MIDDLE), Velocity(RIGHT), Angle(FALLING_RIGHT)),\n 1,\n (Position(MIDDLE), Velocity(RIGHT), Angle(FALLING_RIGHT)),\n 1,\n (Position(MIDDLE), Velocity(RIGHT), Angle(STABILIZING_LEFT)),\n 1,\n (Position(MIDDLE), Velocity(RIGHT), Angle(STABILIZING_LEFT)),\n 0,\n (Position(MIDDLE), Velocity(RIGHT), Angle(STUCK_RIGHT)),\n 0,\n (Position(MIDDLE), Velocity(RIGHT), Angle(FALLING_RIGHT)),\n 1,\n (Position(MIDDLE), Velocity(RIGHT), Angle(STUCK_RIGHT)),\n 0,\n (Position(MIDDLE), Velocity(RIGHT), Angle(FALLING_RIGHT)),\n 1,\n (Position(MIDDLE), Velocity(RIGHT), Angle(STUCK_RIGHT)),\n 1,\n (Position(MIDDLE), Velocity(RIGHT), Angle(STABILIZING_LEFT)),\n 0,\n (Position(MIDDLE), Velocity(RIGHT), Angle(FALLING_RIGHT)),\n 0,\n (Position(MIDDLE), Velocity(RIGHT), Angle(FALLING_RIGHT)),\n 1,\n (Position(MIDDLE), Velocity(RIGHT), Angle(FALLING_RIGHT)),\n 1,\n (Position(MIDDLE), Velocity(RIGHT), Angle(STUCK_RIGHT)),\n 0,\n (Position(MIDDLE), Velocity(RIGHT), Angle(FALLING_RIGHT)),\n 1,\n (Position(MIDDLE), Velocity(RIGHT), Angle(STUCK_RIGHT)),\n 0,\n (Position(MIDDLE), Velocity(RIGHT), Angle(FALLING_RIGHT)),\n 0,\n (Position(MIDDLE), Velocity(RIGHT), Angle(FALLING_RIGHT)),\n 1,\n (Position(MIDDLE), Velocity(RIGHT), Angle(FALLING_RIGHT)),\n 0,\n (Position(MIDDLE), Velocity(RIGHT), Angle(FALLING_RIGHT)),\n 1,\n (Position(MIDDLE), Velocity(RIGHT), Angle(FALLING_RIGHT)),\n 1,\n (Position(MIDDLE), Velocity(RIGHT), Angle(FALLING_RIGHT))]"
     },
     "execution_count": 13,
     "metadata": {},
     "output_type": "execute_result"
    }
   ],
   "source": [
    "pg._trajectories_of_last_fit[0]"
   ]
  },
  {
   "cell_type": "markdown",
   "metadata": {},
   "source": [
    "## Loading and saving Policy Graphs"
   ]
  },
  {
   "cell_type": "markdown",
   "metadata": {},
   "source": [
    "### Pickle\n",
    "\n",
    "Saving as pickle lets you restore the full state of the object."
   ]
  },
  {
   "cell_type": "code",
   "execution_count": 14,
   "metadata": {
    "ExecuteTime": {
     "end_time": "2023-12-16T17:52:21.734354Z",
     "start_time": "2023-12-16T17:52:21.548028Z"
    }
   },
   "outputs": [],
   "source": [
    "pg.save('pickle', './ppo-cartpole.pickle')"
   ]
  },
  {
   "cell_type": "code",
   "execution_count": 15,
   "metadata": {
    "ExecuteTime": {
     "end_time": "2023-12-16T17:52:22.240438Z",
     "start_time": "2023-12-16T17:52:21.734630Z"
    }
   },
   "outputs": [
    {
     "name": "stdout",
     "output_type": "stream",
     "text": [
      "Number of nodes:             14\n",
      "Number of edges:             133\n",
      "Num. of stored trajectories: 200\n"
     ]
    }
   ],
   "source": [
    "pg_pickle = PolicyGraph.from_pickle('./ppo-cartpole.pickle')\n",
    "\n",
    "print(f'Number of nodes:             {len(pg_pickle.nodes)}')\n",
    "print(f'Number of edges:             {len(pg_pickle.edges)}')\n",
    "print(f'Num. of stored trajectories: {len(pg._trajectories_of_last_fit)}')"
   ]
  },
  {
   "cell_type": "markdown",
   "metadata": {},
   "source": [
    "### CSV\n",
    "\n",
    "Saving as CSV creates three separated CSV files for node, edge and trajectory information."
   ]
  },
  {
   "cell_type": "code",
   "execution_count": 16,
   "metadata": {
    "ExecuteTime": {
     "end_time": "2023-12-16T17:52:22.240751Z",
     "start_time": "2023-12-16T17:52:22.240297Z"
    }
   },
   "outputs": [],
   "source": [
    "import csv"
   ]
  },
  {
   "cell_type": "code",
   "execution_count": 17,
   "metadata": {
    "ExecuteTime": {
     "end_time": "2023-12-16T17:52:22.419676Z",
     "start_time": "2023-12-16T17:52:22.240548Z"
    }
   },
   "outputs": [],
   "source": [
    "pg.save('csv', ['./ppo-cartpole_nodes.csv', './ppo-cartpole_edges.csv', './ppo-cartpole_trajectories.csv'])"
   ]
  },
  {
   "cell_type": "code",
   "execution_count": 18,
   "metadata": {
    "ExecuteTime": {
     "end_time": "2023-12-16T17:52:22.423252Z",
     "start_time": "2023-12-16T17:52:22.420155Z"
    }
   },
   "outputs": [
    {
     "name": "stdout",
     "output_type": "stream",
     "text": [
      "['id', 'value', 'p(s)', 'frequency']\n",
      "['0', 'Position(MIDDLE)&Velocity(LEFT)&Angle(FALLING_LEFT)', '0.005182360418500049', '212']\n",
      "['1', 'Position(MIDDLE)&Velocity(LEFT)&Angle(STANDING)', '0.0033489781949740884', '137']\n",
      "['2', 'Position(MIDDLE)&Velocity(RIGHT)&Angle(STABILIZING_RIGHT)', '0.02706072161924318', '1107']\n",
      "['3', 'Position(MIDDLE)&Velocity(RIGHT)&Angle(STUCK_RIGHT)', '0.1598220396988364', '6538']\n",
      "['4', 'Position(MIDDLE)&Velocity(RIGHT)&Angle(STABILIZING_LEFT)', '0.21897917277794074', '8958']\n",
      "['5', 'Position(MIDDLE)&Velocity(LEFT)&Angle(FALLING_RIGHT)', '0.1256477950523125', '5140']\n",
      "['6', 'Position(MIDDLE)&Velocity(LEFT)&Angle(STUCK_LEFT)', '0.023980639483719566', '981']\n",
      "['7', 'Position(MIDDLE)&Velocity(RIGHT)&Angle(FALLING_LEFT)', '0.07184413806590398', '2939']\n",
      "['8', 'Position(MIDDLE)&Velocity(LEFT)&Angle(STUCK_RIGHT)', '0.03898992862031876', '1595']\n"
     ]
    }
   ],
   "source": [
    "with open('ppo-cartpole_nodes.csv', 'r+') as f:\n",
    "    csv_r = csv.reader(f)\n",
    "    for i in range(10):\n",
    "        print(next(csv_r))"
   ]
  },
  {
   "cell_type": "markdown",
   "metadata": {},
   "source": [
    "Edges and trajectories use the IDs of the nodes, from the corresponding node CSV file."
   ]
  },
  {
   "cell_type": "code",
   "execution_count": 19,
   "metadata": {
    "ExecuteTime": {
     "end_time": "2023-12-16T17:52:22.426987Z",
     "start_time": "2023-12-16T17:52:22.424255Z"
    }
   },
   "outputs": [
    {
     "name": "stdout",
     "output_type": "stream",
     "text": [
      "['from', 'to', 'action', 'p(s)', 'frequency']\n",
      "['0', '7', '1', '0.06132075471698113', '13']\n",
      "['0', '10', '0', '0.5849056603773585', '124']\n",
      "['0', '6', '0', '0.3443396226415094', '73']\n",
      "['0', '0', '1', '0.0047169811320754715', '1']\n",
      "['0', '0', '0', '0.0047169811320754715', '1']\n",
      "['1', '3', '1', '0.24817518248175183', '34']\n",
      "['1', '5', '0', '0.18248175182481752', '25']\n",
      "['1', '5', '1', '0.072992700729927', '10']\n",
      "['1', '12', '1', '0.021897810218978103', '3']\n"
     ]
    }
   ],
   "source": [
    "with open('ppo-cartpole_edges.csv', 'r+') as f:\n",
    "    csv_r = csv.reader(f)\n",
    "    for i in range(10):\n",
    "        print(next(csv_r))"
   ]
  },
  {
   "cell_type": "markdown",
   "metadata": {},
   "source": [
    "Each trajectory is stored as a series of (state0, action0, state1, ..., stateN) lists"
   ]
  },
  {
   "cell_type": "code",
   "execution_count": 20,
   "metadata": {
    "ExecuteTime": {
     "end_time": "2023-12-16T17:52:22.430664Z",
     "start_time": "2023-12-16T17:52:22.427872Z"
    }
   },
   "outputs": [
    {
     "name": "stdout",
     "output_type": "stream",
     "text": [
      "['6', '0', '10', '1', '6', '0', '10', '0', '10', '1', '10', '0', '10', '1', '10', '0', '10', '1', '10', '1', '0', '1', '7', '0', '0', '1', '7', '0', '0', '0', '10', '1', '0', '0', '10', '1', '0', '0', '6', '0', '10', '1', '6', '1', '0', '0', '6', '0', '10', '1', '6', '0', '10', '1', '6', '0', '10', '1', '6', '0', '10', '1', '8', '0', '5', '1', '8', '0', '5', '1', '8', '0', '5', '1', '8', '0', '5', '1', '8', '1', '12', '0', '8', '1', '12', '0', '8', '1', '12', '0', '8', '1', '12', '0', '5', '1', '12', '0', '5', '1', '12', '0', '5', '1', '12', '0', '5', '1', '12', '0', '5', '1', '12', '0', '5', '1', '12', '0', '5', '0', '5', '1', '5', '1', '8', '0', '5', '1', '8', '1', '4', '0', '8', '0', '5', '1', '8', '0', '5', '1', '8', '0', '5', '1', '8', '0', '5', '1', '8', '0', '5', '1', '8', '1', '4', '0', '5', '1', '4', '1', '4', '0', '4', '0', '5', '1', '4', '1', '4', '0', '3', '1', '4', '0', '3', '1', '4', '0', '3', '1', '4', '0', '3', '1', '4', '0', '3', '0', '1', '1', '3', '0', '5', '1', '3', '0', '5', '1', '3', '1', '4', '0', '3', '1', '4', '0', '3', '0', '5', '1', '3', '1', '4', '0', '3', '1', '4', '0', '13', '1', '7', '1', '7', '0', '7', '0', '13', '0', '10', '1', '13', '0', '10', '1', '13', '0', '10', '1', '13', '0', '10', '1', '13', '0', '10', '1', '13', '0', '10', '1', '13', '0', '10', '1', '13', '1', '7', '0', '7', '0', '10', '1', '7', '0', '10', '1', '7', '0', '10', '1', '7', '0', '10', '0', '10', '1', '10', '0', '5', '1', '5', '0', '5', '1', '5', '1', '4', '0', '5', '1', '4', '1', '4', '1', '4', '0', '4', '0', '13', '0', '10', '1', '13', '0', '10', '1', '9', '0', '10', '0', '5', '1', '5', '0', '5', '1', '5', '1', '3', '1', '4', '0', '3', '0', '5', '1', '3', '1', '4', '0', '3', '0', '5', '1', '3', '0', '5', '1', '3', '0', '5', '1', '3', '1', '4', '0', '3', '1', '4', '0', '3', '1', '4', '0', '3', '1', '4', '1', '4', '0', '4', '1', '4', '0', '7', '0', '2', '1', '7', '0', '2', '1', '7', '1', '7', '0', '7', '0', '13', '0', '10', '1', '13', '1', '7', '0', '13', '0', '10', '1', '13', '0', '10', '1', '13', '1', '7', '0', '13', '1', '7', '0', '13', '1', '7', '0', '13', '1', '7', '1', '7', '0', '7', '0', '13', '1', '7', '0', '13', '1', '7', '0', '13', '1', '7', '0', '13', '0', '10', '0', '10', '1', '10', '0', '10', '1', '10', '1', '7', '0', '10', '0', '10', '0', '10', '1', '10', '1', '5', '0', '5', '1', '5', '1', '4', '0', '5', '1', '4', '0', '5', '0', '5', '1', '5', '0', '5', '1', '5', '1', '4', '0', '5', '0', '5', '1', '5', '1', '4', '1', '4', '0', '3', '1', '4', '0', '3', '1', '4', '0', '3', '0', '5', '1', '3', '0', '5', '1', '3', '1', '4', '0', '3', '1', '4', '0', '3', '1', '4', '0', '3', '1', '4', '0', '3', '0', '5', '1', '3', '0', '5', '1', '3', '0', '5', '1', '3', '0', '5', '1', '11', '1', '4', '1', '4', '0', '4', '0', '11', '0', '5', '1', '11', '1', '3', '1', '4', '0', '3', '1', '4', '1', '4', '0', '4', '0', '3', '1', '4', '1', '4', '0', '7', '0', '13', '1', '7', '0', '13', '0', '2', '1', '13', '1', '7', '0', '13', '1', '7', '0', '13', '1', '7', '0', '13', '0', '2', '1', '7', '1', '7', '0', '7', '0', '2', '1', '7', '0', '2', '1', '7', '1', '7', '0', '7', '0', '13', '0', '10', '1', '13', '0', '10', '1', '13', '0', '10', '0', '10', '1', '10', '0', '10', '1', '10', '1', '7', '0', '10', '1', '7', '0', '10', '1', '7', '0', '10', '1', '7', '0', '10', '1', '7', '0', '6', '0', '10', '1', '6', '0', '10', '1', '6', '1', '7', '0', '6', '1', '7', '0', '6', '0', '10', '1', '6', '1', '7', '1', '7', '0', '7', '0', '6', '1', '7', '0', '6', '0', '10', '1', '6', '1', '7', '0', '6', '0', '10', '1', '6', '0', '10', '0', '10', '1', '10', '1', '6', '0', '10', '1', '6', '0', '10', '1', '0', '0', '10', '1', '0', '0', '10', '1', '0', '0', '10', '0', '10', '0', '5', '1', '5', '1', '5', '1', '12', '0', '5', '1', '8', '0', '5', '1', '8', '0', '5', '1', '8', '0', '5', '1', '8', '0', '5', '1', '8', '1', '4', '0', '8', '1', '4', '0', '8', '0', '5', '1', '8', '0', '5', '1', '5', '1', '4', '1', '4', '0', '4', '1', '4', '0', '3', '0', '5', '1', '3', '1', '4', '0', '3', '1', '4', '0', '3', '1', '4', '1', '4', '0', '4', '0', '3', '0', '5', '1', '3', '1', '4', '1', '4', '0', '7', '0', '13', '1', '7', '0', '13', '0', '10', '0', '10', '1', '10', '1', '3', '1', '4', '0', '13', '0', '10', '1', '13', '1', '7', '0', '13', '0', '10', '1', '13', '0', '10', '1', '3', '0', '5', '1', '3', '1', '4', '0', '13', '0', '10', '0', '5', '1', '5', '1', '3', '0', '5', '0', '5', '0', '5', '1', '5', '1', '5', '1', '3', '1', '4', '0', '3', '1', '4', '0', '11', '1', '4', '0', '11', '0', '5', '1', '11', '1', '3', '0', '11', '0', '5', '1', '11', '1', '3', '0', '11', '1', '11', '1', '4', '1', '4', '0', '3', '0', '11', '1', '3', '0', '11', '1', '3', '1', '4', '0', '11', '0', '11', '1', '11', '1', '3', '0', '11', '1', '3', '0', '11', '0', '11', '1', '11', '0', '11', '1', '11', '1', '11']\n"
     ]
    }
   ],
   "source": [
    "with open('ppo-cartpole_trajectories.csv', 'r+') as f:\n",
    "    csv_r = csv.reader(f)\n",
    "    for i in range(1):\n",
    "        print(next(csv_r))"
   ]
  },
  {
   "cell_type": "markdown",
   "metadata": {},
   "source": [
    "There are two ways of loading Policy Graphs from CSV files. When loading from nodes and edges, though, episode trajectories cannot be restored."
   ]
  },
  {
   "cell_type": "code",
   "execution_count": 21,
   "metadata": {
    "ExecuteTime": {
     "end_time": "2023-12-16T17:52:23.463923Z",
     "start_time": "2023-12-16T17:52:22.431530Z"
    }
   },
   "outputs": [
    {
     "name": "stdout",
     "output_type": "stream",
     "text": [
      "Number of nodes:             14\n",
      "Number of edges:             133\n",
      "Num. of stored trajectories: 200\n"
     ]
    }
   ],
   "source": [
    "pg_csv = PolicyGraph.from_nodes_and_trajectories('./ppo-cartpole_nodes.csv', './ppo-cartpole_trajectories.csv',\n",
    "                                          environment, discretizer)\n",
    "print(f'Number of nodes:             {len(pg_csv.nodes)}')\n",
    "print(f'Number of edges:             {len(pg_csv.edges)}')\n",
    "print(f'Num. of stored trajectories: {len(pg_csv._trajectories_of_last_fit)}')"
   ]
  },
  {
   "cell_type": "code",
   "execution_count": 22,
   "metadata": {
    "ExecuteTime": {
     "end_time": "2023-12-16T17:52:23.470713Z",
     "start_time": "2023-12-16T17:52:23.464630Z"
    }
   },
   "outputs": [
    {
     "name": "stdout",
     "output_type": "stream",
     "text": [
      "Number of nodes:             14\n",
      "Number of edges:             133\n",
      "Num. of stored trajectories: 0\n"
     ]
    }
   ],
   "source": [
    "pg_csv = PolicyGraph.from_nodes_and_edges('./ppo-cartpole_nodes.csv', './ppo-cartpole_edges.csv',\n",
    "                                          environment, discretizer)\n",
    "print(f'Number of nodes:             {len(pg_csv.nodes)}')\n",
    "print(f'Number of edges:             {len(pg_csv.edges)}')\n",
    "print(f'Num. of stored trajectories: {len(pg_csv._trajectories_of_last_fit)}')"
   ]
  },
  {
   "cell_type": "markdown",
   "metadata": {},
   "source": [
    "### Gram\n",
    "\n",
    "PGs can also be exported to the [gram](https://neo4j.com/developer-blog/gram-a-data-graph-format/) format, allowing visualization using Neo4j. Episode trajectories cannot be stored in this format, though.\n",
    "\n",
    "PGs currently cannot be loaded from a Gram file."
   ]
  },
  {
   "cell_type": "code",
   "execution_count": 23,
   "metadata": {
    "ExecuteTime": {
     "end_time": "2023-12-16T17:52:23.479425Z",
     "start_time": "2023-12-16T17:52:23.471301Z"
    }
   },
   "outputs": [],
   "source": [
    "pg.save('gram', './ppo-cartpole.gram')"
   ]
  },
  {
   "cell_type": "code",
   "execution_count": 24,
   "metadata": {
    "ExecuteTime": {
     "end_time": "2023-12-16T17:52:23.666716Z",
     "start_time": "2023-12-16T17:52:23.482462Z"
    }
   },
   "outputs": [
    {
     "name": "stdout",
     "output_type": "stream",
     "text": [
      "\r\n",
      "CREATE (s0:State {\r\n",
      "  uid: \"s0\",\r\n",
      "  value: \"Position(MIDDLE)&Velocity(LEFT)&Angle(FALLING_LEFT)\",\r\n",
      "  probability: 0.005182360418500049, \r\n",
      "  frequency:212\r\n",
      "});\r\n",
      "CREATE (s1:State {\r\n",
      "  uid: \"s1\",\r\n",
      "  value: \"Position(MIDDLE)&Velocity(LEFT)&Angle(STANDING)\",\r\n"
     ]
    }
   ],
   "source": [
    "!head ./ppo-cartpole.gram"
   ]
  },
  {
   "cell_type": "code",
   "execution_count": 25,
   "metadata": {
    "ExecuteTime": {
     "end_time": "2023-12-16T17:52:23.839518Z",
     "start_time": "2023-12-16T17:52:23.667946Z"
    }
   },
   "outputs": [
    {
     "name": "stdout",
     "output_type": "stream",
     "text": [
      "MATCH (s12:State) WHERE s12.uid = \"s12\" MATCH (s4:State) WHERE s4.uid = \"s4\" CREATE (s12)-[:a1 {probability:0.04568527918781726, frequency:9}]->(s4);\r\n",
      "MATCH (s12:State) WHERE s12.uid = \"s12\" MATCH (s6:State) WHERE s6.uid = \"s6\" CREATE (s12)-[:a0 {probability:0.025380710659898477, frequency:5}]->(s6);\r\n",
      "MATCH (s12:State) WHERE s12.uid = \"s12\" MATCH (s10:State) WHERE s10.uid = \"s10\" CREATE (s12)-[:a0 {probability:0.01015228426395939, frequency:2}]->(s10);\r\n",
      "MATCH (s13:State) WHERE s13.uid = \"s13\" MATCH (s7:State) WHERE s7.uid = \"s7\" CREATE (s13)-[:a1 {probability:0.40130353817504655, frequency:862}]->(s7);\r\n",
      "MATCH (s13:State) WHERE s13.uid = \"s13\" MATCH (s10:State) WHERE s10.uid = \"s10\" CREATE (s13)-[:a0 {probability:0.3985102420856611, frequency:856}]->(s10);\r\n",
      "MATCH (s13:State) WHERE s13.uid = \"s13\" MATCH (s2:State) WHERE s2.uid = \"s2\" CREATE (s13)-[:a0 {probability:0.18761638733705774, frequency:403}]->(s2);\r\n",
      "MATCH (s13:State) WHERE s13.uid = \"s13\" MATCH (s1:State) WHERE s1.uid = \"s1\" CREATE (s13)-[:a0 {probability:0.004189944134078212, frequency:9}]->(s1);\r\n",
      "MATCH (s13:State) WHERE s13.uid = \"s13\" MATCH (s9:State) WHERE s9.uid = \"s9\" CREATE (s13)-[:a1 {probability:0.0037243947858473, frequency:8}]->(s9);\r\n",
      "MATCH (s13:State) WHERE s13.uid = \"s13\" MATCH (s9:State) WHERE s9.uid = \"s9\" CREATE (s13)-[:a0 {probability:0.000931098696461825, frequency:2}]->(s9);\r\n",
      "MATCH (s13:State) WHERE s13.uid = \"s13\" MATCH (s4:State) WHERE s4.uid = \"s4\" CREATE (s13)-[:a1 {probability:0.0037243947858473, frequency:8}]->(s4);"
     ]
    }
   ],
   "source": [
    "!tail ./ppo-cartpole.gram"
   ]
  },
  {
   "cell_type": "markdown",
   "metadata": {},
   "source": [
    "## Using PG-based policies\n",
    "\n",
    "Using the `PGBasedPolicy`, we can create policies that replicate an agent's behavior, based on their generated Policy Graph. These policies are subclasses of the `pgeon.Agent` class.\n",
    "\n",
    "The policy mode (greedy/stochastic) can be specified via the `PGBasedPolicyMode` enum. The behavior when encountering an unknown node (select random action/search nearest node in PG) can be specified via the `PGBasedPolicyNodeNotFoundMode` enum."
   ]
  },
  {
   "cell_type": "code",
   "execution_count": 26,
   "metadata": {
    "ExecuteTime": {
     "end_time": "2023-12-16T17:52:23.843268Z",
     "start_time": "2023-12-16T17:52:23.840328Z"
    }
   },
   "outputs": [],
   "source": [
    "from pgeon import PGBasedPolicy, PGBasedPolicyMode, PGBasedPolicyNodeNotFoundMode"
   ]
  },
  {
   "cell_type": "code",
   "execution_count": 27,
   "metadata": {
    "ExecuteTime": {
     "end_time": "2023-12-16T17:52:23.847864Z",
     "start_time": "2023-12-16T17:52:23.843748Z"
    }
   },
   "outputs": [],
   "source": [
    "policy = PGBasedPolicy(pg, mode=PGBasedPolicyMode.GREEDY,\n",
    "                       node_not_found_mode=PGBasedPolicyNodeNotFoundMode.RANDOM_UNIFORM)"
   ]
  },
  {
   "cell_type": "code",
   "execution_count": 28,
   "metadata": {
    "ExecuteTime": {
     "end_time": "2023-12-16T17:52:23.852820Z",
     "start_time": "2023-12-16T17:52:23.850398Z"
    }
   },
   "outputs": [
    {
     "name": "stdout",
     "output_type": "stream",
     "text": [
      "Observed state:  [ 0.00483929  0.04979198 -0.02431643 -0.04302176]\n",
      "Discretization:  (Position(MIDDLE), Velocity(RIGHT), Angle(STUCK_LEFT))\n",
      "Selected action: 0\n"
     ]
    }
   ],
   "source": [
    "obs, _ = environment.reset()\n",
    "action = policy.act(obs)\n",
    "\n",
    "print(f'Observed state:  {obs}')\n",
    "print(f'Discretization:  {policy.pg.discretizer.discretize(obs)}')\n",
    "print(f'Selected action: {action}')"
   ]
  },
  {
   "cell_type": "markdown",
   "metadata": {},
   "source": [
    "## Implementing new Discretizers\n",
    "\n",
    "In order to generate Policy Graphs using a certain environment, a Discretizer that transforms the state into a series of predicates has to be implemented by creating a class that inherits from `pgeon.Discretizer` and implements all its abstract methods."
   ]
  },
  {
   "cell_type": "code",
   "execution_count": 29,
   "metadata": {
    "ExecuteTime": {
     "end_time": "2023-12-16T17:52:23.856812Z",
     "start_time": "2023-12-16T17:52:23.853904Z"
    }
   },
   "outputs": [],
   "source": [
    "from enum import Enum, auto\n",
    "\n",
    "from pgeon import Predicate"
   ]
  },
  {
   "cell_type": "markdown",
   "metadata": {},
   "source": [
    "Firstly, a set of predicates and their values has to be decided. In this case we use three: the cartpole's `Position` (is the cart in the middle, left or right?) and `Velocity` (is the cart moving left or right?), and the state of its pole (`Angle`, meaning the pole is standing, falling to one side, stabilizing...).\n",
    "\n",
    "Each of the predicates and its possible values are represented as an enum."
   ]
  },
  {
   "cell_type": "code",
   "execution_count": 30,
   "metadata": {
    "ExecuteTime": {
     "end_time": "2023-12-16T17:52:23.897968Z",
     "start_time": "2023-12-16T17:52:23.859001Z"
    }
   },
   "outputs": [],
   "source": [
    "class Position(Enum):\n",
    "    LEFT = auto()\n",
    "    MIDDLE = auto()\n",
    "    RIGHT = auto()\n",
    "\n",
    "class Velocity(Enum):\n",
    "    LEFT = auto()\n",
    "    RIGHT = auto()\n",
    "\n",
    "class Angle(Enum):\n",
    "    STANDING = auto()\n",
    "    STUCK_LEFT = auto()\n",
    "    STUCK_RIGHT = auto()\n",
    "    FALLING_LEFT = auto()\n",
    "    FALLING_RIGHT = auto()\n",
    "    STABILIZING_LEFT = auto()\n",
    "    STABILIZING_RIGHT = auto()"
   ]
  },
  {
   "cell_type": "markdown",
   "metadata": {},
   "source": [
    "This is an example of a state as a set of predicates. Note that a predicate accepts an ordered list of values (e.g. `[Position.LEFT, Velocity.RIGHT]`), as some environments benefit from that level of description."
   ]
  },
  {
   "cell_type": "code",
   "execution_count": 31,
   "metadata": {
    "ExecuteTime": {
     "end_time": "2023-12-16T17:52:23.904809Z",
     "start_time": "2023-12-16T17:52:23.863392Z"
    }
   },
   "outputs": [
    {
     "data": {
      "text/plain": "(Position(LEFT), Velocity(LEFT), Angle(STABILIZING_RIGHT))"
     },
     "execution_count": 31,
     "metadata": {},
     "output_type": "execute_result"
    }
   ],
   "source": [
    "Predicate(Position, [Position.LEFT]), Predicate(Velocity, [Velocity.LEFT]), Predicate(Angle, [Angle.STABILIZING_RIGHT])"
   ]
  },
  {
   "cell_type": "markdown",
   "metadata": {},
   "source": [
    "A discretizer class needs to implement the following methods:\n",
    "\n",
    "- `discretize(self, state)`: Converts an environment's raw observation into a discretized state.\n",
    "- `state_to_str(self, state) -> str`: Converts a discrete state into a string (used in serialization).\n",
    "- `str_to_state(self, state: str)`: Converts a string representing a state into said state (used in serialization).\n",
    "- `nearest_state(self, state)`: A generator function that, given a certain discrete state, yields the nearest discrete states, in order. The distance heuristic is left to the implementer.\n",
    "\n",
    "This is an example use of these methods:"
   ]
  },
  {
   "cell_type": "code",
   "execution_count": 32,
   "metadata": {
    "ExecuteTime": {
     "end_time": "2023-12-16T17:52:23.904993Z",
     "start_time": "2023-12-16T17:52:23.869345Z"
    }
   },
   "outputs": [],
   "source": [
    "obs, _ = environment.reset()\n",
    "discretized_obs = discretizer.discretize(obs)\n",
    "str_obs = discretizer.state_to_str(discretized_obs)\n",
    "str_to_state = discretizer.str_to_state(str_obs)"
   ]
  },
  {
   "cell_type": "code",
   "execution_count": 33,
   "metadata": {
    "ExecuteTime": {
     "end_time": "2023-12-16T17:52:23.905101Z",
     "start_time": "2023-12-16T17:52:23.874557Z"
    }
   },
   "outputs": [
    {
     "name": "stdout",
     "output_type": "stream",
     "text": [
      "Observed state:  [-0.01459135 -0.01986943  0.04615097  0.04219142]\n",
      "Discretization:  (Position(MIDDLE), Velocity(LEFT), Angle(STUCK_RIGHT))\n",
      "State to str:    Position(MIDDLE)&Velocity(LEFT)&Angle(STUCK_RIGHT)\n",
      "Str to state:    (Position(MIDDLE), Velocity(LEFT), Angle(STUCK_RIGHT))\n"
     ]
    }
   ],
   "source": [
    "print(f'Observed state:  {obs}')\n",
    "print(f'Discretization:  {discretized_obs}')\n",
    "print(f'State to str:    {str_obs}')\n",
    "print(f'Str to state:    {str_to_state}')"
   ]
  },
  {
   "cell_type": "code",
   "execution_count": 45,
   "outputs": [
    {
     "name": "stdout",
     "output_type": "stream",
     "text": [
      "From (Position(MIDDLE), Velocity(LEFT), Angle(STUCK_RIGHT)), I will take one of these actions:\n",
      "\t-> LEFT \tProb: 50.34 %\n",
      "\t-> RIGHT \tProb: 49.66 %\n"
     ]
    }
   ],
   "source": [
    "possible_actions = pg.question1(discretized_obs)\n",
    "\n",
    "print(f'From {discretized_obs}, I will take one of these actions:')\n",
    "for action, prob in possible_actions:\n",
    "    print('\\t->', action.name, '\\tProb:', round(prob * 100, 2), '%')"
   ],
   "metadata": {
    "collapsed": false,
    "ExecuteTime": {
     "end_time": "2023-12-16T17:59:48.385794Z",
     "start_time": "2023-12-16T17:59:48.361568Z"
    }
   }
  }
 ],
 "metadata": {
  "kernelspec": {
   "display_name": "Python 3 (ipykernel)",
   "language": "python",
   "name": "python3"
  },
  "language_info": {
   "codemirror_mode": {
    "name": "ipython",
    "version": 3
   },
   "file_extension": ".py",
   "mimetype": "text/x-python",
   "name": "python",
   "nbconvert_exporter": "python",
   "pygments_lexer": "ipython3",
   "version": "3.8.0"
  }
 },
 "nbformat": 4,
 "nbformat_minor": 4
}
