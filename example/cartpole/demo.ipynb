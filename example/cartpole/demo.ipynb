{
 "cells": [
  {
   "cell_type": "markdown",
   "metadata": {},
   "source": [
    "# XAI In Action - pgeon\n",
    "\n",
    "This notebook shows the current functionalities of the **pgeon** library."
   ]
  },
  {
   "cell_type": "markdown",
   "metadata": {},
   "source": [
    "## Preparation\n",
    "\n",
    "Loading an environment, an agent and a discretizer; the necessary elements to generate a Policy Graph."
   ]
  },
  {
   "cell_type": "code",
   "execution_count": 1,
   "metadata": {
    "ExecuteTime": {
     "end_time": "2023-12-16T19:00:05.774793Z",
     "start_time": "2023-12-16T19:00:05.330188Z"
    }
   },
   "outputs": [],
   "source": [
    "import gymnasium as gym\n",
    "\n",
    "from example.cartpole.discretizer import CartpoleDiscretizer"
   ]
  },
  {
   "cell_type": "code",
   "execution_count": 2,
   "outputs": [],
   "source": [
    "import torch"
   ],
   "metadata": {
    "collapsed": false,
    "ExecuteTime": {
     "end_time": "2023-12-16T19:00:06.527630Z",
     "start_time": "2023-12-16T19:00:05.556583Z"
    }
   }
  },
  {
   "cell_type": "code",
   "execution_count": 3,
   "metadata": {
    "collapsed": false,
    "jupyter": {
     "outputs_hidden": false
    },
    "pycharm": {
     "name": "#%%\n"
    },
    "ExecuteTime": {
     "end_time": "2023-12-16T19:00:06.533311Z",
     "start_time": "2023-12-16T19:00:06.527995Z"
    }
   },
   "outputs": [],
   "source": [
    "environment = gym.make('CartPole-v1')\n",
    "discretizer = CartpoleDiscretizer()"
   ]
  },
  {
   "cell_type": "code",
   "execution_count": 4,
   "metadata": {
    "collapsed": false,
    "jupyter": {
     "outputs_hidden": false
    },
    "pycharm": {
     "name": "#%%\n"
    },
    "ExecuteTime": {
     "end_time": "2023-12-16T19:00:07.967189Z",
     "start_time": "2023-12-16T19:00:06.534588Z"
    }
   },
   "outputs": [],
   "source": [
    "from pgeon import Agent\n",
    "from ray.rllib.algorithms.algorithm import Algorithm\n",
    "\n",
    "class CartpoleAgent(Agent):\n",
    "    def __init__(self, path):\n",
    "        self.agent = Algorithm.from_checkpoint(path)\n",
    "\n",
    "    def act(self, state):\n",
    "        return self.agent.compute_single_action(state)"
   ]
  },
  {
   "cell_type": "code",
   "execution_count": 5,
   "metadata": {
    "collapsed": false,
    "jupyter": {
     "outputs_hidden": false
    },
    "pycharm": {
     "name": "#%%\n"
    },
    "scrolled": true,
    "ExecuteTime": {
     "end_time": "2023-12-16T19:00:13.046555Z",
     "start_time": "2023-12-16T19:00:07.968642Z"
    }
   },
   "outputs": [
    {
     "name": "stderr",
     "output_type": "stream",
     "text": [
      "2023-12-16 13:00:07,975\tWARNING __init__.py:10 -- PG has/have been moved to `rllib_contrib` and will no longer be maintained by the RLlib team. You can still use it/them normally inside RLlib util Ray 2.8, but from Ray 2.9 on, all `rllib_contrib` algorithms will no longer be part of the core repo, and will therefore have to be installed separately with pinned dependencies for e.g. ray[rllib] and other packages! See https://github.com/ray-project/ray/tree/master/rllib_contrib#rllib-contrib for more information on the RLlib contrib effort.\n",
      "/Users/sergio/repos/pgeon/venv/lib/python3.8/site-packages/ray/rllib/algorithms/algorithm.py:484: RayDeprecationWarning: This API is deprecated and may be removed in future Ray releases. You could suppress this warning by setting env variable PYTHONWARNINGS=\"ignore::DeprecationWarning\"\n",
      "`UnifiedLogger` will be removed in Ray 2.7.\n",
      "  return UnifiedLogger(config, logdir, loggers=None)\n",
      "/Users/sergio/repos/pgeon/venv/lib/python3.8/site-packages/ray/tune/logger/unified.py:53: RayDeprecationWarning: This API is deprecated and may be removed in future Ray releases. You could suppress this warning by setting env variable PYTHONWARNINGS=\"ignore::DeprecationWarning\"\n",
      "The `JsonLogger interface is deprecated in favor of the `ray.tune.json.JsonLoggerCallback` interface and will be removed in Ray 2.7.\n",
      "  self._loggers.append(cls(self.config, self.logdir, self.trial))\n",
      "/Users/sergio/repos/pgeon/venv/lib/python3.8/site-packages/ray/tune/logger/unified.py:53: RayDeprecationWarning: This API is deprecated and may be removed in future Ray releases. You could suppress this warning by setting env variable PYTHONWARNINGS=\"ignore::DeprecationWarning\"\n",
      "The `CSVLogger interface is deprecated in favor of the `ray.tune.csv.CSVLoggerCallback` interface and will be removed in Ray 2.7.\n",
      "  self._loggers.append(cls(self.config, self.logdir, self.trial))\n",
      "/Users/sergio/repos/pgeon/venv/lib/python3.8/site-packages/ray/tune/logger/unified.py:53: RayDeprecationWarning: This API is deprecated and may be removed in future Ray releases. You could suppress this warning by setting env variable PYTHONWARNINGS=\"ignore::DeprecationWarning\"\n",
      "The `TBXLogger interface is deprecated in favor of the `ray.tune.tensorboardx.TBXLoggerCallback` interface and will be removed in Ray 2.7.\n",
      "  self._loggers.append(cls(self.config, self.logdir, self.trial))\n",
      "2023-12-16 13:00:09,401\tINFO worker.py:1673 -- Started a local Ray instance.\n",
      "\u001B[36m(RolloutWorker pid=20379)\u001B[0m 2023-12-16 13:00:12,744\tWARNING __init__.py:10 -- PG has/have been moved to `rllib_contrib` and will no longer be maintained by the RLlib team. You can still use it/them normally inside RLlib util Ray 2.8, but from Ray 2.9 on, all `rllib_contrib` algorithms will no longer be part of the core repo, and will therefore have to be installed separately with pinned dependencies for e.g. ray[rllib] and other packages! See https://github.com/ray-project/ray/tree/master/rllib_contrib#rllib-contrib for more information on the RLlib contrib effort.\n",
      "2023-12-16 13:00:13,027\tWARNING util.py:62 -- Install gputil for GPU system monitoring.\n"
     ]
    }
   ],
   "source": [
    "agent = CartpoleAgent('checkpoints/PPO_CartPole-v1_1acbb_00000_0_2023-12-05_19-28-36/checkpoint_000000')"
   ]
  },
  {
   "cell_type": "markdown",
   "metadata": {},
   "source": [
    "## Policy Graph generation"
   ]
  },
  {
   "cell_type": "code",
   "execution_count": 6,
   "metadata": {
    "ExecuteTime": {
     "end_time": "2023-12-16T19:00:13.048766Z",
     "start_time": "2023-12-16T19:00:13.041572Z"
    }
   },
   "outputs": [],
   "source": [
    "from pgeon import PolicyGraph"
   ]
  },
  {
   "cell_type": "markdown",
   "metadata": {},
   "source": [
    "Policy Graphs are instantiated with an environment and a discretizer."
   ]
  },
  {
   "cell_type": "code",
   "execution_count": 7,
   "metadata": {
    "ExecuteTime": {
     "end_time": "2023-12-16T19:00:13.054786Z",
     "start_time": "2023-12-16T19:00:13.048331Z"
    }
   },
   "outputs": [],
   "source": [
    "pg = PolicyGraph(environment, discretizer)"
   ]
  },
  {
   "cell_type": "markdown",
   "metadata": {},
   "source": [
    "We generate a Policy Graph with the `fit()` function, in this case generating 1000 episode trajectories from our agent. If the PG has been previously fit, one can choose to update the PG with new trajectories (instead of re-generating the PG) with `update=True`."
   ]
  },
  {
   "cell_type": "code",
   "execution_count": 8,
   "metadata": {
    "ExecuteTime": {
     "end_time": "2023-12-16T19:00:40.404530Z",
     "start_time": "2023-12-16T19:00:13.052330Z"
    }
   },
   "outputs": [
    {
     "name": "stderr",
     "output_type": "stream",
     "text": [
      "Fitting PG...: 100%|██████████| 200/200 [00:27<00:00,  7.31it/s]\n"
     ]
    }
   ],
   "source": [
    "pg = pg.fit(agent, num_episodes=200, update=False)"
   ]
  },
  {
   "cell_type": "code",
   "execution_count": 9,
   "metadata": {
    "ExecuteTime": {
     "end_time": "2023-12-16T19:00:40.407898Z",
     "start_time": "2023-12-16T19:00:40.405246Z"
    }
   },
   "outputs": [
    {
     "name": "stdout",
     "output_type": "stream",
     "text": [
      "Number of nodes: 14\n",
      "Number of edges: 136\n"
     ]
    }
   ],
   "source": [
    "print(f'Number of nodes: {len(pg.nodes)}')\n",
    "print(f'Number of edges: {len(pg.edges)}')"
   ]
  },
  {
   "cell_type": "markdown",
   "metadata": {},
   "source": [
    "ach node has information about a discretized state:"
   ]
  },
  {
   "cell_type": "code",
   "execution_count": 10,
   "metadata": {
    "ExecuteTime": {
     "end_time": "2023-12-16T19:00:40.411352Z",
     "start_time": "2023-12-16T19:00:40.409174Z"
    }
   },
   "outputs": [
    {
     "name": "stdout",
     "output_type": "stream",
     "text": [
      "(Position(MIDDLE), Velocity(LEFT), Angle(FALLING_LEFT))\n",
      "  Times visited: 184\n",
      "  p(s):          0.005\n"
     ]
    }
   ],
   "source": [
    "arbitrary_state = list(pg.nodes)[0]\n",
    "\n",
    "print(arbitrary_state)\n",
    "print(f'  Times visited: {pg.nodes[arbitrary_state][\"frequency\"]}')\n",
    "print(f'  p(s):          {pg.nodes[arbitrary_state][\"probability\"]:.3f}')"
   ]
  },
  {
   "cell_type": "markdown",
   "metadata": {},
   "source": [
    "Each edge has information about a transition between states:"
   ]
  },
  {
   "cell_type": "code",
   "execution_count": 11,
   "metadata": {
    "ExecuteTime": {
     "end_time": "2023-12-16T19:00:40.414950Z",
     "start_time": "2023-12-16T19:00:40.412542Z"
    }
   },
   "outputs": [
    {
     "name": "stdout",
     "output_type": "stream",
     "text": [
      "From:    (Position(MIDDLE), Velocity(LEFT), Angle(FALLING_LEFT))\n",
      "Action:  1\n",
      "To:      (Position(MIDDLE), Velocity(RIGHT), Angle(FALLING_LEFT))\n",
      "  Times visited:      9\n",
      "  p(s_to,a | s_from): 0.049\n"
     ]
    }
   ],
   "source": [
    "arbitrary_edge = list(pg.edges)[0]\n",
    "\n",
    "print(f'From:    {arbitrary_edge[0]}')\n",
    "print(f'Action:  {arbitrary_edge[2]}')\n",
    "print(f'To:      {arbitrary_edge[1]}')\n",
    "print(f'  Times visited:      {pg[arbitrary_edge[0]][arbitrary_edge[1]][arbitrary_edge[2]][\"frequency\"]}')\n",
    "print(f'  p(s_to,a | s_from): {pg[arbitrary_edge[0]][arbitrary_edge[1]][arbitrary_edge[2]][\"probability\"]:.3f}')"
   ]
  },
  {
   "cell_type": "markdown",
   "metadata": {},
   "source": [
    "The `PolicyGraph` object also stores the full discretized episode trajectories of the last fit."
   ]
  },
  {
   "cell_type": "code",
   "execution_count": 12,
   "metadata": {
    "ExecuteTime": {
     "end_time": "2023-12-16T19:00:40.447422Z",
     "start_time": "2023-12-16T19:00:40.417545Z"
    }
   },
   "outputs": [
    {
     "data": {
      "text/plain": "200"
     },
     "execution_count": 12,
     "metadata": {},
     "output_type": "execute_result"
    }
   ],
   "source": [
    "len(pg._trajectories_of_last_fit)"
   ]
  },
  {
   "cell_type": "markdown",
   "metadata": {},
   "source": [
    "Each trajectory is stored as a (state0, action0, state1, ..., stateN) tuple ."
   ]
  },
  {
   "cell_type": "code",
   "execution_count": 13,
   "metadata": {
    "ExecuteTime": {
     "end_time": "2023-12-16T19:00:40.447844Z",
     "start_time": "2023-12-16T19:00:40.426015Z"
    }
   },
   "outputs": [
    {
     "data": {
      "text/plain": "[(Position(MIDDLE), Velocity(LEFT), Angle(STUCK_LEFT)),\n 1,\n (Position(MIDDLE), Velocity(RIGHT), Angle(FALLING_LEFT)),\n 0,\n (Position(MIDDLE), Velocity(LEFT), Angle(STUCK_LEFT)),\n 0,\n (Position(MIDDLE), Velocity(LEFT), Angle(STABILIZING_RIGHT)),\n 1,\n (Position(MIDDLE), Velocity(LEFT), Angle(FALLING_LEFT)),\n 1,\n (Position(MIDDLE), Velocity(RIGHT), Angle(FALLING_LEFT)),\n 0,\n (Position(MIDDLE), Velocity(LEFT), Angle(FALLING_LEFT)),\n 0,\n (Position(MIDDLE), Velocity(LEFT), Angle(STABILIZING_RIGHT)),\n 1,\n (Position(MIDDLE), Velocity(LEFT), Angle(FALLING_LEFT)),\n 0,\n (Position(MIDDLE), Velocity(LEFT), Angle(STUCK_LEFT)),\n 1,\n (Position(MIDDLE), Velocity(LEFT), Angle(FALLING_LEFT)),\n 0,\n (Position(MIDDLE), Velocity(LEFT), Angle(STUCK_LEFT)),\n 1,\n (Position(MIDDLE), Velocity(LEFT), Angle(FALLING_LEFT)),\n 0,\n (Position(MIDDLE), Velocity(LEFT), Angle(STUCK_LEFT)),\n 0,\n (Position(MIDDLE), Velocity(LEFT), Angle(STABILIZING_RIGHT)),\n 1,\n (Position(MIDDLE), Velocity(LEFT), Angle(STUCK_LEFT)),\n 0,\n (Position(MIDDLE), Velocity(LEFT), Angle(STABILIZING_RIGHT)),\n 0,\n (Position(MIDDLE), Velocity(LEFT), Angle(STABILIZING_RIGHT)),\n 1,\n (Position(MIDDLE), Velocity(LEFT), Angle(STABILIZING_RIGHT)),\n 0,\n (Position(MIDDLE), Velocity(LEFT), Angle(STABILIZING_RIGHT)),\n 1,\n (Position(MIDDLE), Velocity(LEFT), Angle(STABILIZING_RIGHT)),\n 0,\n (Position(MIDDLE), Velocity(LEFT), Angle(STABILIZING_RIGHT)),\n 1,\n (Position(MIDDLE), Velocity(LEFT), Angle(STABILIZING_RIGHT)),\n 1,\n (Position(MIDDLE), Velocity(LEFT), Angle(FALLING_LEFT)),\n 0,\n (Position(MIDDLE), Velocity(LEFT), Angle(STABILIZING_RIGHT)),\n 0,\n (Position(MIDDLE), Velocity(LEFT), Angle(STABILIZING_RIGHT)),\n 1,\n (Position(MIDDLE), Velocity(LEFT), Angle(STUCK_LEFT)),\n 0,\n (Position(MIDDLE), Velocity(LEFT), Angle(STABILIZING_RIGHT)),\n 1,\n (Position(MIDDLE), Velocity(LEFT), Angle(STUCK_LEFT)),\n 0,\n (Position(MIDDLE), Velocity(LEFT), Angle(STABILIZING_RIGHT)),\n 0,\n (Position(MIDDLE), Velocity(LEFT), Angle(STABILIZING_RIGHT)),\n 1,\n (Position(MIDDLE), Velocity(LEFT), Angle(FALLING_RIGHT)),\n 1,\n (Position(MIDDLE), Velocity(LEFT), Angle(STUCK_RIGHT)),\n 0,\n (Position(MIDDLE), Velocity(LEFT), Angle(FALLING_RIGHT)),\n 1,\n (Position(MIDDLE), Velocity(LEFT), Angle(STUCK_RIGHT)),\n 1,\n (Position(MIDDLE), Velocity(LEFT), Angle(STABILIZING_LEFT)),\n 0,\n (Position(MIDDLE), Velocity(LEFT), Angle(FALLING_RIGHT)),\n 1,\n (Position(MIDDLE), Velocity(LEFT), Angle(STABILIZING_LEFT)),\n 0,\n (Position(MIDDLE), Velocity(LEFT), Angle(FALLING_RIGHT)),\n 1,\n (Position(MIDDLE), Velocity(LEFT), Angle(STABILIZING_LEFT)),\n 0,\n (Position(MIDDLE), Velocity(LEFT), Angle(FALLING_RIGHT)),\n 0,\n (Position(MIDDLE), Velocity(LEFT), Angle(FALLING_RIGHT)),\n 1,\n (Position(MIDDLE), Velocity(LEFT), Angle(FALLING_RIGHT)),\n 1,\n (Position(MIDDLE), Velocity(LEFT), Angle(STABILIZING_LEFT)),\n 0,\n (Position(MIDDLE), Velocity(LEFT), Angle(FALLING_RIGHT)),\n 1,\n (Position(MIDDLE), Velocity(LEFT), Angle(STABILIZING_LEFT)),\n 0,\n (Position(MIDDLE), Velocity(LEFT), Angle(FALLING_RIGHT)),\n 1,\n (Position(MIDDLE), Velocity(LEFT), Angle(STUCK_RIGHT)),\n 0,\n (Position(MIDDLE), Velocity(LEFT), Angle(FALLING_RIGHT)),\n 0,\n (Position(MIDDLE), Velocity(LEFT), Angle(FALLING_RIGHT)),\n 1,\n (Position(MIDDLE), Velocity(LEFT), Angle(FALLING_RIGHT)),\n 1,\n (Position(MIDDLE), Velocity(LEFT), Angle(STUCK_RIGHT)),\n 0,\n (Position(MIDDLE), Velocity(LEFT), Angle(FALLING_RIGHT)),\n 1,\n (Position(MIDDLE), Velocity(LEFT), Angle(STUCK_RIGHT)),\n 0,\n (Position(MIDDLE), Velocity(LEFT), Angle(FALLING_RIGHT)),\n 1,\n (Position(MIDDLE), Velocity(LEFT), Angle(STUCK_RIGHT)),\n 0,\n (Position(MIDDLE), Velocity(LEFT), Angle(FALLING_RIGHT)),\n 1,\n (Position(MIDDLE), Velocity(LEFT), Angle(STUCK_RIGHT)),\n 1,\n (Position(MIDDLE), Velocity(LEFT), Angle(STABILIZING_LEFT)),\n 0,\n (Position(MIDDLE), Velocity(LEFT), Angle(FALLING_RIGHT)),\n 1,\n (Position(MIDDLE), Velocity(LEFT), Angle(STABILIZING_LEFT)),\n 0,\n (Position(MIDDLE), Velocity(LEFT), Angle(FALLING_RIGHT)),\n 0,\n (Position(MIDDLE), Velocity(LEFT), Angle(FALLING_RIGHT)),\n 1,\n (Position(MIDDLE), Velocity(LEFT), Angle(FALLING_RIGHT)),\n 1,\n (Position(MIDDLE), Velocity(LEFT), Angle(STUCK_RIGHT)),\n 0,\n (Position(MIDDLE), Velocity(LEFT), Angle(FALLING_RIGHT)),\n 1,\n (Position(MIDDLE), Velocity(LEFT), Angle(STUCK_RIGHT)),\n 1,\n (Position(MIDDLE), Velocity(RIGHT), Angle(STABILIZING_LEFT)),\n 0,\n (Position(MIDDLE), Velocity(LEFT), Angle(STUCK_RIGHT)),\n 1,\n (Position(MIDDLE), Velocity(RIGHT), Angle(STABILIZING_LEFT)),\n 0,\n (Position(MIDDLE), Velocity(LEFT), Angle(FALLING_RIGHT)),\n 1,\n (Position(MIDDLE), Velocity(RIGHT), Angle(STABILIZING_LEFT)),\n 0,\n (Position(MIDDLE), Velocity(LEFT), Angle(FALLING_RIGHT)),\n 1,\n (Position(MIDDLE), Velocity(RIGHT), Angle(STABILIZING_LEFT)),\n 0,\n (Position(MIDDLE), Velocity(LEFT), Angle(FALLING_RIGHT)),\n 1,\n (Position(MIDDLE), Velocity(RIGHT), Angle(STUCK_RIGHT)),\n 1,\n (Position(MIDDLE), Velocity(RIGHT), Angle(STABILIZING_LEFT)),\n 0,\n (Position(MIDDLE), Velocity(RIGHT), Angle(STUCK_RIGHT)),\n 0,\n (Position(MIDDLE), Velocity(LEFT), Angle(FALLING_RIGHT)),\n 1,\n (Position(MIDDLE), Velocity(RIGHT), Angle(STUCK_RIGHT)),\n 1,\n (Position(MIDDLE), Velocity(RIGHT), Angle(STABILIZING_LEFT)),\n 0,\n (Position(MIDDLE), Velocity(RIGHT), Angle(STUCK_RIGHT)),\n 1,\n (Position(MIDDLE), Velocity(RIGHT), Angle(STABILIZING_LEFT)),\n 0,\n (Position(MIDDLE), Velocity(RIGHT), Angle(FALLING_RIGHT)),\n 1,\n (Position(MIDDLE), Velocity(RIGHT), Angle(STABILIZING_LEFT)),\n 1,\n (Position(MIDDLE), Velocity(RIGHT), Angle(STABILIZING_LEFT)),\n 0,\n (Position(MIDDLE), Velocity(RIGHT), Angle(STUCK_RIGHT)),\n 0,\n (Position(MIDDLE), Velocity(RIGHT), Angle(FALLING_RIGHT)),\n 1,\n (Position(MIDDLE), Velocity(RIGHT), Angle(STUCK_RIGHT)),\n 0,\n (Position(MIDDLE), Velocity(RIGHT), Angle(FALLING_RIGHT)),\n 1,\n (Position(MIDDLE), Velocity(RIGHT), Angle(STUCK_RIGHT)),\n 0,\n (Position(MIDDLE), Velocity(RIGHT), Angle(FALLING_RIGHT)),\n 1,\n (Position(MIDDLE), Velocity(RIGHT), Angle(STUCK_RIGHT)),\n 1,\n (Position(MIDDLE), Velocity(RIGHT), Angle(STABILIZING_LEFT)),\n 0,\n (Position(MIDDLE), Velocity(RIGHT), Angle(FALLING_RIGHT)),\n 0,\n (Position(MIDDLE), Velocity(RIGHT), Angle(FALLING_RIGHT)),\n 1,\n (Position(MIDDLE), Velocity(RIGHT), Angle(FALLING_RIGHT)),\n 1,\n (Position(MIDDLE), Velocity(RIGHT), Angle(STABILIZING_LEFT)),\n 1,\n (Position(MIDDLE), Velocity(RIGHT), Angle(STABILIZING_LEFT)),\n 0,\n (Position(MIDDLE), Velocity(RIGHT), Angle(STUCK_RIGHT)),\n 1,\n (Position(MIDDLE), Velocity(RIGHT), Angle(STABILIZING_LEFT)),\n 1,\n (Position(MIDDLE), Velocity(RIGHT), Angle(STABILIZING_LEFT)),\n 0,\n (Position(MIDDLE), Velocity(RIGHT), Angle(STABILIZING_LEFT)),\n 0,\n (Position(MIDDLE), Velocity(RIGHT), Angle(STUCK_RIGHT)),\n 1,\n (Position(MIDDLE), Velocity(RIGHT), Angle(STABILIZING_LEFT)),\n 0,\n (Position(MIDDLE), Velocity(RIGHT), Angle(STUCK_RIGHT)),\n 1,\n (Position(MIDDLE), Velocity(RIGHT), Angle(STABILIZING_LEFT)),\n 0,\n (Position(MIDDLE), Velocity(RIGHT), Angle(FALLING_RIGHT)),\n 1,\n (Position(MIDDLE), Velocity(RIGHT), Angle(STABILIZING_LEFT)),\n 0,\n (Position(MIDDLE), Velocity(RIGHT), Angle(FALLING_RIGHT)),\n 1,\n (Position(MIDDLE), Velocity(RIGHT), Angle(STABILIZING_LEFT)),\n 0,\n (Position(MIDDLE), Velocity(RIGHT), Angle(FALLING_RIGHT)),\n 1,\n (Position(MIDDLE), Velocity(RIGHT), Angle(STUCK_RIGHT)),\n 0,\n (Position(MIDDLE), Velocity(RIGHT), Angle(FALLING_RIGHT)),\n 0,\n (Position(MIDDLE), Velocity(RIGHT), Angle(FALLING_RIGHT)),\n 1,\n (Position(MIDDLE), Velocity(RIGHT), Angle(FALLING_RIGHT)),\n 1,\n (Position(MIDDLE), Velocity(RIGHT), Angle(STUCK_RIGHT)),\n 0,\n (Position(MIDDLE), Velocity(RIGHT), Angle(FALLING_RIGHT)),\n 0,\n (Position(MIDDLE), Velocity(RIGHT), Angle(FALLING_RIGHT)),\n 1,\n (Position(MIDDLE), Velocity(RIGHT), Angle(FALLING_RIGHT)),\n 1,\n (Position(MIDDLE), Velocity(RIGHT), Angle(FALLING_RIGHT)),\n 1,\n (Position(MIDDLE), Velocity(RIGHT), Angle(STABILIZING_LEFT)),\n 0,\n (Position(MIDDLE), Velocity(RIGHT), Angle(FALLING_RIGHT)),\n 1,\n (Position(MIDDLE), Velocity(RIGHT), Angle(STUCK_RIGHT)),\n 0,\n (Position(MIDDLE), Velocity(RIGHT), Angle(FALLING_RIGHT)),\n 0,\n (Position(MIDDLE), Velocity(RIGHT), Angle(FALLING_RIGHT)),\n 1,\n (Position(MIDDLE), Velocity(RIGHT), Angle(FALLING_RIGHT)),\n 1,\n (Position(MIDDLE), Velocity(RIGHT), Angle(STUCK_RIGHT)),\n 0,\n (Position(MIDDLE), Velocity(RIGHT), Angle(FALLING_RIGHT)),\n 1,\n (Position(MIDDLE), Velocity(RIGHT), Angle(FALLING_RIGHT)),\n 0,\n (Position(MIDDLE), Velocity(RIGHT), Angle(FALLING_RIGHT)),\n 1,\n (Position(MIDDLE), Velocity(RIGHT), Angle(FALLING_RIGHT)),\n 1,\n (Position(MIDDLE), Velocity(RIGHT), Angle(STUCK_RIGHT)),\n 0,\n (Position(MIDDLE), Velocity(RIGHT), Angle(FALLING_RIGHT)),\n 0,\n (Position(MIDDLE), Velocity(RIGHT), Angle(FALLING_RIGHT)),\n 1,\n (Position(MIDDLE), Velocity(RIGHT), Angle(FALLING_RIGHT)),\n 0,\n (Position(MIDDLE), Velocity(RIGHT), Angle(FALLING_RIGHT)),\n 0,\n (Position(MIDDLE), Velocity(RIGHT), Angle(FALLING_RIGHT)),\n 1,\n (Position(MIDDLE), Velocity(RIGHT), Angle(FALLING_RIGHT))]"
     },
     "execution_count": 13,
     "metadata": {},
     "output_type": "execute_result"
    }
   ],
   "source": [
    "pg._trajectories_of_last_fit[0]"
   ]
  },
  {
   "cell_type": "markdown",
   "metadata": {},
   "source": [
    "## Loading and saving Policy Graphs"
   ]
  },
  {
   "cell_type": "markdown",
   "metadata": {},
   "source": [
    "### Pickle\n",
    "\n",
    "Saving as pickle lets you restore the full state of the object."
   ]
  },
  {
   "cell_type": "code",
   "execution_count": 14,
   "metadata": {
    "ExecuteTime": {
     "end_time": "2023-12-16T19:00:40.603692Z",
     "start_time": "2023-12-16T19:00:40.432715Z"
    }
   },
   "outputs": [],
   "source": [
    "pg.save('pickle', './ppo-cartpole.pickle')"
   ]
  },
  {
   "cell_type": "code",
   "execution_count": 15,
   "metadata": {
    "ExecuteTime": {
     "end_time": "2023-12-16T19:00:41.059455Z",
     "start_time": "2023-12-16T19:00:40.604398Z"
    }
   },
   "outputs": [
    {
     "name": "stdout",
     "output_type": "stream",
     "text": [
      "Number of nodes:             14\n",
      "Number of edges:             136\n",
      "Num. of stored trajectories: 200\n"
     ]
    }
   ],
   "source": [
    "pg_pickle = PolicyGraph.from_pickle('./ppo-cartpole.pickle')\n",
    "\n",
    "print(f'Number of nodes:             {len(pg_pickle.nodes)}')\n",
    "print(f'Number of edges:             {len(pg_pickle.edges)}')\n",
    "print(f'Num. of stored trajectories: {len(pg._trajectories_of_last_fit)}')"
   ]
  },
  {
   "cell_type": "markdown",
   "metadata": {},
   "source": [
    "### CSV\n",
    "\n",
    "Saving as CSV creates three separated CSV files for node, edge and trajectory information."
   ]
  },
  {
   "cell_type": "code",
   "execution_count": 16,
   "metadata": {
    "ExecuteTime": {
     "end_time": "2023-12-16T19:00:41.062608Z",
     "start_time": "2023-12-16T19:00:41.060477Z"
    }
   },
   "outputs": [],
   "source": [
    "import csv"
   ]
  },
  {
   "cell_type": "code",
   "execution_count": 17,
   "metadata": {
    "ExecuteTime": {
     "end_time": "2023-12-16T19:00:41.233587Z",
     "start_time": "2023-12-16T19:00:41.063674Z"
    }
   },
   "outputs": [],
   "source": [
    "pg.save('csv', ['./ppo-cartpole_nodes.csv', './ppo-cartpole_edges.csv', './ppo-cartpole_trajectories.csv'])"
   ]
  },
  {
   "cell_type": "code",
   "execution_count": 18,
   "metadata": {
    "ExecuteTime": {
     "end_time": "2023-12-16T19:00:41.237209Z",
     "start_time": "2023-12-16T19:00:41.234337Z"
    }
   },
   "outputs": [
    {
     "name": "stdout",
     "output_type": "stream",
     "text": [
      "['id', 'value', 'p(s)', 'frequency']\n",
      "['0', 'Position(MIDDLE)&Velocity(LEFT)&Angle(FALLING_LEFT)', '0.004879342349509414', '184']\n",
      "['1', 'Position(MIDDLE)&Velocity(RIGHT)&Angle(STABILIZING_LEFT)', '0.2239459029435163', '8445']\n",
      "['2', 'Position(MIDDLE)&Velocity(LEFT)&Angle(STABILIZING_RIGHT)', '0.07340228056218509', '2768']\n",
      "['3', 'Position(MIDDLE)&Velocity(RIGHT)&Angle(FALLING_LEFT)', '0.06070007955449483', '2289']\n",
      "['4', 'Position(MIDDLE)&Velocity(LEFT)&Angle(STUCK_LEFT)', '0.024051975603288252', '907']\n",
      "['5', 'Position(MIDDLE)&Velocity(LEFT)&Angle(STUCK_RIGHT)', '0.03898170246618934', '1470']\n",
      "['6', 'Position(MIDDLE)&Velocity(LEFT)&Angle(FALLING_RIGHT)', '0.12686290108724477', '4784']\n",
      "['7', 'Position(MIDDLE)&Velocity(RIGHT)&Angle(STUCK_RIGHT)', '0.16727658446035534', '6308']\n",
      "['8', 'Position(MIDDLE)&Velocity(LEFT)&Angle(STABILIZING_LEFT)', '0.005118005833996287', '193']\n"
     ]
    }
   ],
   "source": [
    "with open('ppo-cartpole_nodes.csv', 'r+') as f:\n",
    "    csv_r = csv.reader(f)\n",
    "    for i in range(10):\n",
    "        print(next(csv_r))"
   ]
  },
  {
   "cell_type": "markdown",
   "metadata": {},
   "source": [
    "Edges and trajectories use the IDs of the nodes, from the corresponding node CSV file."
   ]
  },
  {
   "cell_type": "code",
   "execution_count": 19,
   "metadata": {
    "ExecuteTime": {
     "end_time": "2023-12-16T19:00:41.241575Z",
     "start_time": "2023-12-16T19:00:41.238455Z"
    }
   },
   "outputs": [
    {
     "name": "stdout",
     "output_type": "stream",
     "text": [
      "['from', 'to', 'action', 'p(s)', 'frequency']\n",
      "['0', '3', '1', '0.04891304347826087', '9']\n",
      "['0', '2', '0', '0.6847826086956522', '126']\n",
      "['0', '4', '0', '0.2554347826086957', '47']\n",
      "['0', '0', '1', '0.005434782608695652', '1']\n",
      "['0', '0', '0', '0.005434782608695652', '1']\n",
      "['1', '5', '0', '0.06052351060049745', '511']\n",
      "['1', '6', '0', '0.08930474949662442', '754']\n",
      "['1', '7', '0', '0.31126376880255835', '2628']\n",
      "['1', '9', '0', '0.17150302025346442', '1448']\n"
     ]
    }
   ],
   "source": [
    "with open('ppo-cartpole_edges.csv', 'r+') as f:\n",
    "    csv_r = csv.reader(f)\n",
    "    for i in range(10):\n",
    "        print(next(csv_r))"
   ]
  },
  {
   "cell_type": "markdown",
   "metadata": {},
   "source": [
    "Each trajectory is stored as a series of (state0, action0, state1, ..., stateN) lists"
   ]
  },
  {
   "cell_type": "code",
   "execution_count": 20,
   "metadata": {
    "ExecuteTime": {
     "end_time": "2023-12-16T19:00:41.245788Z",
     "start_time": "2023-12-16T19:00:41.242035Z"
    }
   },
   "outputs": [
    {
     "name": "stdout",
     "output_type": "stream",
     "text": [
      "['4', '1', '3', '0', '4', '0', '2', '1', '0', '1', '3', '0', '0', '0', '2', '1', '0', '0', '4', '1', '0', '0', '4', '1', '0', '0', '4', '0', '2', '1', '4', '0', '2', '0', '2', '1', '2', '0', '2', '1', '2', '0', '2', '1', '2', '1', '0', '0', '2', '0', '2', '1', '4', '0', '2', '1', '4', '0', '2', '0', '2', '1', '6', '1', '5', '0', '6', '1', '5', '1', '8', '0', '6', '1', '8', '0', '6', '1', '8', '0', '6', '0', '6', '1', '6', '1', '8', '0', '6', '1', '8', '0', '6', '1', '5', '0', '6', '0', '6', '1', '6', '1', '5', '0', '6', '1', '5', '0', '6', '1', '5', '0', '6', '1', '5', '1', '8', '0', '6', '1', '8', '0', '6', '0', '6', '1', '6', '1', '5', '0', '6', '1', '5', '1', '1', '0', '5', '1', '1', '0', '6', '1', '1', '0', '6', '1', '1', '0', '6', '1', '7', '1', '1', '0', '7', '0', '6', '1', '7', '1', '1', '0', '7', '1', '1', '0', '9', '1', '1', '1', '1', '0', '7', '0', '9', '1', '7', '0', '9', '1', '7', '0', '9', '1', '7', '1', '1', '0', '9', '0', '9', '1', '9', '1', '1', '1', '1', '0', '7', '1', '1', '1', '1', '0', '1', '0', '7', '1', '1', '0', '7', '1', '1', '0', '9', '1', '1', '0', '9', '1', '1', '0', '9', '1', '7', '0', '9', '0', '9', '1', '9', '1', '7', '0', '9', '0', '9', '1', '9', '1', '9', '1', '1', '0', '9', '1', '7', '0', '9', '0', '9', '1', '9', '1', '7', '0', '9', '1', '9', '0', '9', '1', '9', '1', '7', '0', '9', '0', '9', '1', '9', '0', '9', '0', '9', '1', '9']\n"
     ]
    }
   ],
   "source": [
    "with open('ppo-cartpole_trajectories.csv', 'r+') as f:\n",
    "    csv_r = csv.reader(f)\n",
    "    for i in range(1):\n",
    "        print(next(csv_r))"
   ]
  },
  {
   "cell_type": "markdown",
   "metadata": {},
   "source": [
    "There are two ways of loading Policy Graphs from CSV files. When loading from nodes and edges, though, episode trajectories cannot be restored."
   ]
  },
  {
   "cell_type": "code",
   "execution_count": 21,
   "metadata": {
    "ExecuteTime": {
     "end_time": "2023-12-16T19:00:42.161633Z",
     "start_time": "2023-12-16T19:00:41.245497Z"
    }
   },
   "outputs": [
    {
     "name": "stdout",
     "output_type": "stream",
     "text": [
      "Number of nodes:             14\n",
      "Number of edges:             136\n",
      "Num. of stored trajectories: 200\n"
     ]
    }
   ],
   "source": [
    "pg_csv = PolicyGraph.from_nodes_and_trajectories('./ppo-cartpole_nodes.csv', './ppo-cartpole_trajectories.csv',\n",
    "                                          environment, discretizer)\n",
    "print(f'Number of nodes:             {len(pg_csv.nodes)}')\n",
    "print(f'Number of edges:             {len(pg_csv.edges)}')\n",
    "print(f'Num. of stored trajectories: {len(pg_csv._trajectories_of_last_fit)}')"
   ]
  },
  {
   "cell_type": "code",
   "execution_count": 22,
   "metadata": {
    "ExecuteTime": {
     "end_time": "2023-12-16T19:00:42.169319Z",
     "start_time": "2023-12-16T19:00:42.162097Z"
    }
   },
   "outputs": [
    {
     "name": "stdout",
     "output_type": "stream",
     "text": [
      "Number of nodes:             14\n",
      "Number of edges:             136\n",
      "Num. of stored trajectories: 0\n"
     ]
    }
   ],
   "source": [
    "pg_csv = PolicyGraph.from_nodes_and_edges('./ppo-cartpole_nodes.csv', './ppo-cartpole_edges.csv',\n",
    "                                          environment, discretizer)\n",
    "print(f'Number of nodes:             {len(pg_csv.nodes)}')\n",
    "print(f'Number of edges:             {len(pg_csv.edges)}')\n",
    "print(f'Num. of stored trajectories: {len(pg_csv._trajectories_of_last_fit)}')"
   ]
  },
  {
   "cell_type": "markdown",
   "metadata": {},
   "source": [
    "### Gram\n",
    "\n",
    "PGs can also be exported to the [gram](https://neo4j.com/developer-blog/gram-a-data-graph-format/) format, allowing visualization using Neo4j. Episode trajectories cannot be stored in this format, though.\n",
    "\n",
    "PGs currently cannot be loaded from a Gram file."
   ]
  },
  {
   "cell_type": "code",
   "execution_count": 23,
   "metadata": {
    "ExecuteTime": {
     "end_time": "2023-12-16T19:00:42.179020Z",
     "start_time": "2023-12-16T19:00:42.169859Z"
    }
   },
   "outputs": [],
   "source": [
    "pg.save('gram', './ppo-cartpole.gram')"
   ]
  },
  {
   "cell_type": "code",
   "execution_count": 24,
   "metadata": {
    "ExecuteTime": {
     "end_time": "2023-12-16T19:00:42.364896Z",
     "start_time": "2023-12-16T19:00:42.179966Z"
    }
   },
   "outputs": [
    {
     "name": "stdout",
     "output_type": "stream",
     "text": [
      "\r\n",
      "CREATE (s0:State {\r\n",
      "  uid: \"s0\",\r\n",
      "  value: \"Position(MIDDLE)&Velocity(LEFT)&Angle(FALLING_LEFT)\",\r\n",
      "  probability: 0.004879342349509414, \r\n",
      "  frequency:184\r\n",
      "});\r\n",
      "CREATE (s1:State {\r\n",
      "  uid: \"s1\",\r\n",
      "  value: \"Position(MIDDLE)&Velocity(RIGHT)&Angle(STABILIZING_LEFT)\",\r\n"
     ]
    }
   ],
   "source": [
    "!head ./ppo-cartpole.gram"
   ]
  },
  {
   "cell_type": "code",
   "execution_count": 25,
   "metadata": {
    "ExecuteTime": {
     "end_time": "2023-12-16T19:00:42.560867Z",
     "start_time": "2023-12-16T19:00:42.366790Z"
    }
   },
   "outputs": [
    {
     "name": "stdout",
     "output_type": "stream",
     "text": [
      "MATCH (s13:State) WHERE s13.uid = \"s13\" MATCH (s9:State) WHERE s9.uid = \"s9\" CREATE (s13)-[:a1 {probability:0.05405405405405406, frequency:8}]->(s9);\r\n",
      "MATCH (s13:State) WHERE s13.uid = \"s13\" MATCH (s6:State) WHERE s6.uid = \"s6\" CREATE (s13)-[:a0 {probability:0.14864864864864866, frequency:22}]->(s6);\r\n",
      "MATCH (s13:State) WHERE s13.uid = \"s13\" MATCH (s6:State) WHERE s6.uid = \"s6\" CREATE (s13)-[:a1 {probability:0.0945945945945946, frequency:14}]->(s6);\r\n",
      "MATCH (s13:State) WHERE s13.uid = \"s13\" MATCH (s7:State) WHERE s7.uid = \"s7\" CREATE (s13)-[:a1 {probability:0.20945945945945946, frequency:31}]->(s7);\r\n",
      "MATCH (s13:State) WHERE s13.uid = \"s13\" MATCH (s4:State) WHERE s4.uid = \"s4\" CREATE (s13)-[:a0 {probability:0.02027027027027027, frequency:3}]->(s4);\r\n",
      "MATCH (s13:State) WHERE s13.uid = \"s13\" MATCH (s5:State) WHERE s5.uid = \"s5\" CREATE (s13)-[:a1 {probability:0.12837837837837837, frequency:19}]->(s5);\r\n",
      "MATCH (s13:State) WHERE s13.uid = \"s13\" MATCH (s13:State) WHERE s13.uid = \"s13\" CREATE (s13)-[:a0 {probability:0.02702702702702703, frequency:4}]->(s13);\r\n",
      "MATCH (s13:State) WHERE s13.uid = \"s13\" MATCH (s13:State) WHERE s13.uid = \"s13\" CREATE (s13)-[:a1 {probability:0.006756756756756757, frequency:1}]->(s13);\r\n",
      "MATCH (s13:State) WHERE s13.uid = \"s13\" MATCH (s10:State) WHERE s10.uid = \"s10\" CREATE (s13)-[:a1 {probability:0.02702702702702703, frequency:4}]->(s10);\r\n",
      "MATCH (s13:State) WHERE s13.uid = \"s13\" MATCH (s1:State) WHERE s1.uid = \"s1\" CREATE (s13)-[:a1 {probability:0.1891891891891892, frequency:28}]->(s1);"
     ]
    }
   ],
   "source": [
    "!tail ./ppo-cartpole.gram"
   ]
  },
  {
   "cell_type": "markdown",
   "metadata": {},
   "source": [
    "## Using PG-based policies\n",
    "\n",
    "Using the `PGBasedPolicy`, we can create policies that replicate an agent's behavior, based on their generated Policy Graph. These policies are subclasses of the `pgeon.Agent` class.\n",
    "\n",
    "The policy mode (greedy/stochastic) can be specified via the `PGBasedPolicyMode` enum. The behavior when encountering an unknown node (select random action/search nearest node in PG) can be specified via the `PGBasedPolicyNodeNotFoundMode` enum."
   ]
  },
  {
   "cell_type": "code",
   "execution_count": 26,
   "metadata": {
    "ExecuteTime": {
     "end_time": "2023-12-16T19:00:42.573184Z",
     "start_time": "2023-12-16T19:00:42.561017Z"
    }
   },
   "outputs": [],
   "source": [
    "from pgeon import PGBasedPolicy, PGBasedPolicyMode, PGBasedPolicyNodeNotFoundMode"
   ]
  },
  {
   "cell_type": "code",
   "execution_count": 27,
   "metadata": {
    "ExecuteTime": {
     "end_time": "2023-12-16T19:00:42.575488Z",
     "start_time": "2023-12-16T19:00:42.561178Z"
    }
   },
   "outputs": [],
   "source": [
    "policy = PGBasedPolicy(pg, mode=PGBasedPolicyMode.GREEDY,\n",
    "                       node_not_found_mode=PGBasedPolicyNodeNotFoundMode.RANDOM_UNIFORM)"
   ]
  },
  {
   "cell_type": "code",
   "execution_count": 28,
   "metadata": {
    "ExecuteTime": {
     "end_time": "2023-12-16T19:00:42.575656Z",
     "start_time": "2023-12-16T19:00:42.573297Z"
    }
   },
   "outputs": [
    {
     "name": "stdout",
     "output_type": "stream",
     "text": [
      "Observed state:  [ 0.00483929  0.04979198 -0.02431643 -0.04302176]\n",
      "Discretization:  (Position(MIDDLE), Velocity(RIGHT), Angle(STUCK_LEFT))\n",
      "Selected action: 0\n"
     ]
    }
   ],
   "source": [
    "obs, _ = environment.reset()\n",
    "action = policy.act(obs)\n",
    "\n",
    "print(f'Observed state:  {obs}')\n",
    "print(f'Discretization:  {policy.pg.discretizer.discretize(obs)}')\n",
    "print(f'Selected action: {action}')"
   ]
  },
  {
   "cell_type": "markdown",
   "metadata": {},
   "source": [
    "## Implementing new Discretizers\n",
    "\n",
    "In order to generate Policy Graphs using a certain environment, a Discretizer that transforms the state into a series of predicates has to be implemented by creating a class that inherits from `pgeon.Discretizer` and implements all its abstract methods."
   ]
  },
  {
   "cell_type": "code",
   "execution_count": 29,
   "metadata": {
    "ExecuteTime": {
     "end_time": "2023-12-16T19:00:42.575703Z",
     "start_time": "2023-12-16T19:00:42.573480Z"
    }
   },
   "outputs": [],
   "source": [
    "from enum import Enum, auto\n",
    "\n",
    "from pgeon import Predicate"
   ]
  },
  {
   "cell_type": "markdown",
   "metadata": {},
   "source": [
    "Firstly, a set of predicates and their values has to be decided. In this case we use three: the cartpole's `Position` (is the cart in the middle, left or right?) and `Velocity` (is the cart moving left or right?), and the state of its pole (`Angle`, meaning the pole is standing, falling to one side, stabilizing...).\n",
    "\n",
    "Each of the predicates and its possible values are represented as an enum."
   ]
  },
  {
   "cell_type": "code",
   "execution_count": 30,
   "metadata": {
    "ExecuteTime": {
     "end_time": "2023-12-16T19:00:42.575735Z",
     "start_time": "2023-12-16T19:00:42.573515Z"
    }
   },
   "outputs": [],
   "source": [
    "class Position(Enum):\n",
    "    LEFT = auto()\n",
    "    MIDDLE = auto()\n",
    "    RIGHT = auto()\n",
    "\n",
    "class Velocity(Enum):\n",
    "    LEFT = auto()\n",
    "    RIGHT = auto()\n",
    "\n",
    "class Angle(Enum):\n",
    "    STANDING = auto()\n",
    "    STUCK_LEFT = auto()\n",
    "    STUCK_RIGHT = auto()\n",
    "    FALLING_LEFT = auto()\n",
    "    FALLING_RIGHT = auto()\n",
    "    STABILIZING_LEFT = auto()\n",
    "    STABILIZING_RIGHT = auto()"
   ]
  },
  {
   "cell_type": "markdown",
   "metadata": {},
   "source": [
    "This is an example of a state as a set of predicates. Note that a predicate accepts an ordered list of values (e.g. `[Position.LEFT, Velocity.RIGHT]`), as some environments benefit from that level of description."
   ]
  },
  {
   "cell_type": "code",
   "execution_count": 31,
   "metadata": {
    "ExecuteTime": {
     "end_time": "2023-12-16T19:00:42.575829Z",
     "start_time": "2023-12-16T19:00:42.573547Z"
    }
   },
   "outputs": [
    {
     "data": {
      "text/plain": "(Position(LEFT), Velocity(LEFT), Angle(STABILIZING_RIGHT))"
     },
     "execution_count": 31,
     "metadata": {},
     "output_type": "execute_result"
    }
   ],
   "source": [
    "Predicate(Position, [Position.LEFT]), Predicate(Velocity, [Velocity.LEFT]), Predicate(Angle, [Angle.STABILIZING_RIGHT])"
   ]
  },
  {
   "cell_type": "markdown",
   "metadata": {},
   "source": [
    "A discretizer class needs to implement the following methods:\n",
    "\n",
    "- `discretize(self, state)`: Converts an environment's raw observation into a discretized state.\n",
    "- `state_to_str(self, state) -> str`: Converts a discrete state into a string (used in serialization).\n",
    "- `str_to_state(self, state: str)`: Converts a string representing a state into said state (used in serialization).\n",
    "- `nearest_state(self, state)`: A generator function that, given a certain discrete state, yields the nearest discrete states, in order. The distance heuristic is left to the implementer.\n",
    "\n",
    "This is an example use of these methods:"
   ]
  },
  {
   "cell_type": "code",
   "execution_count": 32,
   "metadata": {
    "ExecuteTime": {
     "end_time": "2023-12-16T19:00:42.575865Z",
     "start_time": "2023-12-16T19:00:42.573671Z"
    }
   },
   "outputs": [],
   "source": [
    "obs, _ = environment.reset()\n",
    "discretized_obs = discretizer.discretize(obs)\n",
    "str_obs = discretizer.state_to_str(discretized_obs)\n",
    "str_to_state = discretizer.str_to_state(str_obs)"
   ]
  },
  {
   "cell_type": "code",
   "execution_count": 33,
   "metadata": {
    "ExecuteTime": {
     "end_time": "2023-12-16T19:00:42.579161Z",
     "start_time": "2023-12-16T19:00:42.576597Z"
    }
   },
   "outputs": [
    {
     "name": "stdout",
     "output_type": "stream",
     "text": [
      "Observed state:  [-0.01459135 -0.01986943  0.04615097  0.04219142]\n",
      "Discretization:  (Position(MIDDLE), Velocity(LEFT), Angle(STUCK_RIGHT))\n",
      "State to str:    Position(MIDDLE)&Velocity(LEFT)&Angle(STUCK_RIGHT)\n",
      "Str to state:    (Position(MIDDLE), Velocity(LEFT), Angle(STUCK_RIGHT))\n"
     ]
    }
   ],
   "source": [
    "print(f'Observed state:  {obs}')\n",
    "print(f'Discretization:  {discretized_obs}')\n",
    "print(f'State to str:    {str_obs}')\n",
    "print(f'Str to state:    {str_to_state}')"
   ]
  },
  {
   "cell_type": "code",
   "execution_count": 34,
   "outputs": [
    {
     "name": "stdout",
     "output_type": "stream",
     "text": [
      "From (Position(MIDDLE), Velocity(LEFT), Angle(STUCK_RIGHT)), I will take one of these actions:\n",
      "\t-> RIGHT \tProb: 50.2 %\n",
      "\t-> LEFT \tProb: 49.8 %\n"
     ]
    }
   ],
   "source": [
    "possible_actions = pg.question1(discretized_obs)\n",
    "\n",
    "print(f'From {discretized_obs}, I will take one of these actions:')\n",
    "for action, prob in possible_actions:\n",
    "    print('\\t->', action.name, '\\tProb:', round(prob * 100, 2), '%')"
   ],
   "metadata": {
    "collapsed": false,
    "ExecuteTime": {
     "end_time": "2023-12-16T19:00:42.638429Z",
     "start_time": "2023-12-16T19:00:42.580304Z"
    }
   }
  },
  {
   "cell_type": "code",
   "execution_count": 35,
   "outputs": [
    {
     "name": "stdout",
     "output_type": "stream",
     "text": [
      "I will perform action 0 in these states:\n",
      "(Position(MIDDLE), Velocity(LEFT), Angle(FALLING_LEFT))\n",
      "(Position(MIDDLE), Velocity(RIGHT), Angle(STABILIZING_LEFT))\n",
      "(Position(MIDDLE), Velocity(RIGHT), Angle(FALLING_LEFT))\n",
      "(Position(MIDDLE), Velocity(LEFT), Angle(STUCK_LEFT))\n",
      "(Position(MIDDLE), Velocity(RIGHT), Angle(STANDING))\n",
      "(Position(MIDDLE), Velocity(LEFT), Angle(STUCK_RIGHT))\n",
      "(Position(MIDDLE), Velocity(RIGHT), Angle(STUCK_LEFT))\n",
      "(Position(MIDDLE), Velocity(LEFT), Angle(STABILIZING_LEFT))\n"
     ]
    }
   ],
   "source": [
    "best_states = pg.question2(0)\n",
    "print(f'I will perform action {0} in these states:')\n",
    "print('\\n'.join([str(state) for state in best_states]))"
   ],
   "metadata": {
    "collapsed": false,
    "ExecuteTime": {
     "end_time": "2023-12-16T19:00:42.638692Z",
     "start_time": "2023-12-16T19:00:42.584912Z"
    }
   }
  },
  {
   "cell_type": "code",
   "execution_count": null,
   "outputs": [],
   "source": [
    "print(f'Supposing I was in the middle, moving right, with the pole standing upright, '\n",
    "      f'if I did not choose to move left was due to...')\n",
    "counterfactuals = pg.question3((\n",
    "    Predicate(Position, [Position(Position.MIDDLE)]),\n",
    "    Predicate(Velocity, [Velocity(Velocity.RIGHT)]),\n",
    "    Predicate(Angle, [Angle(Angle.STANDING)])), 0)\n",
    "for ct in counterfactuals:\n",
    "    print(f'...{\" and \".join([str(i[0]) + \" -> \" + str(i[1]) for i in ct.values()])}')"
   ],
   "metadata": {
    "collapsed": false
   }
  }
 ],
 "metadata": {
  "kernelspec": {
   "display_name": "Python 3 (ipykernel)",
   "language": "python",
   "name": "python3"
  },
  "language_info": {
   "codemirror_mode": {
    "name": "ipython",
    "version": 3
   },
   "file_extension": ".py",
   "mimetype": "text/x-python",
   "name": "python",
   "nbconvert_exporter": "python",
   "pygments_lexer": "ipython3",
   "version": "3.8.0"
  }
 },
 "nbformat": 4,
 "nbformat_minor": 4
}
